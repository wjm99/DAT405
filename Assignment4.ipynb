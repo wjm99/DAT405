{
 "cells": [
  {
   "cell_type": "markdown",
   "metadata": {
    "id": "-sTsDfIVKsmL"
   },
   "source": [
    "#DAT405 Introduction to Data Science and AI \n",
    "##2022-2023, Reading Period 1\n",
    "## Assignment 4: Spam classification using Naïve Bayes \n",
    "### Muyao Dai -- 9 hours\n",
    "### Jinming Wei -- 8 hours\n",
    "There will be an overall grade for this assignment. To get a pass grade (grade 5), you need to pass items 1-3 below. To receive higher grades, finish items 4 and 5 as well. \n",
    "\n",
    "The exercise takes place in a notebook environment where you can chose to use Jupyter or Google Colabs. We recommend you use Google Colabs as it will facilitate remote group-work and makes the assignment less technical. \n",
    "Hints:\n",
    "You can execute certain linux shell commands by prefixing the command with `!`. You can insert Markdown cells and code cells. The first you can use for documenting and explaining your results the second you can use writing code snippets that execute the tasks required.  \n",
    "\n",
    "In this assignment you will implement a Naïve Bayes classifier in Python that will classify emails into spam and non-spam (“ham”) classes.  Your program should be able to train on a given set of spam and “ham” datasets. \n",
    "You will work with the datasets available at https://spamassassin.apache.org/old/publiccorpus/. There are three types of files in this location: \n",
    "-\teasy-ham: non-spam messages typically quite easy to differentiate from spam messages. \n",
    "-\thard-ham: non-spam messages more difficult to differentiate \n",
    "-\tspam: spam messages \n",
    "\n",
    "**Execute the cell below to download and extract the data into the environment of the notebook -- it will take a few seconds.** If you chose to use Jupyter notebooks you will have to run the commands in the cell below on your local computer, with Windows you can use \n",
    "7zip (https://www.7-zip.org/download.html) to decompress the data.\n",
    "\n"
   ]
  },
  {
   "cell_type": "code",
   "execution_count": 13,
   "metadata": {
    "colab": {
     "base_uri": "https://localhost:8080/"
    },
    "id": "Wa37fBwRF-xe",
    "outputId": "4c93f43e-ca46-40f5-cdab-ecfb416c3188"
   },
   "outputs": [
    {
     "name": "stdout",
     "output_type": "stream",
     "text": [
      "--2022-09-27 19:06:00--  https://spamassassin.apache.org/old/publiccorpus/20021010_easy_ham.tar.bz2\n",
      "Resolving spamassassin.apache.org (spamassassin.apache.org)... 151.101.2.132, 2a04:4e42::644\n",
      "Connecting to spamassassin.apache.org (spamassassin.apache.org)|151.101.2.132|:443... connected.\n",
      "HTTP request sent, awaiting response... 200 OK\n",
      "Length: 1677144 (1.6M) [application/x-bzip2]\n",
      "Saving to: ‘20021010_easy_ham.tar.bz2.2’\n",
      "\n",
      "\r",
      "          20021010_   0%[                    ]       0  --.-KB/s               \r",
      "20021010_easy_ham.t 100%[===================>]   1.60M  --.-KB/s    in 0.02s   \n",
      "\n",
      "2022-09-27 19:06:00 (64.8 MB/s) - ‘20021010_easy_ham.tar.bz2.2’ saved [1677144/1677144]\n",
      "\n",
      "--2022-09-27 19:06:00--  https://spamassassin.apache.org/old/publiccorpus/20021010_hard_ham.tar.bz2\n",
      "Resolving spamassassin.apache.org (spamassassin.apache.org)... 151.101.2.132, 2a04:4e42::644\n",
      "Connecting to spamassassin.apache.org (spamassassin.apache.org)|151.101.2.132|:443... connected.\n",
      "HTTP request sent, awaiting response... 200 OK\n",
      "Length: 1021126 (997K) [application/x-bzip2]\n",
      "Saving to: ‘20021010_hard_ham.tar.bz2.2’\n",
      "\n",
      "20021010_hard_ham.t 100%[===================>] 997.19K  --.-KB/s    in 0.02s   \n",
      "\n",
      "2022-09-27 19:06:00 (52.2 MB/s) - ‘20021010_hard_ham.tar.bz2.2’ saved [1021126/1021126]\n",
      "\n",
      "--2022-09-27 19:06:01--  https://spamassassin.apache.org/old/publiccorpus/20021010_spam.tar.bz2\n",
      "Resolving spamassassin.apache.org (spamassassin.apache.org)... 151.101.2.132, 2a04:4e42::644\n",
      "Connecting to spamassassin.apache.org (spamassassin.apache.org)|151.101.2.132|:443... connected.\n",
      "HTTP request sent, awaiting response... 200 OK\n",
      "Length: 1192582 (1.1M) [application/x-bzip2]\n",
      "Saving to: ‘20021010_spam.tar.bz2.2’\n",
      "\n",
      "20021010_spam.tar.b 100%[===================>]   1.14M  --.-KB/s    in 0.02s   \n",
      "\n",
      "2022-09-27 19:06:01 (55.6 MB/s) - ‘20021010_spam.tar.bz2.2’ saved [1192582/1192582]\n",
      "\n"
     ]
    }
   ],
   "source": [
    "#Download and extract data\n",
    "!wget https://spamassassin.apache.org/old/publiccorpus/20021010_easy_ham.tar.bz2\n",
    "!wget https://spamassassin.apache.org/old/publiccorpus/20021010_hard_ham.tar.bz2\n",
    "!wget https://spamassassin.apache.org/old/publiccorpus/20021010_spam.tar.bz2\n",
    "!tar -xjf 20021010_easy_ham.tar.bz2\n",
    "!tar -xjf 20021010_hard_ham.tar.bz2\n",
    "!tar -xjf 20021010_spam.tar.bz2"
   ]
  },
  {
   "cell_type": "markdown",
   "metadata": {
    "id": "tdH1XTepLjZ3"
   },
   "source": [
    "*The* data is now in the three folders `easy_ham`, `hard_ham`, and `spam`."
   ]
  },
  {
   "cell_type": "markdown",
   "metadata": {
    "id": "DGlWPVnSNzT7"
   },
   "source": [
    "###1. Preprocessing: \n",
    "1.\tNote that the email files contain a lot of extra information, besides the actual message. Ignore that for now and run on the entire text. Further down (in the higher-grade part), you will be asked to filter out the headers and footers. \n",
    "2.\tWe don’t want to train and test on the same data. Split the spam and the ham datasets in a training set and a test set. (`hamtrain`, `spamtrain`, `hamtest`, and `spamtest`)\n"
   ]
  },
  {
   "cell_type": "code",
   "execution_count": 27,
   "metadata": {
    "colab": {
     "base_uri": "https://localhost:8080/"
    },
    "id": "J2sllUWXKblD",
    "outputId": "25a927f0-120b-472b-a3da-8b32693a461d"
   },
   "outputs": [
    {
     "name": "stdout",
     "output_type": "stream",
     "text": [
      "Easy Ham Occurences:  2410\n",
      "Ommitted from Easy Ham:  141\n",
      "Hard Ham Occurences:  221\n",
      "Ommitted from Hard Ham:  29\n",
      "Spam Occurences:  418\n",
      "Ommitted from Spam:  83\n"
     ]
    }
   ],
   "source": [
    "#pre-processing code here\n",
    "# !ls -lah\n",
    "import os, sys\n",
    "import pandas as pd\n",
    "import numpy as np\n",
    "from sklearn.model_selection import train_test_split\n",
    "\n",
    "ROOT_DIR = '/content/' \n",
    "\n",
    "# for directories, subdirs, files in os.walk(ROOT_DIR):\n",
    "#     print (directories, subdirs,len(files))\n",
    "\n",
    "easy_ham_path = '/content/easy_ham' \n",
    "hard_ham_path = '/content/hard_ham'\n",
    "spam_path = '/content/spam'\n",
    "\n",
    "easy_ham_list = []\n",
    "hard_ham_list = []\n",
    "spam_list = []\n",
    "count, easy_ham_count , hard_ham_count = 0, 0, 0\n",
    "\n",
    "for directories, subdirs, files in os.walk(ROOT_DIR):\n",
    "    if (directories  == easy_ham_path):\n",
    "        for filename in files:  \n",
    "            try:\n",
    "                with open(os.path.join(directories, filename)) as f:\n",
    "                    data = f.read()\n",
    "                    easy_ham_list.append(data)\n",
    "                    f.close()\n",
    "            except:\n",
    "                easy_ham_count += 1           \n",
    "    if (directories  == hard_ham_path):\n",
    "        for filename in files:  \n",
    "            try:\n",
    "                with open(os.path.join(directories, filename)) as f:\n",
    "                    data = f.read()\n",
    "                    hard_ham_list.append(data)\n",
    "            except:\n",
    "                hard_ham_count += 1\n",
    "    if (directories  == spam_path):\n",
    "        for filename in files:\n",
    "            try:\n",
    "                with open(os.path.join(directories, filename)) as f:\n",
    "                    data = f.read()\n",
    "                    spam_list.append(data)\n",
    "            except:\n",
    "                count+=1\n",
    "\n",
    "print(\"Easy Ham Occurences: \", len(easy_ham_list))\n",
    "print(\"Ommitted from Easy Ham: \", easy_ham_count)\n",
    "print(\"Hard Ham Occurences: \", len(hard_ham_list))\n",
    "print(\"Ommitted from Hard Ham: \", hard_ham_count)\n",
    "print(\"Spam Occurences: \", len(spam_list))\n",
    "print(\"Ommitted from Spam: \", count)\n",
    "\n",
    "\n",
    "df_easy = pd.DataFrame()\n",
    "df_hard = pd.DataFrame()\n",
    "df_spam = pd.DataFrame()\n",
    "df_easy['text'] = pd.DataFrame(easy_ham_list)\n",
    "df_easy['label'] = 'easy ham'\n",
    "df_hard['text'] = pd.DataFrame(hard_ham_list)\n",
    "df_hard['label'] = 'hard ham'\n",
    "df_spam['text'] = pd.DataFrame(spam_list)\n",
    "df_spam['label'] = 'spam'\n",
    "\n",
    "df = pd.concat([df_easy, df_hard, df_spam])\n",
    "df['numeric label'] = df.label.map({'easy ham':0, 'hard ham':0, 'spam':1})\n",
    "\n",
    "ham = df[df['numeric label'] != 1]\n",
    "spam = df[df['numeric label'] == 1]\n",
    "easy_spam = df[df['label'] != 'hard ham']\n",
    "hard_spam = df[df['label'] != 'easy ham']\n",
    "\n",
    "hamtrain, hamtest, y1_train, y1_test = train_test_split(ham['text'], ham['numeric label'], test_size=0.2, random_state=42)\n",
    "spamtrain, spamtest, y2_train, y2_test = train_test_split(spam['text'], spam['numeric label'], test_size=0.2, random_state=42)"
   ]
  },
  {
   "cell_type": "markdown",
   "metadata": {
    "id": "uNlPXgCgLTXn"
   },
   "source": [
    "Your discussion here\n",
    "\n",
    "In preprocessing, we first scanned data files to extract 'easy ham', 'hard ham' and 'spam' and then stored them using lists. The we used pandas to build DataFrame accordingly with 3 columns: text, label and numeric label. Afterwards, we used 'train_test_split' imported from sklearn to split data set. In this experiment, we set test_size equal to 0.2. "
   ]
  },
  {
   "cell_type": "markdown",
   "metadata": {
    "id": "mnbrbI0_OKCF"
   },
   "source": [
    "###2. Write a Python program that: \n",
    "1.\tUses four datasets (`hamtrain`, `spamtrain`, `hamtest`, and `spamtest`) \n",
    "2.\tTrains a Naïve Bayes classifier (e.g. Sklearn) on `hamtrain` and `spamtrain`, that classifies the test sets and reports True Positive and False Negative rates on the `hamtest` and `spamtest` datasets. You can use `CountVectorizer` to transform the email texts into vectors. Please note that there are different types of Naïve Bayes Classifier in SKlearn ([Documentation here](https://scikit-learn.org/stable/modules/naive_bayes.html)). Test two of these classifiers that are well suited for this problem\n",
    "- Multinomial Naive Bayes  \n",
    "- Bernoulli Naive Bayes. \n",
    "\n",
    "Please inspect the documentation to ensure input to the classifiers is appropriate. Discuss the differences between these two classifiers. \n",
    "\n",
    "\n",
    "\n"
   ]
  },
  {
   "cell_type": "code",
   "execution_count": 23,
   "metadata": {
    "colab": {
     "base_uri": "https://localhost:8080/"
    },
    "id": "MJERHSCcGNaW",
    "outputId": "748136ca-71f9-4b3f-ddab-5da08c922c07"
   },
   "outputs": [
    {
     "name": "stdout",
     "output_type": "stream",
     "text": [
      "----------------\n",
      "Multinomial Score:0.97545008\n",
      "Multinomial Accuracy Score:0.97545008\n",
      "Multinomial True Positive Rate(Recall Score):0.86904762\n",
      "Multinomial False Negative Rate:0.13095238\n",
      "Bernoulli Score:0.89852700\n",
      "Bernoulli Accuracy Score:0.89852700\n",
      "Bernoulli True Positive Rate(Recall Score):0.29761905\n",
      "Bernoulli False Negative Rate:0.70238095\n"
     ]
    },
    {
     "data": {
      "text/plain": [
       "(array([[523,   4],\n",
       "        [ 11,  73]]), array([[524,   3],\n",
       "        [ 59,  25]]))"
      ]
     },
     "execution_count": 23,
     "metadata": {},
     "output_type": "execute_result"
    }
   ],
   "source": [
    "#Code here\n",
    "from sklearn.naive_bayes import MultinomialNB, BernoulliNB\n",
    "from sklearn.model_selection import cross_val_score\n",
    "from sklearn.feature_extraction.text import CountVectorizer\n",
    "from sklearn.metrics import confusion_matrix, f1_score, precision_score, recall_score, accuracy_score\n",
    "import matplotlib.pyplot as plt\n",
    "\n",
    "\n",
    "X_train = pd.concat([hamtrain, spamtrain])\n",
    "Y_train = pd.concat([y1_train, y2_train])\n",
    "X_test = pd.concat([hamtest, spamtest])\n",
    "Y_test = pd.concat([y1_test, y2_test])\n",
    "\n",
    "cv = CountVectorizer()\n",
    "cv.fit(X_train)\n",
    "X_train = cv.transform(X_train)\n",
    "X_test = cv.transform(X_test)\n",
    "\n",
    "def naive_bayes(x, y, x_test, y_test, Print=True):\n",
    "  dic = {}\n",
    "  mnb = MultinomialNB()\n",
    "  mnb.fit(x, y)\n",
    "  s1 = mnb.score(x_test.toarray(), y_test)\n",
    "  s2 = accuracy_score(y_test, mnb.predict(x_test.toarray()))\n",
    "  dic['Multinomial Score'] = s1\n",
    "  dic['Multinomial Accuracy Score'] = s2\n",
    "  tpr1 = recall_score(y_test, mnb.predict(x_test.toarray()))\n",
    "  dic['Multinomial True Positive Rate(Recall Score)'] = tpr1\n",
    "  dic['Multinomial False Negative Rate'] = 1-tpr1\n",
    "\n",
    "  bnb = BernoulliNB()\n",
    "  bnb.fit(x.toarray(), y)\n",
    "  s3 = bnb.score(x_test.toarray(), y_test)\n",
    "  s4 = accuracy_score(y_test, bnb.predict(x_test.toarray()))\n",
    "  dic['Bernoulli Score'] = s3\n",
    "  dic['Bernoulli Accuracy Score'] = s4\n",
    "  tpr2 = recall_score(y_test, bnb.predict(x_test.toarray()))\n",
    "  dic['Bernoulli True Positive Rate(Recall Score)'] = tpr2\n",
    "  dic['Bernoulli False Negative Rate'] = 1-tpr2\n",
    "\n",
    "  cm_mul = confusion_matrix(y_test, mnb.predict(x_test.toarray()))\n",
    "  cm_ber = confusion_matrix(y_test, bnb.predict(x_test.toarray()))\n",
    "\n",
    "  if Print:\n",
    "    for key, value in dic.items():\n",
    "      print(key + \":\" + '%.8f'%value)\n",
    "  \n",
    "  return cm_mul, cm_ber\n",
    "\n",
    "print('----------------')\n",
    "naive_bayes(X_train, Y_train, X_test, Y_test)\n",
    "\n"
   ]
  },
  {
   "cell_type": "markdown",
   "metadata": {
    "id": "nI1bPDCvQxen"
   },
   "source": [
    "Your discussion here\n",
    "\n",
    "In training and evaluating a Naïve Bayes classifier, we firstly imported needed packages like 'MultinomialNB', BernoulliNB', 'CountVectorizer', 'confusion_matrix', 'f1_score', 'precision_score', 'recall_score' and 'accuracy_score' from sklearn. Then we used 'CountVectorizer' to transform the extracted data into vectors. Then we built 2 types of Naïve Bayes classifiers, Multinomial Naive Bayes and Bernoulli Naive Bayes. Afterwards, we evaluated our classifiers in their score, accuracy, true positive rate and false negative rate."
   ]
  },
  {
   "cell_type": "markdown",
   "metadata": {
    "id": "wDFS3uFFUcS7"
   },
   "source": [
    "### 3.Run your program on \n",
    "-\tSpam versus easy-ham \n",
    "-\tSpam versus hard-ham."
   ]
  },
  {
   "cell_type": "code",
   "execution_count": 46,
   "metadata": {
    "colab": {
     "base_uri": "https://localhost:8080/"
    },
    "id": "gool_zb8Qzzy",
    "outputId": "9e37cc93-8d7f-44a4-f168-9228ce19616f"
   },
   "outputs": [
    {
     "name": "stdout",
     "output_type": "stream",
     "text": [
      "--------Spam versus easy-ham--------\n",
      "Multinomial Score:0.98409894\n",
      "Multinomial Accuracy Score:0.98409894\n",
      "Multinomial True Positive Rate(Recall Score):0.88461538\n",
      "Multinomial False Negative Rate:0.11538462\n",
      "Bernoulli Score:0.94522968\n",
      "Bernoulli Accuracy Score:0.94522968\n",
      "Bernoulli True Positive Rate(Recall Score):0.60256410\n",
      "Bernoulli False Negative Rate:0.39743590\n",
      "--------Spam versus hard-ham--------\n",
      "Multinomial Score:0.93750000\n",
      "Multinomial Accuracy Score:0.93750000\n",
      "Multinomial True Positive Rate(Recall Score):0.97619048\n",
      "Multinomial False Negative Rate:0.02380952\n",
      "Bernoulli Score:0.87500000\n",
      "Bernoulli Accuracy Score:0.87500000\n",
      "Bernoulli True Positive Rate(Recall Score):1.00000000\n",
      "Bernoulli False Negative Rate:0.00000000\n"
     ]
    },
    {
     "data": {
      "text/plain": [
       "(array([[38,  6],\n",
       "        [ 2, 82]]), array([[28, 16],\n",
       "        [ 0, 84]]))"
      ]
     },
     "execution_count": 46,
     "metadata": {},
     "output_type": "execute_result"
    }
   ],
   "source": [
    "#Code to report results here\n",
    "easytrain, easytest, y3_train, y3_test = train_test_split(easy_spam['text'], \n",
    "                                                          easy_spam['numeric label'], \n",
    "                                                          test_size=0.2, \n",
    "                                                          random_state=21)\n",
    "hardtrain, hardtest, y4_train, y4_test = train_test_split(hard_spam['text'], \n",
    "                                                          hard_spam['numeric label'], \n",
    "                                                          test_size=0.2, \n",
    "                                                          random_state=21)\n",
    "\n",
    "# print(easytrain.shape, hardtrain.shape)\n",
    "cv = CountVectorizer()\n",
    "hardtrain = cv.fit_transform(hardtrain)\n",
    "hardtest = cv.transform(hardtest)\n",
    "easytrain = cv.fit_transform(easytrain)\n",
    "easytest = cv.transform(easytest)\n",
    "\n",
    "print('--------Spam versus easy-ham--------')\n",
    "naive_bayes(easytrain, y3_train, easytest, y3_test)\n",
    "print('--------Spam versus hard-ham--------')\n",
    "naive_bayes(hardtrain, y4_train, hardtest, y4_test)\n",
    "\n"
   ]
  },
  {
   "cell_type": "code",
   "execution_count": 10,
   "metadata": {
    "colab": {
     "base_uri": "https://localhost:8080/",
     "height": 699
    },
    "id": "dZPb_HOHHdi1",
    "outputId": "2526a988-b361-42d3-c970-c212d5c94173"
   },
   "outputs": [
    {
     "data": {
      "image/png": "[encoded data removed]",
      "text/plain": [
       "<Figure size 360x360 with 1 Axes>"
      ]
     },
     "metadata": {
      "needs_background": "light"
     },
     "output_type": "display_data"
    },
    {
     "data": {
      "image/png": "[encoded data removed]",
      "text/plain": [
       "<Figure size 360x360 with 1 Axes>"
      ]
     },
     "metadata": {
      "needs_background": "light"
     },
     "output_type": "display_data"
    }
   ],
   "source": [
    "cm1, cm2 = naive_bayes(easytrain, y3_train, easytest, y3_test, Print=False)\n",
    "\n",
    "# cmap=plt.cm.Oranges\n",
    "def print_cm(cm, str):\n",
    "  fig, ax = plt.subplots(figsize=(5, 5))\n",
    "  ax.matshow(cm, cmap=plt.cm.Oranges)\n",
    "  for i in range(cm.shape[0]):\n",
    "      for j in range(cm.shape[1]):\n",
    "          ax.text(x=j, y=i,s=cm[i, j], va='center', ha='center', size='xx-large')\n",
    "\n",
    "  plt.xlabel('Predictions', fontsize=18)\n",
    "  plt.ylabel('Actuals', fontsize=18)\n",
    "  plt.title(str, fontsize=18)\n",
    "  plt.show()\n",
    "\n",
    "print_cm(cm1, 'Multinomial CM in easyham & spam')\n",
    "print_cm(cm2, 'Bernoulli CM in easyham & spam')"
   ]
  },
  {
   "cell_type": "markdown",
   "metadata": {
    "id": "7av3qJnbORpk"
   },
   "source": [
    "Your discussion here\n",
    "\n",
    "We separately used 'Spam versus easy-ham' and 'Spam versus hard-ham' to train our Naïve Bayes classifiers and then evaluate them in all score, accuracy, true positive rate and false negative rate. It turns out that in both Multinomial Naive Bayes classifiers and Bernoulli Naive Bayes classifiers, the score and accuracy of 'Spam versus easy-ham' are higner than those of 'Spam versus hard-ham', while the true positive rate and false negative rate of 'Spam versus easy-ham' are lower than those of 'Spam versus hard-ham'. In both 'Spam versus easy-ham' and 'Spam versus hard-ham' data set, Multinomial Naive Bayes classifiers ranked highly in score and accuracy than Bernoulli Naive Bayes classifiers. When it comes to true positive rate and false negative rate, two types of classifiers performed differently in two data set."
   ]
  },
  {
   "cell_type": "markdown",
   "metadata": {
    "id": "TkfQWBB4UhYd"
   },
   "source": [
    "###4.\tTo avoid classification based on common and uninformative words it is common to filter these out. \n",
    "\n",
    "**a.** Argue why this may be useful. Try finding the words that are too common/uncommon in the dataset. \n",
    "\n",
    "**b.** Use the parameters in Sklearn’s `CountVectorizer` to filter out these words. Update the program from point 3 and run it on your data and report your results.\n",
    "\n",
    "You have two options to do this in Sklearn: either using the words found in part (a) or letting Sklearn do it for you. Argue for your decision-making.\n"
   ]
  },
  {
   "cell_type": "code",
   "execution_count": 50,
   "metadata": {
    "colab": {
     "base_uri": "https://localhost:8080/"
    },
    "id": "qt7ELzEqUfas",
    "outputId": "c853bb6c-dd95-4be3-ce77-0c46ff45fc1b"
   },
   "outputs": [
    {
     "name": "stderr",
     "output_type": "stream",
     "text": [
      "[nltk_data] Downloading package stopwords to /root/nltk_data...\n",
      "[nltk_data]   Package stopwords is already up-to-date!\n"
     ]
    },
    {
     "name": "stdout",
     "output_type": "stream",
     "text": [
      "Multinomial Score:0.97545008\n",
      "Multinomial Accuracy Score:0.97545008\n",
      "Multinomial True Positive Rate(Recall Score):0.86904762\n",
      "Multinomial False Negative Rate:0.13095238\n",
      "Bernoulli Score:0.89852700\n",
      "Bernoulli Accuracy Score:0.89852700\n",
      "Bernoulli True Positive Rate(Recall Score):0.28571429\n",
      "Bernoulli False Negative Rate:0.71428571\n",
      "--------Spam versus easy-ham--------\n",
      "Multinomial Score:0.98409894\n",
      "Multinomial Accuracy Score:0.98409894\n",
      "Multinomial True Positive Rate(Recall Score):0.88461538\n",
      "Multinomial False Negative Rate:0.11538462\n",
      "Bernoulli Score:0.93639576\n",
      "Bernoulli Accuracy Score:0.93639576\n",
      "Bernoulli True Positive Rate(Recall Score):0.53846154\n",
      "Bernoulli False Negative Rate:0.46153846\n",
      "--------Spam versus hard-ham--------\n",
      "Multinomial Score:0.93750000\n",
      "Multinomial Accuracy Score:0.93750000\n",
      "Multinomial True Positive Rate(Recall Score):0.97619048\n",
      "Multinomial False Negative Rate:0.02380952\n",
      "Bernoulli Score:0.88281250\n",
      "Bernoulli Accuracy Score:0.88281250\n",
      "Bernoulli True Positive Rate(Recall Score):1.00000000\n",
      "Bernoulli False Negative Rate:0.00000000\n"
     ]
    },
    {
     "data": {
      "text/plain": [
       "(array([[38,  6],\n",
       "        [ 2, 82]]), array([[29, 15],\n",
       "        [ 0, 84]]))"
      ]
     },
     "execution_count": 50,
     "metadata": {},
     "output_type": "execute_result"
    }
   ],
   "source": [
    "from sklearn.feature_extraction.text import CountVectorizer\n",
    "from nltk.corpus import stopwords\n",
    "import nltk\n",
    "\n",
    "nltk.download('stopwords')\n",
    "\n",
    "X_train = pd.concat([hamtrain, spamtrain])\n",
    "Y_train = pd.concat([y1_train, y2_train])\n",
    "X_test = pd.concat([hamtest, spamtest])\n",
    "Y_test = pd.concat([y1_test, y2_test])\n",
    "\n",
    "cv = CountVectorizer(stop_words=\"english\")\n",
    "cv.fit(X_train)\n",
    "X_train = cv.transform(X_train)\n",
    "X_test = cv.transform(X_test)\n",
    "\n",
    "naive_bayes(X_train, Y_train, X_test, Y_test)\n",
    "\n",
    "\n",
    "easytrain, easytest, y3_train, y3_test = train_test_split(easy_spam['text'], \n",
    "                                                          easy_spam['numeric label'], \n",
    "                                                          test_size=0.2, \n",
    "                                                          random_state=21)\n",
    "hardtrain, hardtest, y4_train, y4_test = train_test_split(hard_spam['text'], \n",
    "                                                          hard_spam['numeric label'], \n",
    "                                                          test_size=0.2, \n",
    "                                                          random_state=21)\n",
    "\n",
    "hardtrain = cv.fit_transform(hardtrain)\n",
    "hardtest = cv.transform(hardtest)\n",
    "easytrain = cv.fit_transform(easytrain)\n",
    "easytest = cv.transform(easytest)\n",
    "\n",
    "print('--------Spam versus easy-ham--------')\n",
    "naive_bayes(easytrain, y3_train, easytest, y3_test)\n",
    "print('--------Spam versus hard-ham--------')\n",
    "naive_bayes(hardtrain, y4_train, hardtest, y4_test)\n",
    "\n"
   ]
  },
  {
   "cell_type": "markdown",
   "metadata": {
    "id": "pde5Ed-2UYZw"
   },
   "source": [
    "Your discussion here\n",
    "\n",
    "a) Common and uninformative words are usually filtered in NLP processing. Filtering stopwords may help to save storage space and improve search efficiency. And in this section, we used the stopwords offered by sklearn.\n",
    "\n",
    "b) We used the parameters in Sklearn’s CountVectorizer to filter out these words and rerun the experiment using filtered data. It turns out that filtered data performs higher score and accuracy in Bernoulli Naive Bayes classifier on data set 'spam versus hard-ham', lower score , acccuracy and true positive rate in Bernoulli Naive Bayes classifier on data set 'spam versus easy-ham', higher false negative rate in Bernoulli Naive Bayes classifier on data set 'spam versus easy-ham'. In conclusion, filtering stopwords makes Bernoulli Naive Bayes classifier performs better on data set 'spam versus hard-ham' and worse on data set 'spam versus easy-harm'. According to this experiment, filtering stopwords may help and may on the contrary way. "
   ]
  },
  {
   "cell_type": "markdown",
   "metadata": {
    "id": "zcyVfOZFU4F_"
   },
   "source": [
    "###5. Eeking out further performance\n",
    "Filter out the headers and footers of the emails before you run on them. The format may vary somewhat between emails, which can make this a bit tricky, so perfect filtering is not required. Run your program again and answer the following questions: \n",
    "-\tDoes the result improve from 3 and 4? \n",
    "- The split of the data set into a training set and a test set can lead to very skewed results. Why is this, and do you have suggestions on remedies? \n",
    "- What do you expect would happen if your training set were mostly spam messages while your test set were mostly ham messages? \n",
    "\n",
    "Re-estimate your classifier using `fit_prior` parameter set to `false`, and answer the following questions:\n",
    "- What does this parameter mean?\n",
    "- How does this alter the predictions? Discuss why or why not."
   ]
  },
  {
   "cell_type": "code",
   "execution_count": 11,
   "metadata": {
    "colab": {
     "base_uri": "https://localhost:8080/",
     "height": 1000
    },
    "id": "s_nyGug9U4f3",
    "outputId": "c9b504f2-f03a-4b4c-d307-93a955120b5d"
   },
   "outputs": [
    {
     "name": "stdout",
     "output_type": "stream",
     "text": [
      "--------Spam versus easy-ham--------\n",
      "Multinomial Score:0.98763251\n",
      "Multinomial Accuracy Score:0.98763251\n",
      "Multinomial True Positive Rate(Recall Score):0.97435897\n",
      "Multinomial False Negative Rate:0.02564103\n",
      "Bernoulli Score:0.95936396\n",
      "Bernoulli Accuracy Score:0.95936396\n",
      "Bernoulli True Positive Rate(Recall Score):0.85897436\n",
      "Bernoulli False Negative Rate:0.14102564\n"
     ]
    },
    {
     "data": {
      "image/png": "[encoded data removed]",
      "text/plain": [
       "<Figure size 360x360 with 1 Axes>"
      ]
     },
     "metadata": {
      "needs_background": "light"
     },
     "output_type": "display_data"
    },
    {
     "data": {
      "image/png": "[encoded data removed]",
      "text/plain": [
       "<Figure size 360x360 with 1 Axes>"
      ]
     },
     "metadata": {
      "needs_background": "light"
     },
     "output_type": "display_data"
    },
    {
     "name": "stdout",
     "output_type": "stream",
     "text": [
      "--------Spam versus hard-ham--------\n",
      "Multinomial Score:0.96093750\n",
      "Multinomial Accuracy Score:0.96093750\n",
      "Multinomial True Positive Rate(Recall Score):0.98809524\n",
      "Multinomial False Negative Rate:0.01190476\n",
      "Bernoulli Score:0.95312500\n",
      "Bernoulli Accuracy Score:0.95312500\n",
      "Bernoulli True Positive Rate(Recall Score):0.97619048\n",
      "Bernoulli False Negative Rate:0.02380952\n"
     ]
    },
    {
     "data": {
      "image/png": "[encoded data removed]",
      "text/plain": [
       "<Figure size 360x360 with 1 Axes>"
      ]
     },
     "metadata": {
      "needs_background": "light"
     },
     "output_type": "display_data"
    },
    {
     "data": {
      "image/png": "[encoded data removed]",
      "text/plain": [
       "<Figure size 360x360 with 1 Axes>"
      ]
     },
     "metadata": {
      "needs_background": "light"
     },
     "output_type": "display_data"
    }
   ],
   "source": [
    "df['length'] = df['text'].map(lambda text: len(text))\n",
    "\n",
    "# filter out the headers and footers\n",
    "import re\n",
    "\n",
    "def cleaning(word):\n",
    "    # remove email\n",
    "    word = re.sub(r'[A-Za-z0-9]*@[A-Za-z]*\\.?[A-Za-z0-9]*', \"\", word)\n",
    "    # remove url\n",
    "    # word = re.sub(r\"http\\S+\", \"\", word)\n",
    "    # word = word.lower()\n",
    "    # word = word.split('Content-Transfer-Encoding:', 1)[-1] \n",
    "    word = word.split('X-Spam-Level:', 1)[-1]\n",
    "    word = word.split('--', 1)[0] \n",
    "    # word = re.sub(r'\\n', \"\", word)\n",
    "    # word = re.sub(r'>', \"\", word)\n",
    "    return  word\n",
    "\n",
    "df['message'] = [cleaning(o) for o in df['text']]\n",
    "df['length2'] = df['message'].map(lambda message: len(message))\n",
    "# pd.set_option('max_colwidth',10000)\n",
    "\n",
    "easytrain1, easytest1, y3_train1, y3_test1 = train_test_split(df[df['label'] != 'hard ham']['message'], \n",
    "                                                              df[df['label'] != 'hard ham']['numeric label'], \n",
    "                                                              test_size=0.2, \n",
    "                                                              random_state=21)\n",
    "\n",
    "hardtrain1, hardtest1, y4_train1, y4_test1 = train_test_split(df[df['label'] != 'easy ham']['message'], \n",
    "                                                              df[df['label'] != 'easy ham']['numeric label'], \n",
    "                                                              test_size=0.2, \n",
    "                                                              random_state=21)\n",
    "cv = CountVectorizer()\n",
    "easytrain1 = cv.fit_transform(easytrain1)\n",
    "easytest1 = cv.transform(easytest1)\n",
    "hardtrain1 = cv.fit_transform(hardtrain1)\n",
    "hardtest1 = cv.transform(hardtest1)\n",
    "\n",
    "print('--------Spam versus easy-ham--------')\n",
    "cm1, cm2 = naive_bayes(easytrain1, y3_train1, easytest1, y3_test1)\n",
    "print_cm(cm1, 'Multinomial: filter headers and footers')\n",
    "print_cm(cm2, 'Bernoulli: filter headers and footers')\n",
    "\n",
    "print('--------Spam versus hard-ham--------')\n",
    "cm3, cm4 = naive_bayes(hardtrain1, y4_train1, hardtest1, y4_test1)\n",
    "\n",
    "print_cm(cm3, 'Multinomial: filter headers and footers')\n",
    "print_cm(cm4, 'Bernoulli: filter headers and footers')"
   ]
  },
  {
   "cell_type": "markdown",
   "metadata": {
    "id": "aCLi0R6Wr_WL"
   },
   "source": [
    "\n",
    "Checking the whole dataset, I found lots of information like receivers, sender, date, and HTML label in front of the actual message seems redundant, and there seems to exist a pattern that that useless text ends with \"X-Spam-Level:\" or sometimes \"Content-Transfer-Encoding:\". Therefore, after removing the email and URL in the text, I tried to define the header of the email as the text before \"X-Spam-Level:\" and \"Content-Transfer-Encoding:\" and remove them.\n",
    "\n",
    "\\\n",
    "When it comes to  footer, it is not that clear but double'-' seems to imply the end of the email content, so I define that as a footer.\n",
    "\n",
    "\\\n",
    "\n",
    "\n",
    "\n",
    "\n",
    "1.   The result is improved partially and slightly from 3 and 4(Spam versus easy-ham, Multinomial Naive Bayes 98.2%->98.5%, Bernoulli Naive Bayes 92.6%->95.2%; Spam versus hard-ham, Multinomial Naive Bayes 95.31%=95.31%, Bernoulli Naive Bayes 89.8%->85.9%), it's reasonable to assume that the pre-processing doesn't work very well in data as it might delete some valuable information. \n",
    "\\\n",
    "Based on this assumption and observation in the original data, I decided to remain the URL link in the email content since it shows more frequently in spam emails. As a result, I found that both Multinomial and Bernoulli Naive Bayes is improved in hard and easy ham versus spam classification.\n",
    "2.   The \"train_test_split\" method split datasets or into random train and test subsets, which is usually enough for cross validation, but in this spam classification analyse case, it is possible that unevenly more spam or ham email was distributed as test set and that will affect the conditional probability of certain words which might lead to false negative or false positive.\n",
    "\\\n",
    "Based on analysis above, one way to avoid these very skewed results is set a ratio of each classes in train and test set instead of directly apply \"train_test_split\" method, so that we can make sure positive and negative data are evenly distributed.\n",
    "3.  Since the most train data was spam email, the naive bayes algorithm might consider lots of \"normal\" words have larger possibility shows in spam email rather than ham email, when this classifier is used in test set, it is more likely to recognize ham email as spam which will lead to the decrease of the model score and True Positive Rate.\n",
    "\n",
    "\n",
    "\n",
    "\n",
    "\n",
    "\n",
    "\n",
    "\n",
    "\\\n",
    "\n",
    "\n",
    "\n",
    "\n",
    "\n"
   ]
  },
  {
   "cell_type": "code",
   "execution_count": 12,
   "metadata": {
    "colab": {
     "base_uri": "https://localhost:8080/"
    },
    "id": "ApTpfZflRjxz",
    "outputId": "7bc76d7e-8d54-434f-9568-62d36334584a"
   },
   "outputs": [
    {
     "name": "stdout",
     "output_type": "stream",
     "text": [
      "0.978688524590164\n",
      "0.9737704918032787\n"
     ]
    }
   ],
   "source": [
    "x_train, x_test, y_train, y_test = train_test_split(df['message'], \n",
    "                                                    df['numeric label'], \n",
    "                                                    test_size=0.2, \n",
    "                                                    random_state=21)\n",
    "cv = CountVectorizer()\n",
    "x_train = cv.fit_transform(x_train)\n",
    "x_test = cv.transform(x_test)\n",
    "\n",
    "mnb = MultinomialNB(fit_prior = False)\n",
    "mnb.fit(x_train, y_train) \n",
    "print(accuracy_score(y_test, mnb.predict(x_test.toarray())))\n",
    "\n",
    "\n",
    "bnb = BernoulliNB(fit_prior = False)\n",
    "bnb.fit(x_train, y_train) \n",
    "print(accuracy_score(y_test, bnb.predict(x_test.toarray())))"
   ]
  },
  {
   "cell_type": "markdown",
   "metadata": {
    "id": "UX51mXjf_a9S"
   },
   "source": [
    "What does this parameter mean?\n",
    "How does this alter the predictions? Discuss why or why not.\n",
    "\n",
    "1.   This parameter means that if we consider the prior possibility of our training set, the default value is True. To be more clear, if we don't enter manually through parameter \"class_prior\", naive bayes will compute the prior possibility based on our dataset, For example, ![截屏2022-09-27 19.45.41.png](data:image/png;base64,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).\n",
    "2.   By setting fit_prior to false, we just consider each word that shows in a spam or ham email content as an independent event and ignore the possibility of the certain email is a spam. This should alter model's performance but by looking at the output, naive bayes still doing very well.\n",
    "One possible explanation is that in spam detection, the vocabulary that spam used and the pattern it followed is relatively fixed, so even if we ignore the prior possibility, naive bayes is still able to recognize those spam emails.\n",
    "\n"
   ]
  },
  {
   "cell_type": "markdown",
   "metadata": {
    "id": "ND6FKoexVAhW"
   },
   "source": []
  },
  {
   "cell_type": "code",
   "execution_count": 12,
   "metadata": {
    "id": "8bI3z_spVacz"
   },
   "outputs": [],
   "source": []
  }
 ],
 "metadata": {
  "colab": {
   "collapsed_sections": [],
   "provenance": []
  },
  "kernelspec": {
   "display_name": "Python 3 (ipykernel)",
   "language": "python",
   "name": "python3"
  },
  "language_info": {
   "codemirror_mode": {
    "name": "ipython",
    "version": 3
   },
   "file_extension": ".py",
   "mimetype": "text/x-python",
   "name": "python",
   "nbconvert_exporter": "python",
   "pygments_lexer": "ipython3",
   "version": "3.9.13"
  }
 },
 "nbformat": 4,
 "nbformat_minor": 1
}
