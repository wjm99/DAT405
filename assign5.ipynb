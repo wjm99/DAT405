{
 "cells": [
  {
   "cell_type": "code",
   "execution_count": 1,
   "metadata": {
    "cell_id": "e97bef51c86e4986b6c001081082188c",
    "deepnote_cell_type": "code",
    "deepnote_to_be_reexecuted": false,
    "execution_millis": 2730,
    "execution_start": 1676912637556,
    "source_hash": "d09c1ece",
    "tags": []
   },
   "outputs": [
    {
     "name": "stdout",
     "output_type": "stream",
     "text": [
      "Collecting mlxtend==0.21.0\n",
      "  Downloading mlxtend-0.21.0-py2.py3-none-any.whl (1.3 MB)\n",
      "\u001b[2K     \u001b[90m━━━━━━━━━━━━━━━━━━━━━━━━━━━━━━━━━━━━━━━━\u001b[0m \u001b[32m1.3/1.3 MB\u001b[0m \u001b[31m82.8 MB/s\u001b[0m eta \u001b[36m0:00:00\u001b[0m\n",
      "\u001b[?25hRequirement already satisfied: joblib>=0.13.2 in /shared-libs/python3.9/py/lib/python3.9/site-packages (from mlxtend==0.21.0) (1.2.0)\n",
      "Requirement already satisfied: scikit-learn>=1.0.2 in /shared-libs/python3.9/py/lib/python3.9/site-packages (from mlxtend==0.21.0) (1.1.2)\n",
      "Requirement already satisfied: pandas>=0.24.2 in /shared-libs/python3.9/py/lib/python3.9/site-packages (from mlxtend==0.21.0) (1.2.5)\n",
      "Requirement already satisfied: scipy>=1.2.1 in /shared-libs/python3.9/py/lib/python3.9/site-packages (from mlxtend==0.21.0) (1.9.3)\n",
      "Requirement already satisfied: matplotlib>=3.0.0 in /shared-libs/python3.9/py/lib/python3.9/site-packages (from mlxtend==0.21.0) (3.6.0)\n",
      "Requirement already satisfied: setuptools in /root/venv/lib/python3.9/site-packages (from mlxtend==0.21.0) (58.1.0)\n",
      "Requirement already satisfied: numpy>=1.16.2 in /shared-libs/python3.9/py/lib/python3.9/site-packages (from mlxtend==0.21.0) (1.23.4)\n",
      "Requirement already satisfied: fonttools>=4.22.0 in /shared-libs/python3.9/py/lib/python3.9/site-packages (from matplotlib>=3.0.0->mlxtend==0.21.0) (4.37.4)\n",
      "Requirement already satisfied: pillow>=6.2.0 in /shared-libs/python3.9/py/lib/python3.9/site-packages (from matplotlib>=3.0.0->mlxtend==0.21.0) (9.2.0)\n",
      "Requirement already satisfied: python-dateutil>=2.7 in /shared-libs/python3.9/py-core/lib/python3.9/site-packages (from matplotlib>=3.0.0->mlxtend==0.21.0) (2.8.2)\n",
      "Requirement already satisfied: cycler>=0.10 in /shared-libs/python3.9/py/lib/python3.9/site-packages (from matplotlib>=3.0.0->mlxtend==0.21.0) (0.11.0)\n",
      "Requirement already satisfied: kiwisolver>=1.0.1 in /shared-libs/python3.9/py/lib/python3.9/site-packages (from matplotlib>=3.0.0->mlxtend==0.21.0) (1.4.4)\n",
      "Requirement already satisfied: pyparsing>=2.2.1 in /shared-libs/python3.9/py-core/lib/python3.9/site-packages (from matplotlib>=3.0.0->mlxtend==0.21.0) (3.0.9)\n",
      "Requirement already satisfied: packaging>=20.0 in /shared-libs/python3.9/py-core/lib/python3.9/site-packages (from matplotlib>=3.0.0->mlxtend==0.21.0) (21.3)\n",
      "Requirement already satisfied: contourpy>=1.0.1 in /shared-libs/python3.9/py/lib/python3.9/site-packages (from matplotlib>=3.0.0->mlxtend==0.21.0) (1.0.5)\n",
      "Requirement already satisfied: pytz>=2017.3 in /shared-libs/python3.9/py/lib/python3.9/site-packages (from pandas>=0.24.2->mlxtend==0.21.0) (2022.5)\n",
      "Requirement already satisfied: threadpoolctl>=2.0.0 in /shared-libs/python3.9/py/lib/python3.9/site-packages (from scikit-learn>=1.0.2->mlxtend==0.21.0) (3.1.0)\n",
      "Requirement already satisfied: six>=1.5 in /shared-libs/python3.9/py-core/lib/python3.9/site-packages (from python-dateutil>=2.7->matplotlib>=3.0.0->mlxtend==0.21.0) (1.16.0)\n",
      "Installing collected packages: mlxtend\n",
      "Successfully installed mlxtend-0.21.0\n",
      "\u001b[33mWARNING: You are using pip version 22.0.4; however, version 23.0.1 is available.\n",
      "You should consider upgrading via the '/root/venv/bin/python -m pip install --upgrade pip' command.\u001b[0m\u001b[33m\n",
      "\u001b[0m"
     ]
    }
   ],
   "source": [
    "!pip install mlxtend==0.21.0"
   ]
  },
  {
   "cell_type": "code",
   "execution_count": 2,
   "metadata": {
    "cell_id": "89e77cdf2fec4cf6b90eb8ab850e996c",
    "deepnote_cell_type": "code",
    "deepnote_to_be_reexecuted": false,
    "execution_millis": 0,
    "execution_start": 1676912717918,
    "source_hash": "3d7f757a",
    "tags": []
   },
   "outputs": [],
   "source": [
    "import numpy as np\n",
    "import seaborn as sns\n",
    "import pandas as pd\n",
    "import matplotlib.pyplot as plt\n",
    "import pickle\n",
    "from sklearn.model_selection import train_test_split\n",
    "from mlxtend.plotting import plot_confusion_matrix\n",
    "from sklearn.metrics import accuracy_score"
   ]
  },
  {
   "cell_type": "code",
   "execution_count": 3,
   "metadata": {
    "cell_id": "c83f2f28d9fb4f08bb9e60b24b95214c",
    "deepnote_cell_type": "code",
    "deepnote_table_loading": false,
    "deepnote_table_state": {
     "filters": [
      {
       "id": "id",
       "type": "contains",
       "value": ""
      }
     ],
     "pageIndex": 0,
     "pageSize": 10,
     "sortBy": []
    },
    "deepnote_to_be_reexecuted": false,
    "execution_millis": 173,
    "execution_start": 1676912720756,
    "source_hash": "6b81191f",
    "tags": []
   },
   "outputs": [
    {
     "data": {
      "application/vnd.deepnote.dataframe.v3+json": {
       "column_count": 32,
       "columns": [
        {
         "dtype": "int64",
         "name": "id",
         "stats": {
          "histogram": [
           {
            "bin_end": 91139853.2,
            "bin_start": 8670,
            "count": 546
           },
           {
            "bin_end": 182271036.4,
            "bin_start": 91139853.2,
            "count": 12
           },
           {
            "bin_end": 273402219.6,
            "bin_start": 182271036.4,
            "count": 0
           },
           {
            "bin_end": 364533402.8,
            "bin_start": 273402219.6,
            "count": 0
           },
           {
            "bin_end": 455664586,
            "bin_start": 364533402.8,
            "count": 0
           },
           {
            "bin_end": 546795769.2,
            "bin_start": 455664586,
            "count": 0
           },
           {
            "bin_end": 637926952.4,
            "bin_start": 546795769.2,
            "count": 0
           },
           {
            "bin_end": 729058135.6,
            "bin_start": 637926952.4,
            "count": 0
           },
           {
            "bin_end": 820189318.8000001,
            "bin_start": 729058135.6,
            "count": 0
           },
           {
            "bin_end": 911320502,
            "bin_start": 820189318.8000001,
            "count": 11
           }
          ],
          "max": "911320502",
          "min": "8670",
          "nan_count": 0,
          "unique_count": 569
         }
        },
        {
         "dtype": "int32",
         "name": "malignant",
         "stats": {
          "histogram": [
           {
            "bin_end": 0.1,
            "bin_start": 0,
            "count": 357
           },
           {
            "bin_end": 0.2,
            "bin_start": 0.1,
            "count": 0
           },
           {
            "bin_end": 0.30000000000000004,
            "bin_start": 0.2,
            "count": 0
           },
           {
            "bin_end": 0.4,
            "bin_start": 0.30000000000000004,
            "count": 0
           },
           {
            "bin_end": 0.5,
            "bin_start": 0.4,
            "count": 0
           },
           {
            "bin_end": 0.6000000000000001,
            "bin_start": 0.5,
            "count": 0
           },
           {
            "bin_end": 0.7000000000000001,
            "bin_start": 0.6000000000000001,
            "count": 0
           },
           {
            "bin_end": 0.8,
            "bin_start": 0.7000000000000001,
            "count": 0
           },
           {
            "bin_end": 0.9,
            "bin_start": 0.8,
            "count": 0
           },
           {
            "bin_end": 1,
            "bin_start": 0.9,
            "count": 212
           }
          ],
          "max": "1",
          "min": "0",
          "nan_count": 0,
          "unique_count": 2
         }
        },
        {
         "dtype": "float64",
         "name": "radius_0",
         "stats": {
          "histogram": [
           {
            "bin_end": 9.0939,
            "bin_start": 6.981,
            "count": 19
           },
           {
            "bin_end": 11.2068,
            "bin_start": 9.0939,
            "count": 79
           },
           {
            "bin_end": 13.3197,
            "bin_start": 11.2068,
            "count": 185
           },
           {
            "bin_end": 15.432599999999999,
            "bin_start": 13.3197,
            "count": 129
           },
           {
            "bin_end": 17.545499999999997,
            "bin_start": 15.432599999999999,
            "count": 55
           },
           {
            "bin_end": 19.6584,
            "bin_start": 17.545499999999997,
            "count": 50
           },
           {
            "bin_end": 21.771299999999997,
            "bin_start": 19.6584,
            "count": 38
           },
           {
            "bin_end": 23.8842,
            "bin_start": 21.771299999999997,
            "count": 7
           },
           {
            "bin_end": 25.997099999999996,
            "bin_start": 23.8842,
            "count": 4
           },
           {
            "bin_end": 28.11,
            "bin_start": 25.997099999999996,
            "count": 3
           }
          ],
          "max": "28.11",
          "min": "6.981",
          "nan_count": 0,
          "unique_count": 456
         }
        },
        {
         "dtype": "float64",
         "name": "texture_0",
         "stats": {
          "histogram": [
           {
            "bin_end": 12.667000000000002,
            "bin_start": 9.71,
            "count": 17
           },
           {
            "bin_end": 15.624,
            "bin_start": 12.667000000000002,
            "count": 96
           },
           {
            "bin_end": 18.581,
            "bin_start": 15.624,
            "count": 154
           },
           {
            "bin_end": 21.538,
            "bin_start": 18.581,
            "count": 145
           },
           {
            "bin_end": 24.495,
            "bin_start": 21.538,
            "count": 89
           },
           {
            "bin_end": 27.451999999999998,
            "bin_start": 24.495,
            "count": 40
           },
           {
            "bin_end": 30.409,
            "bin_start": 27.451999999999998,
            "count": 21
           },
           {
            "bin_end": 33.366,
            "bin_start": 30.409,
            "count": 4
           },
           {
            "bin_end": 36.323,
            "bin_start": 33.366,
            "count": 2
           },
           {
            "bin_end": 39.28,
            "bin_start": 36.323,
            "count": 1
           }
          ],
          "max": "39.28",
          "min": "9.71",
          "nan_count": 0,
          "unique_count": 479
         }
        },
        {
         "dtype": "float64",
         "name": "perimeter_0",
         "stats": {
          "histogram": [
           {
            "bin_end": 58.260999999999996,
            "bin_start": 43.79,
            "count": 15
           },
           {
            "bin_end": 72.732,
            "bin_start": 58.260999999999996,
            "count": 93
           },
           {
            "bin_end": 87.203,
            "bin_start": 72.732,
            "count": 185
           },
           {
            "bin_end": 101.674,
            "bin_start": 87.203,
            "count": 116
           },
           {
            "bin_end": 116.14500000000001,
            "bin_start": 101.674,
            "count": 62
           },
           {
            "bin_end": 130.61599999999999,
            "bin_start": 116.14500000000001,
            "count": 49
           },
           {
            "bin_end": 145.087,
            "bin_start": 130.61599999999999,
            "count": 34
           },
           {
            "bin_end": 159.558,
            "bin_start": 145.087,
            "count": 8
           },
           {
            "bin_end": 174.029,
            "bin_start": 159.558,
            "count": 3
           },
           {
            "bin_end": 188.5,
            "bin_start": 174.029,
            "count": 4
           }
          ],
          "max": "188.5",
          "min": "43.79",
          "nan_count": 0,
          "unique_count": 522
         }
        },
        {
         "dtype": "float64",
         "name": "area_0",
         "stats": {
          "histogram": [
           {
            "bin_end": 379.25,
            "bin_start": 143.5,
            "count": 93
           },
           {
            "bin_end": 615,
            "bin_start": 379.25,
            "count": 251
           },
           {
            "bin_end": 850.75,
            "bin_start": 615,
            "count": 101
           },
           {
            "bin_end": 1086.5,
            "bin_start": 850.75,
            "count": 47
           },
           {
            "bin_end": 1322.25,
            "bin_start": 1086.5,
            "count": 51
           },
           {
            "bin_end": 1558,
            "bin_start": 1322.25,
            "count": 14
           },
           {
            "bin_end": 1793.75,
            "bin_start": 1558,
            "count": 6
           },
           {
            "bin_end": 2029.5,
            "bin_start": 1793.75,
            "count": 3
           },
           {
            "bin_end": 2265.25,
            "bin_start": 2029.5,
            "count": 1
           },
           {
            "bin_end": 2501,
            "bin_start": 2265.25,
            "count": 2
           }
          ],
          "max": "2501.0",
          "min": "143.5",
          "nan_count": 0,
          "unique_count": 539
         }
        },
        {
         "dtype": "float64",
         "name": "smoothness_0",
         "stats": {
          "histogram": [
           {
            "bin_end": 0.063707,
            "bin_start": 0.052629999999999996,
            "count": 2
           },
           {
            "bin_end": 0.07478399999999999,
            "bin_start": 0.063707,
            "count": 26
           },
           {
            "bin_end": 0.08586099999999999,
            "bin_start": 0.07478399999999999,
            "count": 110
           },
           {
            "bin_end": 0.096938,
            "bin_start": 0.08586099999999999,
            "count": 160
           },
           {
            "bin_end": 0.108015,
            "bin_start": 0.096938,
            "count": 164
           },
           {
            "bin_end": 0.11909199999999999,
            "bin_start": 0.108015,
            "count": 79
           },
           {
            "bin_end": 0.13016899999999998,
            "bin_start": 0.11909199999999999,
            "count": 20
           },
           {
            "bin_end": 0.14124599999999998,
            "bin_start": 0.13016899999999998,
            "count": 5
           },
           {
            "bin_end": 0.152323,
            "bin_start": 0.14124599999999998,
            "count": 2
           },
           {
            "bin_end": 0.1634,
            "bin_start": 0.152323,
            "count": 1
           }
          ],
          "max": "0.1634",
          "min": "0.052629999999999996",
          "nan_count": 0,
          "unique_count": 474
         }
        },
        {
         "dtype": "float64",
         "name": "compactness_0",
         "stats": {
          "histogram": [
           {
            "bin_end": 0.051982,
            "bin_start": 0.01938,
            "count": 68
           },
           {
            "bin_end": 0.08458399999999999,
            "bin_start": 0.051982,
            "count": 182
           },
           {
            "bin_end": 0.11718600000000001,
            "bin_start": 0.08458399999999999,
            "count": 133
           },
           {
            "bin_end": 0.149788,
            "bin_start": 0.11718600000000001,
            "count": 87
           },
           {
            "bin_end": 0.18239,
            "bin_start": 0.149788,
            "count": 48
           },
           {
            "bin_end": 0.21499200000000002,
            "bin_start": 0.18239,
            "count": 26
           },
           {
            "bin_end": 0.247594,
            "bin_start": 0.21499200000000002,
            "count": 15
           },
           {
            "bin_end": 0.280196,
            "bin_start": 0.247594,
            "count": 5
           },
           {
            "bin_end": 0.312798,
            "bin_start": 0.280196,
            "count": 4
           },
           {
            "bin_end": 0.3454,
            "bin_start": 0.312798,
            "count": 1
           }
          ],
          "max": "0.3454",
          "min": "0.01938",
          "nan_count": 0,
          "unique_count": 537
         }
        },
        {
         "dtype": "float64",
         "name": "concavity_0",
         "stats": {
          "histogram": [
           {
            "bin_end": 0.04268,
            "bin_start": 0,
            "count": 217
           },
           {
            "bin_end": 0.08536,
            "bin_start": 0.04268,
            "count": 122
           },
           {
            "bin_end": 0.12804000000000001,
            "bin_start": 0.08536,
            "count": 86
           },
           {
            "bin_end": 0.17072,
            "bin_start": 0.12804000000000001,
            "count": 63
           },
           {
            "bin_end": 0.2134,
            "bin_start": 0.17072,
            "count": 34
           },
           {
            "bin_end": 0.25608000000000003,
            "bin_start": 0.2134,
            "count": 25
           },
           {
            "bin_end": 0.29876,
            "bin_start": 0.25608000000000003,
            "count": 6
           },
           {
            "bin_end": 0.34144,
            "bin_start": 0.29876,
            "count": 9
           },
           {
            "bin_end": 0.38412,
            "bin_start": 0.34144,
            "count": 4
           },
           {
            "bin_end": 0.4268,
            "bin_start": 0.38412,
            "count": 3
           }
          ],
          "max": "0.4268",
          "min": "0.0",
          "nan_count": 0,
          "unique_count": 537
         }
        },
        {
         "dtype": "float64",
         "name": "concave points_0",
         "stats": {
          "histogram": [
           {
            "bin_end": 0.02012,
            "bin_start": 0,
            "count": 139
           },
           {
            "bin_end": 0.04024,
            "bin_start": 0.02012,
            "count": 174
           },
           {
            "bin_end": 0.06036,
            "bin_start": 0.04024,
            "count": 76
           },
           {
            "bin_end": 0.08048,
            "bin_start": 0.06036,
            "count": 57
           },
           {
            "bin_end": 0.1006,
            "bin_start": 0.08048,
            "count": 66
           },
           {
            "bin_end": 0.12072,
            "bin_start": 0.1006,
            "count": 23
           },
           {
            "bin_end": 0.14084,
            "bin_start": 0.12072,
            "count": 15
           },
           {
            "bin_end": 0.16096,
            "bin_start": 0.14084,
            "count": 12
           },
           {
            "bin_end": 0.18108,
            "bin_start": 0.16096,
            "count": 2
           },
           {
            "bin_end": 0.2012,
            "bin_start": 0.18108,
            "count": 5
           }
          ],
          "max": "0.2012",
          "min": "0.0",
          "nan_count": 0,
          "unique_count": 542
         }
        },
        {
         "dtype": "float64",
         "name": "symmetry_0",
         "stats": {
          "histogram": [
           {
            "bin_end": 0.1258,
            "bin_start": 0.106,
            "count": 5
           },
           {
            "bin_end": 0.1456,
            "bin_start": 0.1258,
            "count": 35
           },
           {
            "bin_end": 0.1654,
            "bin_start": 0.1456,
            "count": 133
           },
           {
            "bin_end": 0.1852,
            "bin_start": 0.1654,
            "count": 164
           },
           {
            "bin_end": 0.20500000000000002,
            "bin_start": 0.1852,
            "count": 136
           },
           {
            "bin_end": 0.2248,
            "bin_start": 0.20500000000000002,
            "count": 60
           },
           {
            "bin_end": 0.24459999999999998,
            "bin_start": 0.2248,
            "count": 21
           },
           {
            "bin_end": 0.2644,
            "bin_start": 0.24459999999999998,
            "count": 10
           },
           {
            "bin_end": 0.2842,
            "bin_start": 0.2644,
            "count": 3
           },
           {
            "bin_end": 0.304,
            "bin_start": 0.2842,
            "count": 2
           }
          ],
          "max": "0.304",
          "min": "0.106",
          "nan_count": 0,
          "unique_count": 432
         }
        },
        {
         "dtype": "float64",
         "name": "fractal dimension_0",
         "stats": {
          "histogram": [
           {
            "bin_end": 0.05470800000000001,
            "bin_start": 0.049960000000000004,
            "count": 41
           },
           {
            "bin_end": 0.059456,
            "bin_start": 0.05470800000000001,
            "count": 160
           },
           {
            "bin_end": 0.06420400000000001,
            "bin_start": 0.059456,
            "count": 175
           },
           {
            "bin_end": 0.068952,
            "bin_start": 0.06420400000000001,
            "count": 101
           },
           {
            "bin_end": 0.0737,
            "bin_start": 0.068952,
            "count": 51
           },
           {
            "bin_end": 0.078448,
            "bin_start": 0.0737,
            "count": 25
           },
           {
            "bin_end": 0.08319599999999999,
            "bin_start": 0.078448,
            "count": 9
           },
           {
            "bin_end": 0.087944,
            "bin_start": 0.08319599999999999,
            "count": 2
           },
           {
            "bin_end": 0.092692,
            "bin_start": 0.087944,
            "count": 1
           },
           {
            "bin_end": 0.09744,
            "bin_start": 0.092692,
            "count": 4
           }
          ],
          "max": "0.09744",
          "min": "0.049960000000000004",
          "nan_count": 0,
          "unique_count": 499
         }
        },
        {
         "dtype": "float64",
         "name": "radius_1",
         "stats": {
          "histogram": [
           {
            "bin_end": 0.38765,
            "bin_start": 0.1115,
            "count": 357
           },
           {
            "bin_end": 0.6638000000000001,
            "bin_start": 0.38765,
            "count": 137
           },
           {
            "bin_end": 0.9399500000000001,
            "bin_start": 0.6638000000000001,
            "count": 44
           },
           {
            "bin_end": 1.2161,
            "bin_start": 0.9399500000000001,
            "count": 24
           },
           {
            "bin_end": 1.4922499999999999,
            "bin_start": 1.2161,
            "count": 4
           },
           {
            "bin_end": 1.7684,
            "bin_start": 1.4922499999999999,
            "count": 1
           },
           {
            "bin_end": 2.04455,
            "bin_start": 1.7684,
            "count": 0
           },
           {
            "bin_end": 2.3207,
            "bin_start": 2.04455,
            "count": 0
           },
           {
            "bin_end": 2.59685,
            "bin_start": 2.3207,
            "count": 1
           },
           {
            "bin_end": 2.873,
            "bin_start": 2.59685,
            "count": 1
           }
          ],
          "max": "2.873",
          "min": "0.1115",
          "nan_count": 0,
          "unique_count": 540
         }
        },
        {
         "dtype": "float64",
         "name": "texture_1",
         "stats": {
          "histogram": [
           {
            "bin_end": 0.8126800000000001,
            "bin_start": 0.3602,
            "count": 129
           },
           {
            "bin_end": 1.26516,
            "bin_start": 0.8126800000000001,
            "count": 220
           },
           {
            "bin_end": 1.71764,
            "bin_start": 1.26516,
            "count": 136
           },
           {
            "bin_end": 2.17012,
            "bin_start": 1.71764,
            "count": 52
           },
           {
            "bin_end": 2.6226,
            "bin_start": 2.17012,
            "count": 18
           },
           {
            "bin_end": 3.07508,
            "bin_start": 2.6226,
            "count": 9
           },
           {
            "bin_end": 3.52756,
            "bin_start": 3.07508,
            "count": 1
           },
           {
            "bin_end": 3.98004,
            "bin_start": 3.52756,
            "count": 3
           },
           {
            "bin_end": 4.432519999999999,
            "bin_start": 3.98004,
            "count": 0
           },
           {
            "bin_end": 4.885,
            "bin_start": 4.432519999999999,
            "count": 1
           }
          ],
          "max": "4.885",
          "min": "0.3602",
          "nan_count": 0,
          "unique_count": 519
         }
        },
        {
         "dtype": "float64",
         "name": "perimeter_1",
         "stats": {
          "histogram": [
           {
            "bin_end": 2.8793,
            "bin_start": 0.757,
            "count": 378
           },
           {
            "bin_end": 5.0016,
            "bin_start": 2.8793,
            "count": 131
           },
           {
            "bin_end": 7.1239,
            "bin_start": 5.0016,
            "count": 32
           },
           {
            "bin_end": 9.2462,
            "bin_start": 7.1239,
            "count": 20
           },
           {
            "bin_end": 11.3685,
            "bin_start": 9.2462,
            "count": 6
           },
           {
            "bin_end": 13.4908,
            "bin_start": 11.3685,
            "count": 0
           },
           {
            "bin_end": 15.613100000000001,
            "bin_start": 13.4908,
            "count": 0
           },
           {
            "bin_end": 17.735400000000002,
            "bin_start": 15.613100000000001,
            "count": 0
           },
           {
            "bin_end": 19.8577,
            "bin_start": 17.735400000000002,
            "count": 1
           },
           {
            "bin_end": 21.98,
            "bin_start": 19.8577,
            "count": 1
           }
          ],
          "max": "21.98",
          "min": "0.757",
          "nan_count": 0,
          "unique_count": 533
         }
        },
        {
         "dtype": "float64",
         "name": "area_1",
         "stats": {
          "histogram": [
           {
            "bin_end": 60.3418,
            "bin_start": 6.8020000000000005,
            "count": 466
           },
           {
            "bin_end": 113.8816,
            "bin_start": 60.3418,
            "count": 73
           },
           {
            "bin_end": 167.42139999999998,
            "bin_start": 113.8816,
            "count": 22
           },
           {
            "bin_end": 220.9612,
            "bin_start": 167.42139999999998,
            "count": 4
           },
           {
            "bin_end": 274.50100000000003,
            "bin_start": 220.9612,
            "count": 2
           },
           {
            "bin_end": 328.0408,
            "bin_start": 274.50100000000003,
            "count": 0
           },
           {
            "bin_end": 381.5806,
            "bin_start": 328.0408,
            "count": 0
           },
           {
            "bin_end": 435.1204,
            "bin_start": 381.5806,
            "count": 0
           },
           {
            "bin_end": 488.66020000000003,
            "bin_start": 435.1204,
            "count": 0
           },
           {
            "bin_end": 542.2,
            "bin_start": 488.66020000000003,
            "count": 2
           }
          ],
          "max": "542.2",
          "min": "6.8020000000000005",
          "nan_count": 0,
          "unique_count": 528
         }
        },
        {
         "dtype": "float64",
         "name": "smoothness_1",
         "stats": {
          "histogram": [
           {
            "bin_end": 0.0046547,
            "bin_start": 0.001713,
            "count": 96
           },
           {
            "bin_end": 0.0075964000000000005,
            "bin_start": 0.0046547,
            "count": 299
           },
           {
            "bin_end": 0.0105381,
            "bin_start": 0.0075964000000000005,
            "count": 120
           },
           {
            "bin_end": 0.0134798,
            "bin_start": 0.0105381,
            "count": 34
           },
           {
            "bin_end": 0.016421500000000002,
            "bin_start": 0.0134798,
            "count": 13
           },
           {
            "bin_end": 0.0193632,
            "bin_start": 0.016421500000000002,
            "count": 3
           },
           {
            "bin_end": 0.022304900000000003,
            "bin_start": 0.0193632,
            "count": 2
           },
           {
            "bin_end": 0.0252466,
            "bin_start": 0.022304900000000003,
            "count": 1
           },
           {
            "bin_end": 0.0281883,
            "bin_start": 0.0252466,
            "count": 0
           },
           {
            "bin_end": 0.03113,
            "bin_start": 0.0281883,
            "count": 1
           }
          ],
          "max": "0.03113",
          "min": "0.001713",
          "nan_count": 0,
          "unique_count": 547
         }
        },
        {
         "dtype": "float64",
         "name": "compactness_1",
         "stats": {
          "histogram": [
           {
            "bin_end": 0.015566799999999999,
            "bin_start": 0.002252,
            "count": 200
           },
           {
            "bin_end": 0.028881599999999997,
            "bin_start": 0.015566799999999999,
            "count": 187
           },
           {
            "bin_end": 0.04219639999999999,
            "bin_start": 0.028881599999999997,
            "count": 105
           },
           {
            "bin_end": 0.05551119999999999,
            "bin_start": 0.04219639999999999,
            "count": 39
           },
           {
            "bin_end": 0.068826,
            "bin_start": 0.05551119999999999,
            "count": 19
           },
           {
            "bin_end": 0.08214079999999999,
            "bin_start": 0.068826,
            "count": 7
           },
           {
            "bin_end": 0.09545559999999999,
            "bin_start": 0.08214079999999999,
            "count": 7
           },
           {
            "bin_end": 0.10877039999999999,
            "bin_start": 0.09545559999999999,
            "count": 4
           },
           {
            "bin_end": 0.12208519999999999,
            "bin_start": 0.10877039999999999,
            "count": 0
           },
           {
            "bin_end": 0.1354,
            "bin_start": 0.12208519999999999,
            "count": 1
           }
          ],
          "max": "0.1354",
          "min": "0.002252",
          "nan_count": 0,
          "unique_count": 541
         }
        },
        {
         "dtype": "float64",
         "name": "concavity_1",
         "stats": {
          "histogram": [
           {
            "bin_end": 0.0396,
            "bin_start": 0,
            "count": 412
           },
           {
            "bin_end": 0.0792,
            "bin_start": 0.0396,
            "count": 128
           },
           {
            "bin_end": 0.11880000000000002,
            "bin_start": 0.0792,
            "count": 22
           },
           {
            "bin_end": 0.1584,
            "bin_start": 0.11880000000000002,
            "count": 5
           },
           {
            "bin_end": 0.198,
            "bin_start": 0.1584,
            "count": 0
           },
           {
            "bin_end": 0.23760000000000003,
            "bin_start": 0.198,
            "count": 0
           },
           {
            "bin_end": 0.2772,
            "bin_start": 0.23760000000000003,
            "count": 0
           },
           {
            "bin_end": 0.3168,
            "bin_start": 0.2772,
            "count": 1
           },
           {
            "bin_end": 0.35640000000000005,
            "bin_start": 0.3168,
            "count": 0
           },
           {
            "bin_end": 0.396,
            "bin_start": 0.35640000000000005,
            "count": 1
           }
          ],
          "max": "0.396",
          "min": "0.0",
          "nan_count": 0,
          "unique_count": 533
         }
        },
        {
         "dtype": "float64",
         "name": "concave points_1",
         "stats": {
          "histogram": [
           {
            "bin_end": 0.005279,
            "bin_start": 0,
            "count": 51
           },
           {
            "bin_end": 0.010558,
            "bin_start": 0.005279,
            "count": 219
           },
           {
            "bin_end": 0.015837,
            "bin_start": 0.010558,
            "count": 186
           },
           {
            "bin_end": 0.021116,
            "bin_start": 0.015837,
            "count": 74
           },
           {
            "bin_end": 0.026395,
            "bin_start": 0.021116,
            "count": 25
           },
           {
            "bin_end": 0.031674,
            "bin_start": 0.026395,
            "count": 8
           },
           {
            "bin_end": 0.036953,
            "bin_start": 0.031674,
            "count": 3
           },
           {
            "bin_end": 0.042232,
            "bin_start": 0.036953,
            "count": 2
           },
           {
            "bin_end": 0.047511,
            "bin_start": 0.042232,
            "count": 0
           },
           {
            "bin_end": 0.05279,
            "bin_start": 0.047511,
            "count": 1
           }
          ],
          "max": "0.05279",
          "min": "0.0",
          "nan_count": 0,
          "unique_count": 507
         }
        },
        {
         "dtype": "float64",
         "name": "symmetry_1",
         "stats": {
          "histogram": [
           {
            "bin_end": 0.0149888,
            "bin_start": 0.007882,
            "count": 137
           },
           {
            "bin_end": 0.0220956,
            "bin_start": 0.0149888,
            "count": 264
           },
           {
            "bin_end": 0.029202400000000003,
            "bin_start": 0.0220956,
            "count": 103
           },
           {
            "bin_end": 0.0363092,
            "bin_start": 0.029202400000000003,
            "count": 38
           },
           {
            "bin_end": 0.043416,
            "bin_start": 0.0363092,
            "count": 14
           },
           {
            "bin_end": 0.05052280000000001,
            "bin_start": 0.043416,
            "count": 5
           },
           {
            "bin_end": 0.0576296,
            "bin_start": 0.05052280000000001,
            "count": 5
           },
           {
            "bin_end": 0.0647364,
            "bin_start": 0.0576296,
            "count": 2
           },
           {
            "bin_end": 0.07184320000000001,
            "bin_start": 0.0647364,
            "count": 0
           },
           {
            "bin_end": 0.07895,
            "bin_start": 0.07184320000000001,
            "count": 1
           }
          ],
          "max": "0.07895",
          "min": "0.007882",
          "nan_count": 0,
          "unique_count": 498
         }
        },
        {
         "dtype": "float64",
         "name": "fractal dimension_1",
         "stats": {
          "histogram": [
           {
            "bin_end": 0.0037893199999999997,
            "bin_start": 0.0008948000000000001,
            "count": 361
           },
           {
            "bin_end": 0.00668384,
            "bin_start": 0.0037893199999999997,
            "count": 158
           },
           {
            "bin_end": 0.00957836,
            "bin_start": 0.00668384,
            "count": 32
           },
           {
            "bin_end": 0.012472879999999999,
            "bin_start": 0.00957836,
            "count": 11
           },
           {
            "bin_end": 0.015367399999999998,
            "bin_start": 0.012472879999999999,
            "count": 3
           },
           {
            "bin_end": 0.01826192,
            "bin_start": 0.015367399999999998,
            "count": 1
           },
           {
            "bin_end": 0.02115644,
            "bin_start": 0.01826192,
            "count": 0
           },
           {
            "bin_end": 0.02405096,
            "bin_start": 0.02115644,
            "count": 2
           },
           {
            "bin_end": 0.02694548,
            "bin_start": 0.02405096,
            "count": 0
           },
           {
            "bin_end": 0.02984,
            "bin_start": 0.02694548,
            "count": 1
           }
          ],
          "max": "0.02984",
          "min": "0.0008948000000000001",
          "nan_count": 0,
          "unique_count": 545
         }
        },
        {
         "dtype": "float64",
         "name": "radius_2",
         "stats": {
          "histogram": [
           {
            "bin_end": 10.741,
            "bin_start": 7.93,
            "count": 34
           },
           {
            "bin_end": 13.552,
            "bin_start": 10.741,
            "count": 160
           },
           {
            "bin_end": 16.363,
            "bin_start": 13.552,
            "count": 167
           },
           {
            "bin_end": 19.174,
            "bin_start": 16.363,
            "count": 69
           },
           {
            "bin_end": 21.985,
            "bin_start": 19.174,
            "count": 53
           },
           {
            "bin_end": 24.796,
            "bin_start": 21.985,
            "count": 47
           },
           {
            "bin_end": 27.607,
            "bin_start": 24.796,
            "count": 22
           },
           {
            "bin_end": 30.418,
            "bin_start": 27.607,
            "count": 9
           },
           {
            "bin_end": 33.229,
            "bin_start": 30.418,
            "count": 7
           },
           {
            "bin_end": 36.04,
            "bin_start": 33.229,
            "count": 1
           }
          ],
          "max": "36.04",
          "min": "7.93",
          "nan_count": 0,
          "unique_count": 457
         }
        },
        {
         "dtype": "float64",
         "name": "texture_2",
         "stats": {
          "histogram": [
           {
            "bin_end": 15.771999999999998,
            "bin_start": 12.02,
            "count": 16
           },
           {
            "bin_end": 19.524,
            "bin_start": 15.771999999999998,
            "count": 80
           },
           {
            "bin_end": 23.276,
            "bin_start": 19.524,
            "count": 123
           },
           {
            "bin_end": 27.028,
            "bin_start": 23.276,
            "count": 131
           },
           {
            "bin_end": 30.779999999999998,
            "bin_start": 27.028,
            "count": 100
           },
           {
            "bin_end": 34.532,
            "bin_start": 30.779999999999998,
            "count": 75
           },
           {
            "bin_end": 38.284,
            "bin_start": 34.532,
            "count": 28
           },
           {
            "bin_end": 42.036,
            "bin_start": 38.284,
            "count": 11
           },
           {
            "bin_end": 45.788,
            "bin_start": 42.036,
            "count": 3
           },
           {
            "bin_end": 49.54,
            "bin_start": 45.788,
            "count": 2
           }
          ],
          "max": "49.54",
          "min": "12.02",
          "nan_count": 0,
          "unique_count": 511
         }
        },
        {
         "dtype": "float64",
         "name": "perimeter_2",
         "stats": {
          "histogram": [
           {
            "bin_end": 70.489,
            "bin_start": 50.41,
            "count": 43
           },
           {
            "bin_end": 90.568,
            "bin_start": 70.489,
            "count": 178
           },
           {
            "bin_end": 110.64699999999999,
            "bin_start": 90.568,
            "count": 151
           },
           {
            "bin_end": 130.726,
            "bin_start": 110.64699999999999,
            "count": 77
           },
           {
            "bin_end": 150.805,
            "bin_start": 130.726,
            "count": 45
           },
           {
            "bin_end": 170.88400000000001,
            "bin_start": 150.805,
            "count": 44
           },
           {
            "bin_end": 190.963,
            "bin_start": 170.88400000000001,
            "count": 18
           },
           {
            "bin_end": 211.042,
            "bin_start": 190.963,
            "count": 7
           },
           {
            "bin_end": 231.121,
            "bin_start": 211.042,
            "count": 5
           },
           {
            "bin_end": 251.2,
            "bin_start": 231.121,
            "count": 1
           }
          ],
          "max": "251.2",
          "min": "50.41",
          "nan_count": 0,
          "unique_count": 514
         }
        },
        {
         "dtype": "float64",
         "name": "area_2",
         "stats": {
          "histogram": [
           {
            "bin_end": 592.0799999999999,
            "bin_start": 185.2,
            "count": 223
           },
           {
            "bin_end": 998.96,
            "bin_start": 592.0799999999999,
            "count": 193
           },
           {
            "bin_end": 1405.84,
            "bin_start": 998.96,
            "count": 58
           },
           {
            "bin_end": 1812.72,
            "bin_start": 1405.84,
            "count": 51
           },
           {
            "bin_end": 2219.6,
            "bin_start": 1812.72,
            "count": 25
           },
           {
            "bin_end": 2626.4799999999996,
            "bin_start": 2219.6,
            "count": 10
           },
           {
            "bin_end": 3033.3599999999997,
            "bin_start": 2626.4799999999996,
            "count": 4
           },
           {
            "bin_end": 3440.24,
            "bin_start": 3033.3599999999997,
            "count": 4
           },
           {
            "bin_end": 3847.12,
            "bin_start": 3440.24,
            "count": 0
           },
           {
            "bin_end": 4254,
            "bin_start": 3847.12,
            "count": 1
           }
          ],
          "max": "4254.0",
          "min": "185.2",
          "nan_count": 0,
          "unique_count": 544
         }
        },
        {
         "dtype": "float64",
         "name": "smoothness_2",
         "stats": {
          "histogram": [
           {
            "bin_end": 0.08631300000000001,
            "bin_start": 0.07117000000000001,
            "count": 5
           },
           {
            "bin_end": 0.101456,
            "bin_start": 0.08631300000000001,
            "count": 43
           },
           {
            "bin_end": 0.11659900000000001,
            "bin_start": 0.101456,
            "count": 93
           },
           {
            "bin_end": 0.131742,
            "bin_start": 0.11659900000000001,
            "count": 150
           },
           {
            "bin_end": 0.146885,
            "bin_start": 0.131742,
            "count": 143
           },
           {
            "bin_end": 0.162028,
            "bin_start": 0.146885,
            "count": 78
           },
           {
            "bin_end": 0.177171,
            "bin_start": 0.162028,
            "count": 34
           },
           {
            "bin_end": 0.19231399999999998,
            "bin_start": 0.177171,
            "count": 19
           },
           {
            "bin_end": 0.207457,
            "bin_start": 0.19231399999999998,
            "count": 1
           },
           {
            "bin_end": 0.2226,
            "bin_start": 0.207457,
            "count": 3
           }
          ],
          "max": "0.2226",
          "min": "0.07117000000000001",
          "nan_count": 0,
          "unique_count": 411
         }
        },
        {
         "dtype": "float64",
         "name": "compactness_2",
         "stats": {
          "histogram": [
           {
            "bin_end": 0.130361,
            "bin_start": 0.02729,
            "count": 117
           },
           {
            "bin_end": 0.233432,
            "bin_start": 0.130361,
            "count": 200
           },
           {
            "bin_end": 0.33650299999999994,
            "bin_start": 0.233432,
            "count": 108
           },
           {
            "bin_end": 0.43957399999999996,
            "bin_start": 0.33650299999999994,
            "count": 84
           },
           {
            "bin_end": 0.542645,
            "bin_start": 0.43957399999999996,
            "count": 27
           },
           {
            "bin_end": 0.645716,
            "bin_start": 0.542645,
            "count": 17
           },
           {
            "bin_end": 0.748787,
            "bin_start": 0.645716,
            "count": 8
           },
           {
            "bin_end": 0.851858,
            "bin_start": 0.748787,
            "count": 3
           },
           {
            "bin_end": 0.954929,
            "bin_start": 0.851858,
            "count": 4
           },
           {
            "bin_end": 1.058,
            "bin_start": 0.954929,
            "count": 1
           }
          ],
          "max": "1.058",
          "min": "0.02729",
          "nan_count": 0,
          "unique_count": 529
         }
        },
        {
         "dtype": "float64",
         "name": "concavity_2",
         "stats": {
          "histogram": [
           {
            "bin_end": 0.1252,
            "bin_start": 0,
            "count": 157
           },
           {
            "bin_end": 0.2504,
            "bin_start": 0.1252,
            "count": 151
           },
           {
            "bin_end": 0.37560000000000004,
            "bin_start": 0.2504,
            "count": 109
           },
           {
            "bin_end": 0.5008,
            "bin_start": 0.37560000000000004,
            "count": 72
           },
           {
            "bin_end": 0.626,
            "bin_start": 0.5008,
            "count": 38
           },
           {
            "bin_end": 0.7512000000000001,
            "bin_start": 0.626,
            "count": 28
           },
           {
            "bin_end": 0.8764000000000001,
            "bin_start": 0.7512000000000001,
            "count": 7
           },
           {
            "bin_end": 1.0016,
            "bin_start": 0.8764000000000001,
            "count": 4
           },
           {
            "bin_end": 1.1268,
            "bin_start": 1.0016,
            "count": 1
           },
           {
            "bin_end": 1.252,
            "bin_start": 1.1268,
            "count": 2
           }
          ],
          "max": "1.252",
          "min": "0.0",
          "nan_count": 0,
          "unique_count": 539
         }
        },
        {
         "dtype": "float64",
         "name": "concave points_2",
         "stats": {
          "histogram": [
           {
            "bin_end": 0.029100000000000004,
            "bin_start": 0,
            "count": 43
           },
           {
            "bin_end": 0.05820000000000001,
            "bin_start": 0.029100000000000004,
            "count": 72
           },
           {
            "bin_end": 0.08730000000000002,
            "bin_start": 0.05820000000000001,
            "count": 130
           },
           {
            "bin_end": 0.11640000000000002,
            "bin_start": 0.08730000000000002,
            "count": 87
           },
           {
            "bin_end": 0.14550000000000002,
            "bin_start": 0.11640000000000002,
            "count": 54
           },
           {
            "bin_end": 0.17460000000000003,
            "bin_start": 0.14550000000000002,
            "count": 63
           },
           {
            "bin_end": 0.20370000000000002,
            "bin_start": 0.17460000000000003,
            "count": 55
           },
           {
            "bin_end": 0.23280000000000003,
            "bin_start": 0.20370000000000002,
            "count": 34
           },
           {
            "bin_end": 0.2619,
            "bin_start": 0.23280000000000003,
            "count": 20
           },
           {
            "bin_end": 0.29100000000000004,
            "bin_start": 0.2619,
            "count": 11
           }
          ],
          "max": "0.29100000000000004",
          "min": "0.0",
          "nan_count": 0,
          "unique_count": 492
         }
        },
        {
         "dtype": "float64",
         "name": "symmetry_2",
         "stats": {
          "histogram": [
           {
            "bin_end": 0.20723,
            "bin_start": 0.1565,
            "count": 23
           },
           {
            "bin_end": 0.25795999999999997,
            "bin_start": 0.20723,
            "count": 153
           },
           {
            "bin_end": 0.30869,
            "bin_start": 0.25795999999999997,
            "count": 219
           },
           {
            "bin_end": 0.35941999999999996,
            "bin_start": 0.30869,
            "count": 114
           },
           {
            "bin_end": 0.41015,
            "bin_start": 0.35941999999999996,
            "count": 35
           },
           {
            "bin_end": 0.46087999999999996,
            "bin_start": 0.41015,
            "count": 11
           },
           {
            "bin_end": 0.51161,
            "bin_start": 0.46087999999999996,
            "count": 9
           },
           {
            "bin_end": 0.56234,
            "bin_start": 0.51161,
            "count": 3
           },
           {
            "bin_end": 0.61307,
            "bin_start": 0.56234,
            "count": 1
           },
           {
            "bin_end": 0.6638,
            "bin_start": 0.61307,
            "count": 1
           }
          ],
          "max": "0.6638",
          "min": "0.1565",
          "nan_count": 0,
          "unique_count": 500
         }
        },
        {
         "dtype": "float64",
         "name": "fractal dimension_2",
         "stats": {
          "histogram": [
           {
            "bin_end": 0.070286,
            "bin_start": 0.05504,
            "count": 123
           },
           {
            "bin_end": 0.085532,
            "bin_start": 0.070286,
            "count": 245
           },
           {
            "bin_end": 0.100778,
            "bin_start": 0.085532,
            "count": 113
           },
           {
            "bin_end": 0.11602399999999999,
            "bin_start": 0.100778,
            "count": 51
           },
           {
            "bin_end": 0.13127,
            "bin_start": 0.11602399999999999,
            "count": 25
           },
           {
            "bin_end": 0.146516,
            "bin_start": 0.13127,
            "count": 9
           },
           {
            "bin_end": 0.161762,
            "bin_start": 0.146516,
            "count": 1
           },
           {
            "bin_end": 0.177008,
            "bin_start": 0.161762,
            "count": 1
           },
           {
            "bin_end": 0.192254,
            "bin_start": 0.177008,
            "count": 0
           },
           {
            "bin_end": 0.2075,
            "bin_start": 0.192254,
            "count": 1
           }
          ],
          "max": "0.2075",
          "min": "0.05504",
          "nan_count": 0,
          "unique_count": 535
         }
        },
        {
         "dtype": "int64",
         "name": "_deepnote_index_column"
        }
       ],
       "row_count": 569,
       "rows": [
        {
         "_deepnote_index_column": "0",
         "area_0": "1001.0",
         "area_1": "153.4",
         "area_2": "2019.0",
         "compactness_0": "0.2776",
         "compactness_1": "0.04904",
         "compactness_2": "0.6656",
         "concave points_0": "0.1471",
         "concave points_1": "0.01587",
         "concave points_2": "0.2654",
         "concavity_0": "0.3001",
         "concavity_1": "0.05372999999999999",
         "concavity_2": "0.7119",
         "fractal dimension_0": "0.07871",
         "fractal dimension_1": "0.006193",
         "fractal dimension_2": "0.1189",
         "id": "842302",
         "malignant": "1",
         "perimeter_0": "122.8",
         "perimeter_1": "8.589",
         "perimeter_2": "184.6",
         "radius_0": "17.99",
         "radius_1": "1.095",
         "radius_2": "25.38",
         "smoothness_0": "0.1184",
         "smoothness_1": "0.006399",
         "smoothness_2": "0.1622",
         "symmetry_0": "0.2419",
         "symmetry_1": "0.03003",
         "symmetry_2": "0.4601",
         "texture_0": "10.38",
         "texture_1": "0.9053",
         "texture_2": "17.33"
        },
        {
         "_deepnote_index_column": "1",
         "area_0": "1326.0",
         "area_1": "74.08",
         "area_2": "1956.0",
         "compactness_0": "0.07864",
         "compactness_1": "0.013080000000000001",
         "compactness_2": "0.1866",
         "concave points_0": "0.07017000000000001",
         "concave points_1": "0.0134",
         "concave points_2": "0.18600000000000003",
         "concavity_0": "0.0869",
         "concavity_1": "0.0186",
         "concavity_2": "0.2416",
         "fractal dimension_0": "0.056670000000000005",
         "fractal dimension_1": "0.003532",
         "fractal dimension_2": "0.08902",
         "id": "842517",
         "malignant": "1",
         "perimeter_0": "132.9",
         "perimeter_1": "3.398",
         "perimeter_2": "158.8",
         "radius_0": "20.57",
         "radius_1": "0.5435",
         "radius_2": "24.99",
         "smoothness_0": "0.08474",
         "smoothness_1": "0.005225",
         "smoothness_2": "0.1238",
         "symmetry_0": "0.1812",
         "symmetry_1": "0.013890000000000001",
         "symmetry_2": "0.275",
         "texture_0": "17.77",
         "texture_1": "0.7339",
         "texture_2": "23.41"
        },
        {
         "_deepnote_index_column": "2",
         "area_0": "1203.0",
         "area_1": "94.03",
         "area_2": "1709.0",
         "compactness_0": "0.1599",
         "compactness_1": "0.040060000000000005",
         "compactness_2": "0.4245",
         "concave points_0": "0.1279",
         "concave points_1": "0.02058",
         "concave points_2": "0.243",
         "concavity_0": "0.1974",
         "concavity_1": "0.03832",
         "concavity_2": "0.4504",
         "fractal dimension_0": "0.059989999999999995",
         "fractal dimension_1": "0.004571",
         "fractal dimension_2": "0.08757999999999999",
         "id": "84300903",
         "malignant": "1",
         "perimeter_0": "130.0",
         "perimeter_1": "4.585",
         "perimeter_2": "152.5",
         "radius_0": "19.69",
         "radius_1": "0.7456",
         "radius_2": "23.57",
         "smoothness_0": "0.1096",
         "smoothness_1": "0.00615",
         "smoothness_2": "0.1444",
         "symmetry_0": "0.2069",
         "symmetry_1": "0.0225",
         "symmetry_2": "0.3613",
         "texture_0": "21.25",
         "texture_1": "0.7869",
         "texture_2": "25.53"
        },
        {
         "_deepnote_index_column": "3",
         "area_0": "386.1",
         "area_1": "27.23",
         "area_2": "567.7",
         "compactness_0": "0.2839",
         "compactness_1": "0.07458",
         "compactness_2": "0.8663",
         "concave points_0": "0.1052",
         "concave points_1": "0.01867",
         "concave points_2": "0.2575",
         "concavity_0": "0.2414",
         "concavity_1": "0.05661",
         "concavity_2": "0.6869",
         "fractal dimension_0": "0.09744",
         "fractal dimension_1": "0.009208",
         "fractal dimension_2": "0.17300000000000001",
         "id": "84348301",
         "malignant": "1",
         "perimeter_0": "77.58",
         "perimeter_1": "3.445",
         "perimeter_2": "98.87",
         "radius_0": "11.42",
         "radius_1": "0.4956",
         "radius_2": "14.91",
         "smoothness_0": "0.1425",
         "smoothness_1": "0.00911",
         "smoothness_2": "0.2098",
         "symmetry_0": "0.2597",
         "symmetry_1": "0.059629999999999996",
         "symmetry_2": "0.6638",
         "texture_0": "20.38",
         "texture_1": "1.156",
         "texture_2": "26.5"
        },
        {
         "_deepnote_index_column": "4",
         "area_0": "1297.0",
         "area_1": "94.44",
         "area_2": "1575.0",
         "compactness_0": "0.1328",
         "compactness_1": "0.02461",
         "compactness_2": "0.205",
         "concave points_0": "0.1043",
         "concave points_1": "0.01885",
         "concave points_2": "0.1625",
         "concavity_0": "0.198",
         "concavity_1": "0.05687999999999999",
         "concavity_2": "0.4",
         "fractal dimension_0": "0.05882999999999999",
         "fractal dimension_1": "0.005115",
         "fractal dimension_2": "0.07678",
         "id": "84358402",
         "malignant": "1",
         "perimeter_0": "135.1",
         "perimeter_1": "5.438",
         "perimeter_2": "152.2",
         "radius_0": "20.29",
         "radius_1": "0.7572",
         "radius_2": "22.54",
         "smoothness_0": "0.1003",
         "smoothness_1": "0.01149",
         "smoothness_2": "0.1374",
         "symmetry_0": "0.1809",
         "symmetry_1": "0.01756",
         "symmetry_2": "0.2364",
         "texture_0": "14.34",
         "texture_1": "0.7813",
         "texture_2": "16.67"
        },
        {
         "_deepnote_index_column": "5",
         "area_0": "477.1",
         "area_1": "27.19",
         "area_2": "741.6",
         "compactness_0": "0.17",
         "compactness_1": "0.03345",
         "compactness_2": "0.5249",
         "concave points_0": "0.08089",
         "concave points_1": "0.01137",
         "concave points_2": "0.1741",
         "concavity_0": "0.1578",
         "concavity_1": "0.036719999999999996",
         "concavity_2": "0.5355",
         "fractal dimension_0": "0.07612999999999999",
         "fractal dimension_1": "0.005082",
         "fractal dimension_2": "0.1244",
         "id": "843786",
         "malignant": "1",
         "perimeter_0": "82.57",
         "perimeter_1": "2.217",
         "perimeter_2": "103.4",
         "radius_0": "12.45",
         "radius_1": "0.3345",
         "radius_2": "15.47",
         "smoothness_0": "0.1278",
         "smoothness_1": "0.007509999999999999",
         "smoothness_2": "0.1791",
         "symmetry_0": "0.2087",
         "symmetry_1": "0.02165",
         "symmetry_2": "0.3985",
         "texture_0": "15.7",
         "texture_1": "0.8902",
         "texture_2": "23.75"
        },
        {
         "_deepnote_index_column": "6",
         "area_0": "1040.0",
         "area_1": "53.91",
         "area_2": "1606.0",
         "compactness_0": "0.109",
         "compactness_1": "0.013819999999999999",
         "compactness_2": "0.2576",
         "concave points_0": "0.07400000000000001",
         "concave points_1": "0.01039",
         "concave points_2": "0.1932",
         "concavity_0": "0.1127",
         "concavity_1": "0.02254",
         "concavity_2": "0.3784",
         "fractal dimension_0": "0.057420000000000006",
         "fractal dimension_1": "0.002179",
         "fractal dimension_2": "0.08367999999999999",
         "id": "844359",
         "malignant": "1",
         "perimeter_0": "119.6",
         "perimeter_1": "3.18",
         "perimeter_2": "153.2",
         "radius_0": "18.25",
         "radius_1": "0.4467",
         "radius_2": "22.88",
         "smoothness_0": "0.09462999999999999",
         "smoothness_1": "0.004314",
         "smoothness_2": "0.1442",
         "symmetry_0": "0.1794",
         "symmetry_1": "0.01369",
         "symmetry_2": "0.3063",
         "texture_0": "19.98",
         "texture_1": "0.7732",
         "texture_2": "27.66"
        },
        {
         "_deepnote_index_column": "7",
         "area_0": "577.9",
         "area_1": "50.96",
         "area_2": "897.0",
         "compactness_0": "0.1645",
         "compactness_1": "0.030289999999999997",
         "compactness_2": "0.3682",
         "concave points_0": "0.05985",
         "concave points_1": "0.014480000000000002",
         "concave points_2": "0.1556",
         "concavity_0": "0.09366000000000001",
         "concavity_1": "0.024880000000000003",
         "concavity_2": "0.2678",
         "fractal dimension_0": "0.07451",
         "fractal dimension_1": "0.005412",
         "fractal dimension_2": "0.1151",
         "id": "84458202",
         "malignant": "1",
         "perimeter_0": "90.2",
         "perimeter_1": "3.8560000000000003",
         "perimeter_2": "110.6",
         "radius_0": "13.71",
         "radius_1": "0.5835",
         "radius_2": "17.06",
         "smoothness_0": "0.1189",
         "smoothness_1": "0.008805",
         "smoothness_2": "0.1654",
         "symmetry_0": "0.2196",
         "symmetry_1": "0.01486",
         "symmetry_2": "0.3196",
         "texture_0": "20.83",
         "texture_1": "1.3769999999999998",
         "texture_2": "28.14"
        },
        {
         "_deepnote_index_column": "8",
         "area_0": "519.8",
         "area_1": "24.32",
         "area_2": "739.3",
         "compactness_0": "0.1932",
         "compactness_1": "0.035019999999999996",
         "compactness_2": "0.5401",
         "concave points_0": "0.09353",
         "concave points_1": "0.01226",
         "concave points_2": "0.20600000000000002",
         "concavity_0": "0.1859",
         "concavity_1": "0.03553",
         "concavity_2": "0.539",
         "fractal dimension_0": "0.07389",
         "fractal dimension_1": "0.003749",
         "fractal dimension_2": "0.1072",
         "id": "844981",
         "malignant": "1",
         "perimeter_0": "87.5",
         "perimeter_1": "2.406",
         "perimeter_2": "106.2",
         "radius_0": "13.0",
         "radius_1": "0.3063",
         "radius_2": "15.49",
         "smoothness_0": "0.1273",
         "smoothness_1": "0.005731",
         "smoothness_2": "0.1703",
         "symmetry_0": "0.235",
         "symmetry_1": "0.02143",
         "symmetry_2": "0.4378",
         "texture_0": "21.82",
         "texture_1": "1.002",
         "texture_2": "30.73"
        },
        {
         "_deepnote_index_column": "9",
         "area_0": "475.9",
         "area_1": "23.94",
         "area_2": "711.4",
         "compactness_0": "0.2396",
         "compactness_1": "0.07217",
         "compactness_2": "1.058",
         "concave points_0": "0.08542999999999999",
         "concave points_1": "0.01432",
         "concave points_2": "0.221",
         "concavity_0": "0.2273",
         "concavity_1": "0.07743",
         "concavity_2": "1.105",
         "fractal dimension_0": "0.08242999999999999",
         "fractal dimension_1": "0.01008",
         "fractal dimension_2": "0.2075",
         "id": "84501001",
         "malignant": "1",
         "perimeter_0": "83.97",
         "perimeter_1": "2.039",
         "perimeter_2": "97.65",
         "radius_0": "12.46",
         "radius_1": "0.2976",
         "radius_2": "15.09",
         "smoothness_0": "0.1186",
         "smoothness_1": "0.007148999999999999",
         "smoothness_2": "0.1853",
         "symmetry_0": "0.203",
         "symmetry_1": "0.01789",
         "symmetry_2": "0.4366",
         "texture_0": "24.04",
         "texture_1": "1.599",
         "texture_2": "40.68"
        }
       ]
      },
      "text/html": [
       "<div>\n",
       "<style scoped>\n",
       "    .dataframe tbody tr th:only-of-type {\n",
       "        vertical-align: middle;\n",
       "    }\n",
       "\n",
       "    .dataframe tbody tr th {\n",
       "        vertical-align: top;\n",
       "    }\n",
       "\n",
       "    .dataframe thead th {\n",
       "        text-align: right;\n",
       "    }\n",
       "</style>\n",
       "<table border=\"1\" class=\"dataframe\">\n",
       "  <thead>\n",
       "    <tr style=\"text-align: right;\">\n",
       "      <th></th>\n",
       "      <th>id</th>\n",
       "      <th>malignant</th>\n",
       "      <th>radius_0</th>\n",
       "      <th>texture_0</th>\n",
       "      <th>perimeter_0</th>\n",
       "      <th>area_0</th>\n",
       "      <th>smoothness_0</th>\n",
       "      <th>compactness_0</th>\n",
       "      <th>concavity_0</th>\n",
       "      <th>concave points_0</th>\n",
       "      <th>...</th>\n",
       "      <th>radius_2</th>\n",
       "      <th>texture_2</th>\n",
       "      <th>perimeter_2</th>\n",
       "      <th>area_2</th>\n",
       "      <th>smoothness_2</th>\n",
       "      <th>compactness_2</th>\n",
       "      <th>concavity_2</th>\n",
       "      <th>concave points_2</th>\n",
       "      <th>symmetry_2</th>\n",
       "      <th>fractal dimension_2</th>\n",
       "    </tr>\n",
       "  </thead>\n",
       "  <tbody>\n",
       "    <tr>\n",
       "      <th>0</th>\n",
       "      <td>842302</td>\n",
       "      <td>1</td>\n",
       "      <td>17.99</td>\n",
       "      <td>10.38</td>\n",
       "      <td>122.80</td>\n",
       "      <td>1001.0</td>\n",
       "      <td>0.11840</td>\n",
       "      <td>0.27760</td>\n",
       "      <td>0.30010</td>\n",
       "      <td>0.14710</td>\n",
       "      <td>...</td>\n",
       "      <td>25.380</td>\n",
       "      <td>17.33</td>\n",
       "      <td>184.60</td>\n",
       "      <td>2019.0</td>\n",
       "      <td>0.16220</td>\n",
       "      <td>0.66560</td>\n",
       "      <td>0.7119</td>\n",
       "      <td>0.2654</td>\n",
       "      <td>0.4601</td>\n",
       "      <td>0.11890</td>\n",
       "    </tr>\n",
       "    <tr>\n",
       "      <th>1</th>\n",
       "      <td>842517</td>\n",
       "      <td>1</td>\n",
       "      <td>20.57</td>\n",
       "      <td>17.77</td>\n",
       "      <td>132.90</td>\n",
       "      <td>1326.0</td>\n",
       "      <td>0.08474</td>\n",
       "      <td>0.07864</td>\n",
       "      <td>0.08690</td>\n",
       "      <td>0.07017</td>\n",
       "      <td>...</td>\n",
       "      <td>24.990</td>\n",
       "      <td>23.41</td>\n",
       "      <td>158.80</td>\n",
       "      <td>1956.0</td>\n",
       "      <td>0.12380</td>\n",
       "      <td>0.18660</td>\n",
       "      <td>0.2416</td>\n",
       "      <td>0.1860</td>\n",
       "      <td>0.2750</td>\n",
       "      <td>0.08902</td>\n",
       "    </tr>\n",
       "    <tr>\n",
       "      <th>2</th>\n",
       "      <td>84300903</td>\n",
       "      <td>1</td>\n",
       "      <td>19.69</td>\n",
       "      <td>21.25</td>\n",
       "      <td>130.00</td>\n",
       "      <td>1203.0</td>\n",
       "      <td>0.10960</td>\n",
       "      <td>0.15990</td>\n",
       "      <td>0.19740</td>\n",
       "      <td>0.12790</td>\n",
       "      <td>...</td>\n",
       "      <td>23.570</td>\n",
       "      <td>25.53</td>\n",
       "      <td>152.50</td>\n",
       "      <td>1709.0</td>\n",
       "      <td>0.14440</td>\n",
       "      <td>0.42450</td>\n",
       "      <td>0.4504</td>\n",
       "      <td>0.2430</td>\n",
       "      <td>0.3613</td>\n",
       "      <td>0.08758</td>\n",
       "    </tr>\n",
       "    <tr>\n",
       "      <th>3</th>\n",
       "      <td>84348301</td>\n",
       "      <td>1</td>\n",
       "      <td>11.42</td>\n",
       "      <td>20.38</td>\n",
       "      <td>77.58</td>\n",
       "      <td>386.1</td>\n",
       "      <td>0.14250</td>\n",
       "      <td>0.28390</td>\n",
       "      <td>0.24140</td>\n",
       "      <td>0.10520</td>\n",
       "      <td>...</td>\n",
       "      <td>14.910</td>\n",
       "      <td>26.50</td>\n",
       "      <td>98.87</td>\n",
       "      <td>567.7</td>\n",
       "      <td>0.20980</td>\n",
       "      <td>0.86630</td>\n",
       "      <td>0.6869</td>\n",
       "      <td>0.2575</td>\n",
       "      <td>0.6638</td>\n",
       "      <td>0.17300</td>\n",
       "    </tr>\n",
       "    <tr>\n",
       "      <th>4</th>\n",
       "      <td>84358402</td>\n",
       "      <td>1</td>\n",
       "      <td>20.29</td>\n",
       "      <td>14.34</td>\n",
       "      <td>135.10</td>\n",
       "      <td>1297.0</td>\n",
       "      <td>0.10030</td>\n",
       "      <td>0.13280</td>\n",
       "      <td>0.19800</td>\n",
       "      <td>0.10430</td>\n",
       "      <td>...</td>\n",
       "      <td>22.540</td>\n",
       "      <td>16.67</td>\n",
       "      <td>152.20</td>\n",
       "      <td>1575.0</td>\n",
       "      <td>0.13740</td>\n",
       "      <td>0.20500</td>\n",
       "      <td>0.4000</td>\n",
       "      <td>0.1625</td>\n",
       "      <td>0.2364</td>\n",
       "      <td>0.07678</td>\n",
       "    </tr>\n",
       "    <tr>\n",
       "      <th>...</th>\n",
       "      <td>...</td>\n",
       "      <td>...</td>\n",
       "      <td>...</td>\n",
       "      <td>...</td>\n",
       "      <td>...</td>\n",
       "      <td>...</td>\n",
       "      <td>...</td>\n",
       "      <td>...</td>\n",
       "      <td>...</td>\n",
       "      <td>...</td>\n",
       "      <td>...</td>\n",
       "      <td>...</td>\n",
       "      <td>...</td>\n",
       "      <td>...</td>\n",
       "      <td>...</td>\n",
       "      <td>...</td>\n",
       "      <td>...</td>\n",
       "      <td>...</td>\n",
       "      <td>...</td>\n",
       "      <td>...</td>\n",
       "      <td>...</td>\n",
       "    </tr>\n",
       "    <tr>\n",
       "      <th>564</th>\n",
       "      <td>926424</td>\n",
       "      <td>1</td>\n",
       "      <td>21.56</td>\n",
       "      <td>22.39</td>\n",
       "      <td>142.00</td>\n",
       "      <td>1479.0</td>\n",
       "      <td>0.11100</td>\n",
       "      <td>0.11590</td>\n",
       "      <td>0.24390</td>\n",
       "      <td>0.13890</td>\n",
       "      <td>...</td>\n",
       "      <td>25.450</td>\n",
       "      <td>26.40</td>\n",
       "      <td>166.10</td>\n",
       "      <td>2027.0</td>\n",
       "      <td>0.14100</td>\n",
       "      <td>0.21130</td>\n",
       "      <td>0.4107</td>\n",
       "      <td>0.2216</td>\n",
       "      <td>0.2060</td>\n",
       "      <td>0.07115</td>\n",
       "    </tr>\n",
       "    <tr>\n",
       "      <th>565</th>\n",
       "      <td>926682</td>\n",
       "      <td>1</td>\n",
       "      <td>20.13</td>\n",
       "      <td>28.25</td>\n",
       "      <td>131.20</td>\n",
       "      <td>1261.0</td>\n",
       "      <td>0.09780</td>\n",
       "      <td>0.10340</td>\n",
       "      <td>0.14400</td>\n",
       "      <td>0.09791</td>\n",
       "      <td>...</td>\n",
       "      <td>23.690</td>\n",
       "      <td>38.25</td>\n",
       "      <td>155.00</td>\n",
       "      <td>1731.0</td>\n",
       "      <td>0.11660</td>\n",
       "      <td>0.19220</td>\n",
       "      <td>0.3215</td>\n",
       "      <td>0.1628</td>\n",
       "      <td>0.2572</td>\n",
       "      <td>0.06637</td>\n",
       "    </tr>\n",
       "    <tr>\n",
       "      <th>566</th>\n",
       "      <td>926954</td>\n",
       "      <td>1</td>\n",
       "      <td>16.60</td>\n",
       "      <td>28.08</td>\n",
       "      <td>108.30</td>\n",
       "      <td>858.1</td>\n",
       "      <td>0.08455</td>\n",
       "      <td>0.10230</td>\n",
       "      <td>0.09251</td>\n",
       "      <td>0.05302</td>\n",
       "      <td>...</td>\n",
       "      <td>18.980</td>\n",
       "      <td>34.12</td>\n",
       "      <td>126.70</td>\n",
       "      <td>1124.0</td>\n",
       "      <td>0.11390</td>\n",
       "      <td>0.30940</td>\n",
       "      <td>0.3403</td>\n",
       "      <td>0.1418</td>\n",
       "      <td>0.2218</td>\n",
       "      <td>0.07820</td>\n",
       "    </tr>\n",
       "    <tr>\n",
       "      <th>567</th>\n",
       "      <td>927241</td>\n",
       "      <td>1</td>\n",
       "      <td>20.60</td>\n",
       "      <td>29.33</td>\n",
       "      <td>140.10</td>\n",
       "      <td>1265.0</td>\n",
       "      <td>0.11780</td>\n",
       "      <td>0.27700</td>\n",
       "      <td>0.35140</td>\n",
       "      <td>0.15200</td>\n",
       "      <td>...</td>\n",
       "      <td>25.740</td>\n",
       "      <td>39.42</td>\n",
       "      <td>184.60</td>\n",
       "      <td>1821.0</td>\n",
       "      <td>0.16500</td>\n",
       "      <td>0.86810</td>\n",
       "      <td>0.9387</td>\n",
       "      <td>0.2650</td>\n",
       "      <td>0.4087</td>\n",
       "      <td>0.12400</td>\n",
       "    </tr>\n",
       "    <tr>\n",
       "      <th>568</th>\n",
       "      <td>92751</td>\n",
       "      <td>0</td>\n",
       "      <td>7.76</td>\n",
       "      <td>24.54</td>\n",
       "      <td>47.92</td>\n",
       "      <td>181.0</td>\n",
       "      <td>0.05263</td>\n",
       "      <td>0.04362</td>\n",
       "      <td>0.00000</td>\n",
       "      <td>0.00000</td>\n",
       "      <td>...</td>\n",
       "      <td>9.456</td>\n",
       "      <td>30.37</td>\n",
       "      <td>59.16</td>\n",
       "      <td>268.6</td>\n",
       "      <td>0.08996</td>\n",
       "      <td>0.06444</td>\n",
       "      <td>0.0000</td>\n",
       "      <td>0.0000</td>\n",
       "      <td>0.2871</td>\n",
       "      <td>0.07039</td>\n",
       "    </tr>\n",
       "  </tbody>\n",
       "</table>\n",
       "<p>569 rows × 32 columns</p>\n",
       "</div>"
      ],
      "text/plain": [
       "           id  malignant  radius_0  texture_0  perimeter_0  area_0  \\\n",
       "0      842302          1     17.99      10.38       122.80  1001.0   \n",
       "1      842517          1     20.57      17.77       132.90  1326.0   \n",
       "2    84300903          1     19.69      21.25       130.00  1203.0   \n",
       "3    84348301          1     11.42      20.38        77.58   386.1   \n",
       "4    84358402          1     20.29      14.34       135.10  1297.0   \n",
       "..        ...        ...       ...        ...          ...     ...   \n",
       "564    926424          1     21.56      22.39       142.00  1479.0   \n",
       "565    926682          1     20.13      28.25       131.20  1261.0   \n",
       "566    926954          1     16.60      28.08       108.30   858.1   \n",
       "567    927241          1     20.60      29.33       140.10  1265.0   \n",
       "568     92751          0      7.76      24.54        47.92   181.0   \n",
       "\n",
       "     smoothness_0  compactness_0  concavity_0  concave points_0  ...  \\\n",
       "0         0.11840        0.27760      0.30010           0.14710  ...   \n",
       "1         0.08474        0.07864      0.08690           0.07017  ...   \n",
       "2         0.10960        0.15990      0.19740           0.12790  ...   \n",
       "3         0.14250        0.28390      0.24140           0.10520  ...   \n",
       "4         0.10030        0.13280      0.19800           0.10430  ...   \n",
       "..            ...            ...          ...               ...  ...   \n",
       "564       0.11100        0.11590      0.24390           0.13890  ...   \n",
       "565       0.09780        0.10340      0.14400           0.09791  ...   \n",
       "566       0.08455        0.10230      0.09251           0.05302  ...   \n",
       "567       0.11780        0.27700      0.35140           0.15200  ...   \n",
       "568       0.05263        0.04362      0.00000           0.00000  ...   \n",
       "\n",
       "     radius_2  texture_2  perimeter_2  area_2  smoothness_2  compactness_2  \\\n",
       "0      25.380      17.33       184.60  2019.0       0.16220        0.66560   \n",
       "1      24.990      23.41       158.80  1956.0       0.12380        0.18660   \n",
       "2      23.570      25.53       152.50  1709.0       0.14440        0.42450   \n",
       "3      14.910      26.50        98.87   567.7       0.20980        0.86630   \n",
       "4      22.540      16.67       152.20  1575.0       0.13740        0.20500   \n",
       "..        ...        ...          ...     ...           ...            ...   \n",
       "564    25.450      26.40       166.10  2027.0       0.14100        0.21130   \n",
       "565    23.690      38.25       155.00  1731.0       0.11660        0.19220   \n",
       "566    18.980      34.12       126.70  1124.0       0.11390        0.30940   \n",
       "567    25.740      39.42       184.60  1821.0       0.16500        0.86810   \n",
       "568     9.456      30.37        59.16   268.6       0.08996        0.06444   \n",
       "\n",
       "     concavity_2  concave points_2  symmetry_2  fractal dimension_2  \n",
       "0         0.7119            0.2654      0.4601              0.11890  \n",
       "1         0.2416            0.1860      0.2750              0.08902  \n",
       "2         0.4504            0.2430      0.3613              0.08758  \n",
       "3         0.6869            0.2575      0.6638              0.17300  \n",
       "4         0.4000            0.1625      0.2364              0.07678  \n",
       "..           ...               ...         ...                  ...  \n",
       "564       0.4107            0.2216      0.2060              0.07115  \n",
       "565       0.3215            0.1628      0.2572              0.06637  \n",
       "566       0.3403            0.1418      0.2218              0.07820  \n",
       "567       0.9387            0.2650      0.4087              0.12400  \n",
       "568       0.0000            0.0000      0.2871              0.07039  \n",
       "\n",
       "[569 rows x 32 columns]"
      ]
     },
     "execution_count": 3,
     "metadata": {},
     "output_type": "execute_result"
    }
   ],
   "source": [
    "#read data\n",
    "with open('/work/wdbc.pkl', 'rb') as f:\n",
    "    wdbc = pickle.load(f)\n",
    "wdbc"
   ]
  },
  {
   "cell_type": "code",
   "execution_count": 4,
   "metadata": {
    "cell_id": "f35cf1c4f3fc42f28839e474774cfc40",
    "deepnote_cell_type": "code",
    "deepnote_table_invalid": false,
    "deepnote_table_loading": false,
    "deepnote_table_state": {
     "filters": [],
     "pageIndex": 0,
     "pageSize": 10,
     "sortBy": [
      {
       "id": "texture_0",
       "type": "asc"
      }
     ]
    },
    "deepnote_to_be_reexecuted": false,
    "execution_millis": 75,
    "execution_start": 1676912723630,
    "source_hash": "862463aa",
    "tags": []
   },
   "outputs": [
    {
     "data": {
      "application/vnd.deepnote.dataframe.v3+json": {
       "column_count": 31,
       "columns": [
        {
         "dtype": "int32",
         "name": "malignant",
         "stats": {
          "histogram": [
           {
            "bin_end": 0.1,
            "bin_start": 0,
            "count": 357
           },
           {
            "bin_end": 0.2,
            "bin_start": 0.1,
            "count": 0
           },
           {
            "bin_end": 0.30000000000000004,
            "bin_start": 0.2,
            "count": 0
           },
           {
            "bin_end": 0.4,
            "bin_start": 0.30000000000000004,
            "count": 0
           },
           {
            "bin_end": 0.5,
            "bin_start": 0.4,
            "count": 0
           },
           {
            "bin_end": 0.6000000000000001,
            "bin_start": 0.5,
            "count": 0
           },
           {
            "bin_end": 0.7000000000000001,
            "bin_start": 0.6000000000000001,
            "count": 0
           },
           {
            "bin_end": 0.8,
            "bin_start": 0.7000000000000001,
            "count": 0
           },
           {
            "bin_end": 0.9,
            "bin_start": 0.8,
            "count": 0
           },
           {
            "bin_end": 1,
            "bin_start": 0.9,
            "count": 212
           }
          ],
          "max": "1",
          "min": "0",
          "nan_count": 0,
          "unique_count": 2
         }
        },
        {
         "dtype": "float64",
         "name": "radius_0",
         "stats": {
          "histogram": [
           {
            "bin_end": 9.0939,
            "bin_start": 6.981,
            "count": 19
           },
           {
            "bin_end": 11.2068,
            "bin_start": 9.0939,
            "count": 79
           },
           {
            "bin_end": 13.3197,
            "bin_start": 11.2068,
            "count": 185
           },
           {
            "bin_end": 15.432599999999999,
            "bin_start": 13.3197,
            "count": 129
           },
           {
            "bin_end": 17.545499999999997,
            "bin_start": 15.432599999999999,
            "count": 55
           },
           {
            "bin_end": 19.6584,
            "bin_start": 17.545499999999997,
            "count": 50
           },
           {
            "bin_end": 21.771299999999997,
            "bin_start": 19.6584,
            "count": 38
           },
           {
            "bin_end": 23.8842,
            "bin_start": 21.771299999999997,
            "count": 7
           },
           {
            "bin_end": 25.997099999999996,
            "bin_start": 23.8842,
            "count": 4
           },
           {
            "bin_end": 28.11,
            "bin_start": 25.997099999999996,
            "count": 3
           }
          ],
          "max": "28.11",
          "min": "6.981",
          "nan_count": 0,
          "unique_count": 456
         }
        },
        {
         "dtype": "float64",
         "name": "texture_0",
         "stats": {
          "histogram": [
           {
            "bin_end": 12.667000000000002,
            "bin_start": 9.71,
            "count": 17
           },
           {
            "bin_end": 15.624,
            "bin_start": 12.667000000000002,
            "count": 96
           },
           {
            "bin_end": 18.581,
            "bin_start": 15.624,
            "count": 154
           },
           {
            "bin_end": 21.538,
            "bin_start": 18.581,
            "count": 145
           },
           {
            "bin_end": 24.495,
            "bin_start": 21.538,
            "count": 89
           },
           {
            "bin_end": 27.451999999999998,
            "bin_start": 24.495,
            "count": 40
           },
           {
            "bin_end": 30.409,
            "bin_start": 27.451999999999998,
            "count": 21
           },
           {
            "bin_end": 33.366,
            "bin_start": 30.409,
            "count": 4
           },
           {
            "bin_end": 36.323,
            "bin_start": 33.366,
            "count": 2
           },
           {
            "bin_end": 39.28,
            "bin_start": 36.323,
            "count": 1
           }
          ],
          "max": "39.28",
          "min": "9.71",
          "nan_count": 0,
          "unique_count": 479
         }
        },
        {
         "dtype": "float64",
         "name": "perimeter_0",
         "stats": {
          "histogram": [
           {
            "bin_end": 58.260999999999996,
            "bin_start": 43.79,
            "count": 15
           },
           {
            "bin_end": 72.732,
            "bin_start": 58.260999999999996,
            "count": 93
           },
           {
            "bin_end": 87.203,
            "bin_start": 72.732,
            "count": 185
           },
           {
            "bin_end": 101.674,
            "bin_start": 87.203,
            "count": 116
           },
           {
            "bin_end": 116.14500000000001,
            "bin_start": 101.674,
            "count": 62
           },
           {
            "bin_end": 130.61599999999999,
            "bin_start": 116.14500000000001,
            "count": 49
           },
           {
            "bin_end": 145.087,
            "bin_start": 130.61599999999999,
            "count": 34
           },
           {
            "bin_end": 159.558,
            "bin_start": 145.087,
            "count": 8
           },
           {
            "bin_end": 174.029,
            "bin_start": 159.558,
            "count": 3
           },
           {
            "bin_end": 188.5,
            "bin_start": 174.029,
            "count": 4
           }
          ],
          "max": "188.5",
          "min": "43.79",
          "nan_count": 0,
          "unique_count": 522
         }
        },
        {
         "dtype": "float64",
         "name": "area_0",
         "stats": {
          "histogram": [
           {
            "bin_end": 379.25,
            "bin_start": 143.5,
            "count": 93
           },
           {
            "bin_end": 615,
            "bin_start": 379.25,
            "count": 251
           },
           {
            "bin_end": 850.75,
            "bin_start": 615,
            "count": 101
           },
           {
            "bin_end": 1086.5,
            "bin_start": 850.75,
            "count": 47
           },
           {
            "bin_end": 1322.25,
            "bin_start": 1086.5,
            "count": 51
           },
           {
            "bin_end": 1558,
            "bin_start": 1322.25,
            "count": 14
           },
           {
            "bin_end": 1793.75,
            "bin_start": 1558,
            "count": 6
           },
           {
            "bin_end": 2029.5,
            "bin_start": 1793.75,
            "count": 3
           },
           {
            "bin_end": 2265.25,
            "bin_start": 2029.5,
            "count": 1
           },
           {
            "bin_end": 2501,
            "bin_start": 2265.25,
            "count": 2
           }
          ],
          "max": "2501.0",
          "min": "143.5",
          "nan_count": 0,
          "unique_count": 539
         }
        },
        {
         "dtype": "float64",
         "name": "smoothness_0",
         "stats": {
          "histogram": [
           {
            "bin_end": 0.063707,
            "bin_start": 0.052629999999999996,
            "count": 2
           },
           {
            "bin_end": 0.07478399999999999,
            "bin_start": 0.063707,
            "count": 26
           },
           {
            "bin_end": 0.08586099999999999,
            "bin_start": 0.07478399999999999,
            "count": 110
           },
           {
            "bin_end": 0.096938,
            "bin_start": 0.08586099999999999,
            "count": 160
           },
           {
            "bin_end": 0.108015,
            "bin_start": 0.096938,
            "count": 164
           },
           {
            "bin_end": 0.11909199999999999,
            "bin_start": 0.108015,
            "count": 79
           },
           {
            "bin_end": 0.13016899999999998,
            "bin_start": 0.11909199999999999,
            "count": 20
           },
           {
            "bin_end": 0.14124599999999998,
            "bin_start": 0.13016899999999998,
            "count": 5
           },
           {
            "bin_end": 0.152323,
            "bin_start": 0.14124599999999998,
            "count": 2
           },
           {
            "bin_end": 0.1634,
            "bin_start": 0.152323,
            "count": 1
           }
          ],
          "max": "0.1634",
          "min": "0.052629999999999996",
          "nan_count": 0,
          "unique_count": 474
         }
        },
        {
         "dtype": "float64",
         "name": "compactness_0",
         "stats": {
          "histogram": [
           {
            "bin_end": 0.051982,
            "bin_start": 0.01938,
            "count": 68
           },
           {
            "bin_end": 0.08458399999999999,
            "bin_start": 0.051982,
            "count": 182
           },
           {
            "bin_end": 0.11718600000000001,
            "bin_start": 0.08458399999999999,
            "count": 133
           },
           {
            "bin_end": 0.149788,
            "bin_start": 0.11718600000000001,
            "count": 87
           },
           {
            "bin_end": 0.18239,
            "bin_start": 0.149788,
            "count": 48
           },
           {
            "bin_end": 0.21499200000000002,
            "bin_start": 0.18239,
            "count": 26
           },
           {
            "bin_end": 0.247594,
            "bin_start": 0.21499200000000002,
            "count": 15
           },
           {
            "bin_end": 0.280196,
            "bin_start": 0.247594,
            "count": 5
           },
           {
            "bin_end": 0.312798,
            "bin_start": 0.280196,
            "count": 4
           },
           {
            "bin_end": 0.3454,
            "bin_start": 0.312798,
            "count": 1
           }
          ],
          "max": "0.3454",
          "min": "0.01938",
          "nan_count": 0,
          "unique_count": 537
         }
        },
        {
         "dtype": "float64",
         "name": "concavity_0",
         "stats": {
          "histogram": [
           {
            "bin_end": 0.04268,
            "bin_start": 0,
            "count": 217
           },
           {
            "bin_end": 0.08536,
            "bin_start": 0.04268,
            "count": 122
           },
           {
            "bin_end": 0.12804000000000001,
            "bin_start": 0.08536,
            "count": 86
           },
           {
            "bin_end": 0.17072,
            "bin_start": 0.12804000000000001,
            "count": 63
           },
           {
            "bin_end": 0.2134,
            "bin_start": 0.17072,
            "count": 34
           },
           {
            "bin_end": 0.25608000000000003,
            "bin_start": 0.2134,
            "count": 25
           },
           {
            "bin_end": 0.29876,
            "bin_start": 0.25608000000000003,
            "count": 6
           },
           {
            "bin_end": 0.34144,
            "bin_start": 0.29876,
            "count": 9
           },
           {
            "bin_end": 0.38412,
            "bin_start": 0.34144,
            "count": 4
           },
           {
            "bin_end": 0.4268,
            "bin_start": 0.38412,
            "count": 3
           }
          ],
          "max": "0.4268",
          "min": "0.0",
          "nan_count": 0,
          "unique_count": 537
         }
        },
        {
         "dtype": "float64",
         "name": "concave points_0",
         "stats": {
          "histogram": [
           {
            "bin_end": 0.02012,
            "bin_start": 0,
            "count": 139
           },
           {
            "bin_end": 0.04024,
            "bin_start": 0.02012,
            "count": 174
           },
           {
            "bin_end": 0.06036,
            "bin_start": 0.04024,
            "count": 76
           },
           {
            "bin_end": 0.08048,
            "bin_start": 0.06036,
            "count": 57
           },
           {
            "bin_end": 0.1006,
            "bin_start": 0.08048,
            "count": 66
           },
           {
            "bin_end": 0.12072,
            "bin_start": 0.1006,
            "count": 23
           },
           {
            "bin_end": 0.14084,
            "bin_start": 0.12072,
            "count": 15
           },
           {
            "bin_end": 0.16096,
            "bin_start": 0.14084,
            "count": 12
           },
           {
            "bin_end": 0.18108,
            "bin_start": 0.16096,
            "count": 2
           },
           {
            "bin_end": 0.2012,
            "bin_start": 0.18108,
            "count": 5
           }
          ],
          "max": "0.2012",
          "min": "0.0",
          "nan_count": 0,
          "unique_count": 542
         }
        },
        {
         "dtype": "float64",
         "name": "symmetry_0",
         "stats": {
          "histogram": [
           {
            "bin_end": 0.1258,
            "bin_start": 0.106,
            "count": 5
           },
           {
            "bin_end": 0.1456,
            "bin_start": 0.1258,
            "count": 35
           },
           {
            "bin_end": 0.1654,
            "bin_start": 0.1456,
            "count": 133
           },
           {
            "bin_end": 0.1852,
            "bin_start": 0.1654,
            "count": 164
           },
           {
            "bin_end": 0.20500000000000002,
            "bin_start": 0.1852,
            "count": 136
           },
           {
            "bin_end": 0.2248,
            "bin_start": 0.20500000000000002,
            "count": 60
           },
           {
            "bin_end": 0.24459999999999998,
            "bin_start": 0.2248,
            "count": 21
           },
           {
            "bin_end": 0.2644,
            "bin_start": 0.24459999999999998,
            "count": 10
           },
           {
            "bin_end": 0.2842,
            "bin_start": 0.2644,
            "count": 3
           },
           {
            "bin_end": 0.304,
            "bin_start": 0.2842,
            "count": 2
           }
          ],
          "max": "0.304",
          "min": "0.106",
          "nan_count": 0,
          "unique_count": 432
         }
        },
        {
         "dtype": "float64",
         "name": "fractal dimension_0",
         "stats": {
          "histogram": [
           {
            "bin_end": 0.05470800000000001,
            "bin_start": 0.049960000000000004,
            "count": 41
           },
           {
            "bin_end": 0.059456,
            "bin_start": 0.05470800000000001,
            "count": 160
           },
           {
            "bin_end": 0.06420400000000001,
            "bin_start": 0.059456,
            "count": 175
           },
           {
            "bin_end": 0.068952,
            "bin_start": 0.06420400000000001,
            "count": 101
           },
           {
            "bin_end": 0.0737,
            "bin_start": 0.068952,
            "count": 51
           },
           {
            "bin_end": 0.078448,
            "bin_start": 0.0737,
            "count": 25
           },
           {
            "bin_end": 0.08319599999999999,
            "bin_start": 0.078448,
            "count": 9
           },
           {
            "bin_end": 0.087944,
            "bin_start": 0.08319599999999999,
            "count": 2
           },
           {
            "bin_end": 0.092692,
            "bin_start": 0.087944,
            "count": 1
           },
           {
            "bin_end": 0.09744,
            "bin_start": 0.092692,
            "count": 4
           }
          ],
          "max": "0.09744",
          "min": "0.049960000000000004",
          "nan_count": 0,
          "unique_count": 499
         }
        },
        {
         "dtype": "float64",
         "name": "radius_1",
         "stats": {
          "histogram": [
           {
            "bin_end": 0.38765,
            "bin_start": 0.1115,
            "count": 357
           },
           {
            "bin_end": 0.6638000000000001,
            "bin_start": 0.38765,
            "count": 137
           },
           {
            "bin_end": 0.9399500000000001,
            "bin_start": 0.6638000000000001,
            "count": 44
           },
           {
            "bin_end": 1.2161,
            "bin_start": 0.9399500000000001,
            "count": 24
           },
           {
            "bin_end": 1.4922499999999999,
            "bin_start": 1.2161,
            "count": 4
           },
           {
            "bin_end": 1.7684,
            "bin_start": 1.4922499999999999,
            "count": 1
           },
           {
            "bin_end": 2.04455,
            "bin_start": 1.7684,
            "count": 0
           },
           {
            "bin_end": 2.3207,
            "bin_start": 2.04455,
            "count": 0
           },
           {
            "bin_end": 2.59685,
            "bin_start": 2.3207,
            "count": 1
           },
           {
            "bin_end": 2.873,
            "bin_start": 2.59685,
            "count": 1
           }
          ],
          "max": "2.873",
          "min": "0.1115",
          "nan_count": 0,
          "unique_count": 540
         }
        },
        {
         "dtype": "float64",
         "name": "texture_1",
         "stats": {
          "histogram": [
           {
            "bin_end": 0.8126800000000001,
            "bin_start": 0.3602,
            "count": 129
           },
           {
            "bin_end": 1.26516,
            "bin_start": 0.8126800000000001,
            "count": 220
           },
           {
            "bin_end": 1.71764,
            "bin_start": 1.26516,
            "count": 136
           },
           {
            "bin_end": 2.17012,
            "bin_start": 1.71764,
            "count": 52
           },
           {
            "bin_end": 2.6226,
            "bin_start": 2.17012,
            "count": 18
           },
           {
            "bin_end": 3.07508,
            "bin_start": 2.6226,
            "count": 9
           },
           {
            "bin_end": 3.52756,
            "bin_start": 3.07508,
            "count": 1
           },
           {
            "bin_end": 3.98004,
            "bin_start": 3.52756,
            "count": 3
           },
           {
            "bin_end": 4.432519999999999,
            "bin_start": 3.98004,
            "count": 0
           },
           {
            "bin_end": 4.885,
            "bin_start": 4.432519999999999,
            "count": 1
           }
          ],
          "max": "4.885",
          "min": "0.3602",
          "nan_count": 0,
          "unique_count": 519
         }
        },
        {
         "dtype": "float64",
         "name": "perimeter_1",
         "stats": {
          "histogram": [
           {
            "bin_end": 2.8793,
            "bin_start": 0.757,
            "count": 378
           },
           {
            "bin_end": 5.0016,
            "bin_start": 2.8793,
            "count": 131
           },
           {
            "bin_end": 7.1239,
            "bin_start": 5.0016,
            "count": 32
           },
           {
            "bin_end": 9.2462,
            "bin_start": 7.1239,
            "count": 20
           },
           {
            "bin_end": 11.3685,
            "bin_start": 9.2462,
            "count": 6
           },
           {
            "bin_end": 13.4908,
            "bin_start": 11.3685,
            "count": 0
           },
           {
            "bin_end": 15.613100000000001,
            "bin_start": 13.4908,
            "count": 0
           },
           {
            "bin_end": 17.735400000000002,
            "bin_start": 15.613100000000001,
            "count": 0
           },
           {
            "bin_end": 19.8577,
            "bin_start": 17.735400000000002,
            "count": 1
           },
           {
            "bin_end": 21.98,
            "bin_start": 19.8577,
            "count": 1
           }
          ],
          "max": "21.98",
          "min": "0.757",
          "nan_count": 0,
          "unique_count": 533
         }
        },
        {
         "dtype": "float64",
         "name": "area_1",
         "stats": {
          "histogram": [
           {
            "bin_end": 60.3418,
            "bin_start": 6.8020000000000005,
            "count": 466
           },
           {
            "bin_end": 113.8816,
            "bin_start": 60.3418,
            "count": 73
           },
           {
            "bin_end": 167.42139999999998,
            "bin_start": 113.8816,
            "count": 22
           },
           {
            "bin_end": 220.9612,
            "bin_start": 167.42139999999998,
            "count": 4
           },
           {
            "bin_end": 274.50100000000003,
            "bin_start": 220.9612,
            "count": 2
           },
           {
            "bin_end": 328.0408,
            "bin_start": 274.50100000000003,
            "count": 0
           },
           {
            "bin_end": 381.5806,
            "bin_start": 328.0408,
            "count": 0
           },
           {
            "bin_end": 435.1204,
            "bin_start": 381.5806,
            "count": 0
           },
           {
            "bin_end": 488.66020000000003,
            "bin_start": 435.1204,
            "count": 0
           },
           {
            "bin_end": 542.2,
            "bin_start": 488.66020000000003,
            "count": 2
           }
          ],
          "max": "542.2",
          "min": "6.8020000000000005",
          "nan_count": 0,
          "unique_count": 528
         }
        },
        {
         "dtype": "float64",
         "name": "smoothness_1",
         "stats": {
          "histogram": [
           {
            "bin_end": 0.0046547,
            "bin_start": 0.001713,
            "count": 96
           },
           {
            "bin_end": 0.0075964000000000005,
            "bin_start": 0.0046547,
            "count": 299
           },
           {
            "bin_end": 0.0105381,
            "bin_start": 0.0075964000000000005,
            "count": 120
           },
           {
            "bin_end": 0.0134798,
            "bin_start": 0.0105381,
            "count": 34
           },
           {
            "bin_end": 0.016421500000000002,
            "bin_start": 0.0134798,
            "count": 13
           },
           {
            "bin_end": 0.0193632,
            "bin_start": 0.016421500000000002,
            "count": 3
           },
           {
            "bin_end": 0.022304900000000003,
            "bin_start": 0.0193632,
            "count": 2
           },
           {
            "bin_end": 0.0252466,
            "bin_start": 0.022304900000000003,
            "count": 1
           },
           {
            "bin_end": 0.0281883,
            "bin_start": 0.0252466,
            "count": 0
           },
           {
            "bin_end": 0.03113,
            "bin_start": 0.0281883,
            "count": 1
           }
          ],
          "max": "0.03113",
          "min": "0.001713",
          "nan_count": 0,
          "unique_count": 547
         }
        },
        {
         "dtype": "float64",
         "name": "compactness_1",
         "stats": {
          "histogram": [
           {
            "bin_end": 0.015566799999999999,
            "bin_start": 0.002252,
            "count": 200
           },
           {
            "bin_end": 0.028881599999999997,
            "bin_start": 0.015566799999999999,
            "count": 187
           },
           {
            "bin_end": 0.04219639999999999,
            "bin_start": 0.028881599999999997,
            "count": 105
           },
           {
            "bin_end": 0.05551119999999999,
            "bin_start": 0.04219639999999999,
            "count": 39
           },
           {
            "bin_end": 0.068826,
            "bin_start": 0.05551119999999999,
            "count": 19
           },
           {
            "bin_end": 0.08214079999999999,
            "bin_start": 0.068826,
            "count": 7
           },
           {
            "bin_end": 0.09545559999999999,
            "bin_start": 0.08214079999999999,
            "count": 7
           },
           {
            "bin_end": 0.10877039999999999,
            "bin_start": 0.09545559999999999,
            "count": 4
           },
           {
            "bin_end": 0.12208519999999999,
            "bin_start": 0.10877039999999999,
            "count": 0
           },
           {
            "bin_end": 0.1354,
            "bin_start": 0.12208519999999999,
            "count": 1
           }
          ],
          "max": "0.1354",
          "min": "0.002252",
          "nan_count": 0,
          "unique_count": 541
         }
        },
        {
         "dtype": "float64",
         "name": "concavity_1",
         "stats": {
          "histogram": [
           {
            "bin_end": 0.0396,
            "bin_start": 0,
            "count": 412
           },
           {
            "bin_end": 0.0792,
            "bin_start": 0.0396,
            "count": 128
           },
           {
            "bin_end": 0.11880000000000002,
            "bin_start": 0.0792,
            "count": 22
           },
           {
            "bin_end": 0.1584,
            "bin_start": 0.11880000000000002,
            "count": 5
           },
           {
            "bin_end": 0.198,
            "bin_start": 0.1584,
            "count": 0
           },
           {
            "bin_end": 0.23760000000000003,
            "bin_start": 0.198,
            "count": 0
           },
           {
            "bin_end": 0.2772,
            "bin_start": 0.23760000000000003,
            "count": 0
           },
           {
            "bin_end": 0.3168,
            "bin_start": 0.2772,
            "count": 1
           },
           {
            "bin_end": 0.35640000000000005,
            "bin_start": 0.3168,
            "count": 0
           },
           {
            "bin_end": 0.396,
            "bin_start": 0.35640000000000005,
            "count": 1
           }
          ],
          "max": "0.396",
          "min": "0.0",
          "nan_count": 0,
          "unique_count": 533
         }
        },
        {
         "dtype": "float64",
         "name": "concave points_1",
         "stats": {
          "histogram": [
           {
            "bin_end": 0.005279,
            "bin_start": 0,
            "count": 51
           },
           {
            "bin_end": 0.010558,
            "bin_start": 0.005279,
            "count": 219
           },
           {
            "bin_end": 0.015837,
            "bin_start": 0.010558,
            "count": 186
           },
           {
            "bin_end": 0.021116,
            "bin_start": 0.015837,
            "count": 74
           },
           {
            "bin_end": 0.026395,
            "bin_start": 0.021116,
            "count": 25
           },
           {
            "bin_end": 0.031674,
            "bin_start": 0.026395,
            "count": 8
           },
           {
            "bin_end": 0.036953,
            "bin_start": 0.031674,
            "count": 3
           },
           {
            "bin_end": 0.042232,
            "bin_start": 0.036953,
            "count": 2
           },
           {
            "bin_end": 0.047511,
            "bin_start": 0.042232,
            "count": 0
           },
           {
            "bin_end": 0.05279,
            "bin_start": 0.047511,
            "count": 1
           }
          ],
          "max": "0.05279",
          "min": "0.0",
          "nan_count": 0,
          "unique_count": 507
         }
        },
        {
         "dtype": "float64",
         "name": "symmetry_1",
         "stats": {
          "histogram": [
           {
            "bin_end": 0.0149888,
            "bin_start": 0.007882,
            "count": 137
           },
           {
            "bin_end": 0.0220956,
            "bin_start": 0.0149888,
            "count": 264
           },
           {
            "bin_end": 0.029202400000000003,
            "bin_start": 0.0220956,
            "count": 103
           },
           {
            "bin_end": 0.0363092,
            "bin_start": 0.029202400000000003,
            "count": 38
           },
           {
            "bin_end": 0.043416,
            "bin_start": 0.0363092,
            "count": 14
           },
           {
            "bin_end": 0.05052280000000001,
            "bin_start": 0.043416,
            "count": 5
           },
           {
            "bin_end": 0.0576296,
            "bin_start": 0.05052280000000001,
            "count": 5
           },
           {
            "bin_end": 0.0647364,
            "bin_start": 0.0576296,
            "count": 2
           },
           {
            "bin_end": 0.07184320000000001,
            "bin_start": 0.0647364,
            "count": 0
           },
           {
            "bin_end": 0.07895,
            "bin_start": 0.07184320000000001,
            "count": 1
           }
          ],
          "max": "0.07895",
          "min": "0.007882",
          "nan_count": 0,
          "unique_count": 498
         }
        },
        {
         "dtype": "float64",
         "name": "fractal dimension_1",
         "stats": {
          "histogram": [
           {
            "bin_end": 0.0037893199999999997,
            "bin_start": 0.0008948000000000001,
            "count": 361
           },
           {
            "bin_end": 0.00668384,
            "bin_start": 0.0037893199999999997,
            "count": 158
           },
           {
            "bin_end": 0.00957836,
            "bin_start": 0.00668384,
            "count": 32
           },
           {
            "bin_end": 0.012472879999999999,
            "bin_start": 0.00957836,
            "count": 11
           },
           {
            "bin_end": 0.015367399999999998,
            "bin_start": 0.012472879999999999,
            "count": 3
           },
           {
            "bin_end": 0.01826192,
            "bin_start": 0.015367399999999998,
            "count": 1
           },
           {
            "bin_end": 0.02115644,
            "bin_start": 0.01826192,
            "count": 0
           },
           {
            "bin_end": 0.02405096,
            "bin_start": 0.02115644,
            "count": 2
           },
           {
            "bin_end": 0.02694548,
            "bin_start": 0.02405096,
            "count": 0
           },
           {
            "bin_end": 0.02984,
            "bin_start": 0.02694548,
            "count": 1
           }
          ],
          "max": "0.02984",
          "min": "0.0008948000000000001",
          "nan_count": 0,
          "unique_count": 545
         }
        },
        {
         "dtype": "float64",
         "name": "radius_2",
         "stats": {
          "histogram": [
           {
            "bin_end": 10.741,
            "bin_start": 7.93,
            "count": 34
           },
           {
            "bin_end": 13.552,
            "bin_start": 10.741,
            "count": 160
           },
           {
            "bin_end": 16.363,
            "bin_start": 13.552,
            "count": 167
           },
           {
            "bin_end": 19.174,
            "bin_start": 16.363,
            "count": 69
           },
           {
            "bin_end": 21.985,
            "bin_start": 19.174,
            "count": 53
           },
           {
            "bin_end": 24.796,
            "bin_start": 21.985,
            "count": 47
           },
           {
            "bin_end": 27.607,
            "bin_start": 24.796,
            "count": 22
           },
           {
            "bin_end": 30.418,
            "bin_start": 27.607,
            "count": 9
           },
           {
            "bin_end": 33.229,
            "bin_start": 30.418,
            "count": 7
           },
           {
            "bin_end": 36.04,
            "bin_start": 33.229,
            "count": 1
           }
          ],
          "max": "36.04",
          "min": "7.93",
          "nan_count": 0,
          "unique_count": 457
         }
        },
        {
         "dtype": "float64",
         "name": "texture_2",
         "stats": {
          "histogram": [
           {
            "bin_end": 15.771999999999998,
            "bin_start": 12.02,
            "count": 16
           },
           {
            "bin_end": 19.524,
            "bin_start": 15.771999999999998,
            "count": 80
           },
           {
            "bin_end": 23.276,
            "bin_start": 19.524,
            "count": 123
           },
           {
            "bin_end": 27.028,
            "bin_start": 23.276,
            "count": 131
           },
           {
            "bin_end": 30.779999999999998,
            "bin_start": 27.028,
            "count": 100
           },
           {
            "bin_end": 34.532,
            "bin_start": 30.779999999999998,
            "count": 75
           },
           {
            "bin_end": 38.284,
            "bin_start": 34.532,
            "count": 28
           },
           {
            "bin_end": 42.036,
            "bin_start": 38.284,
            "count": 11
           },
           {
            "bin_end": 45.788,
            "bin_start": 42.036,
            "count": 3
           },
           {
            "bin_end": 49.54,
            "bin_start": 45.788,
            "count": 2
           }
          ],
          "max": "49.54",
          "min": "12.02",
          "nan_count": 0,
          "unique_count": 511
         }
        },
        {
         "dtype": "float64",
         "name": "perimeter_2",
         "stats": {
          "histogram": [
           {
            "bin_end": 70.489,
            "bin_start": 50.41,
            "count": 43
           },
           {
            "bin_end": 90.568,
            "bin_start": 70.489,
            "count": 178
           },
           {
            "bin_end": 110.64699999999999,
            "bin_start": 90.568,
            "count": 151
           },
           {
            "bin_end": 130.726,
            "bin_start": 110.64699999999999,
            "count": 77
           },
           {
            "bin_end": 150.805,
            "bin_start": 130.726,
            "count": 45
           },
           {
            "bin_end": 170.88400000000001,
            "bin_start": 150.805,
            "count": 44
           },
           {
            "bin_end": 190.963,
            "bin_start": 170.88400000000001,
            "count": 18
           },
           {
            "bin_end": 211.042,
            "bin_start": 190.963,
            "count": 7
           },
           {
            "bin_end": 231.121,
            "bin_start": 211.042,
            "count": 5
           },
           {
            "bin_end": 251.2,
            "bin_start": 231.121,
            "count": 1
           }
          ],
          "max": "251.2",
          "min": "50.41",
          "nan_count": 0,
          "unique_count": 514
         }
        },
        {
         "dtype": "float64",
         "name": "area_2",
         "stats": {
          "histogram": [
           {
            "bin_end": 592.0799999999999,
            "bin_start": 185.2,
            "count": 223
           },
           {
            "bin_end": 998.96,
            "bin_start": 592.0799999999999,
            "count": 193
           },
           {
            "bin_end": 1405.84,
            "bin_start": 998.96,
            "count": 58
           },
           {
            "bin_end": 1812.72,
            "bin_start": 1405.84,
            "count": 51
           },
           {
            "bin_end": 2219.6,
            "bin_start": 1812.72,
            "count": 25
           },
           {
            "bin_end": 2626.4799999999996,
            "bin_start": 2219.6,
            "count": 10
           },
           {
            "bin_end": 3033.3599999999997,
            "bin_start": 2626.4799999999996,
            "count": 4
           },
           {
            "bin_end": 3440.24,
            "bin_start": 3033.3599999999997,
            "count": 4
           },
           {
            "bin_end": 3847.12,
            "bin_start": 3440.24,
            "count": 0
           },
           {
            "bin_end": 4254,
            "bin_start": 3847.12,
            "count": 1
           }
          ],
          "max": "4254.0",
          "min": "185.2",
          "nan_count": 0,
          "unique_count": 544
         }
        },
        {
         "dtype": "float64",
         "name": "smoothness_2",
         "stats": {
          "histogram": [
           {
            "bin_end": 0.08631300000000001,
            "bin_start": 0.07117000000000001,
            "count": 5
           },
           {
            "bin_end": 0.101456,
            "bin_start": 0.08631300000000001,
            "count": 43
           },
           {
            "bin_end": 0.11659900000000001,
            "bin_start": 0.101456,
            "count": 93
           },
           {
            "bin_end": 0.131742,
            "bin_start": 0.11659900000000001,
            "count": 150
           },
           {
            "bin_end": 0.146885,
            "bin_start": 0.131742,
            "count": 143
           },
           {
            "bin_end": 0.162028,
            "bin_start": 0.146885,
            "count": 78
           },
           {
            "bin_end": 0.177171,
            "bin_start": 0.162028,
            "count": 34
           },
           {
            "bin_end": 0.19231399999999998,
            "bin_start": 0.177171,
            "count": 19
           },
           {
            "bin_end": 0.207457,
            "bin_start": 0.19231399999999998,
            "count": 1
           },
           {
            "bin_end": 0.2226,
            "bin_start": 0.207457,
            "count": 3
           }
          ],
          "max": "0.2226",
          "min": "0.07117000000000001",
          "nan_count": 0,
          "unique_count": 411
         }
        },
        {
         "dtype": "float64",
         "name": "compactness_2",
         "stats": {
          "histogram": [
           {
            "bin_end": 0.130361,
            "bin_start": 0.02729,
            "count": 117
           },
           {
            "bin_end": 0.233432,
            "bin_start": 0.130361,
            "count": 200
           },
           {
            "bin_end": 0.33650299999999994,
            "bin_start": 0.233432,
            "count": 108
           },
           {
            "bin_end": 0.43957399999999996,
            "bin_start": 0.33650299999999994,
            "count": 84
           },
           {
            "bin_end": 0.542645,
            "bin_start": 0.43957399999999996,
            "count": 27
           },
           {
            "bin_end": 0.645716,
            "bin_start": 0.542645,
            "count": 17
           },
           {
            "bin_end": 0.748787,
            "bin_start": 0.645716,
            "count": 8
           },
           {
            "bin_end": 0.851858,
            "bin_start": 0.748787,
            "count": 3
           },
           {
            "bin_end": 0.954929,
            "bin_start": 0.851858,
            "count": 4
           },
           {
            "bin_end": 1.058,
            "bin_start": 0.954929,
            "count": 1
           }
          ],
          "max": "1.058",
          "min": "0.02729",
          "nan_count": 0,
          "unique_count": 529
         }
        },
        {
         "dtype": "float64",
         "name": "concavity_2",
         "stats": {
          "histogram": [
           {
            "bin_end": 0.1252,
            "bin_start": 0,
            "count": 157
           },
           {
            "bin_end": 0.2504,
            "bin_start": 0.1252,
            "count": 151
           },
           {
            "bin_end": 0.37560000000000004,
            "bin_start": 0.2504,
            "count": 109
           },
           {
            "bin_end": 0.5008,
            "bin_start": 0.37560000000000004,
            "count": 72
           },
           {
            "bin_end": 0.626,
            "bin_start": 0.5008,
            "count": 38
           },
           {
            "bin_end": 0.7512000000000001,
            "bin_start": 0.626,
            "count": 28
           },
           {
            "bin_end": 0.8764000000000001,
            "bin_start": 0.7512000000000001,
            "count": 7
           },
           {
            "bin_end": 1.0016,
            "bin_start": 0.8764000000000001,
            "count": 4
           },
           {
            "bin_end": 1.1268,
            "bin_start": 1.0016,
            "count": 1
           },
           {
            "bin_end": 1.252,
            "bin_start": 1.1268,
            "count": 2
           }
          ],
          "max": "1.252",
          "min": "0.0",
          "nan_count": 0,
          "unique_count": 539
         }
        },
        {
         "dtype": "float64",
         "name": "concave points_2",
         "stats": {
          "histogram": [
           {
            "bin_end": 0.029100000000000004,
            "bin_start": 0,
            "count": 43
           },
           {
            "bin_end": 0.05820000000000001,
            "bin_start": 0.029100000000000004,
            "count": 72
           },
           {
            "bin_end": 0.08730000000000002,
            "bin_start": 0.05820000000000001,
            "count": 130
           },
           {
            "bin_end": 0.11640000000000002,
            "bin_start": 0.08730000000000002,
            "count": 87
           },
           {
            "bin_end": 0.14550000000000002,
            "bin_start": 0.11640000000000002,
            "count": 54
           },
           {
            "bin_end": 0.17460000000000003,
            "bin_start": 0.14550000000000002,
            "count": 63
           },
           {
            "bin_end": 0.20370000000000002,
            "bin_start": 0.17460000000000003,
            "count": 55
           },
           {
            "bin_end": 0.23280000000000003,
            "bin_start": 0.20370000000000002,
            "count": 34
           },
           {
            "bin_end": 0.2619,
            "bin_start": 0.23280000000000003,
            "count": 20
           },
           {
            "bin_end": 0.29100000000000004,
            "bin_start": 0.2619,
            "count": 11
           }
          ],
          "max": "0.29100000000000004",
          "min": "0.0",
          "nan_count": 0,
          "unique_count": 492
         }
        },
        {
         "dtype": "float64",
         "name": "symmetry_2",
         "stats": {
          "histogram": [
           {
            "bin_end": 0.20723,
            "bin_start": 0.1565,
            "count": 23
           },
           {
            "bin_end": 0.25795999999999997,
            "bin_start": 0.20723,
            "count": 153
           },
           {
            "bin_end": 0.30869,
            "bin_start": 0.25795999999999997,
            "count": 219
           },
           {
            "bin_end": 0.35941999999999996,
            "bin_start": 0.30869,
            "count": 114
           },
           {
            "bin_end": 0.41015,
            "bin_start": 0.35941999999999996,
            "count": 35
           },
           {
            "bin_end": 0.46087999999999996,
            "bin_start": 0.41015,
            "count": 11
           },
           {
            "bin_end": 0.51161,
            "bin_start": 0.46087999999999996,
            "count": 9
           },
           {
            "bin_end": 0.56234,
            "bin_start": 0.51161,
            "count": 3
           },
           {
            "bin_end": 0.61307,
            "bin_start": 0.56234,
            "count": 1
           },
           {
            "bin_end": 0.6638,
            "bin_start": 0.61307,
            "count": 1
           }
          ],
          "max": "0.6638",
          "min": "0.1565",
          "nan_count": 0,
          "unique_count": 500
         }
        },
        {
         "dtype": "float64",
         "name": "fractal dimension_2",
         "stats": {
          "histogram": [
           {
            "bin_end": 0.070286,
            "bin_start": 0.05504,
            "count": 123
           },
           {
            "bin_end": 0.085532,
            "bin_start": 0.070286,
            "count": 245
           },
           {
            "bin_end": 0.100778,
            "bin_start": 0.085532,
            "count": 113
           },
           {
            "bin_end": 0.11602399999999999,
            "bin_start": 0.100778,
            "count": 51
           },
           {
            "bin_end": 0.13127,
            "bin_start": 0.11602399999999999,
            "count": 25
           },
           {
            "bin_end": 0.146516,
            "bin_start": 0.13127,
            "count": 9
           },
           {
            "bin_end": 0.161762,
            "bin_start": 0.146516,
            "count": 1
           },
           {
            "bin_end": 0.177008,
            "bin_start": 0.161762,
            "count": 1
           },
           {
            "bin_end": 0.192254,
            "bin_start": 0.177008,
            "count": 0
           },
           {
            "bin_end": 0.2075,
            "bin_start": 0.192254,
            "count": 1
           }
          ],
          "max": "0.2075",
          "min": "0.05504",
          "nan_count": 0,
          "unique_count": 535
         }
        },
        {
         "dtype": "int64",
         "name": "_deepnote_index_column"
        }
       ],
       "row_count": 569,
       "rows": [
        {
         "_deepnote_index_column": "166",
         "area_0": "357.6",
         "area_1": "11.48",
         "area_2": "414.0",
         "compactness_0": "0.05736",
         "compactness_1": "0.009816",
         "compactness_2": "0.1257",
         "concave points_0": "0.016980000000000002",
         "concave points_1": "0.005344",
         "concave points_2": "0.04603",
         "concavity_0": "0.02531",
         "concavity_1": "0.01099",
         "concavity_2": "0.1047",
         "fractal dimension_0": "0.064",
         "fractal dimension_1": "0.00212",
         "fractal dimension_2": "0.07699",
         "malignant": "0",
         "perimeter_0": "68.77",
         "perimeter_1": "1.126",
         "perimeter_2": "73.66",
         "radius_0": "10.8",
         "radius_1": "0.1728",
         "radius_2": "11.6",
         "smoothness_0": "0.09594",
         "smoothness_1": "0.007809",
         "smoothness_2": "0.1436",
         "symmetry_0": "0.1381",
         "symmetry_1": "0.01254",
         "symmetry_2": "0.209",
         "texture_0": "9.71",
         "texture_1": "0.4064",
         "texture_2": "12.02"
        },
        {
         "_deepnote_index_column": "0",
         "area_0": "1001.0",
         "area_1": "153.4",
         "area_2": "2019.0",
         "compactness_0": "0.2776",
         "compactness_1": "0.04904",
         "compactness_2": "0.6656",
         "concave points_0": "0.1471",
         "concave points_1": "0.01587",
         "concave points_2": "0.2654",
         "concavity_0": "0.3001",
         "concavity_1": "0.05372999999999999",
         "concavity_2": "0.7119",
         "fractal dimension_0": "0.07871",
         "fractal dimension_1": "0.006193",
         "fractal dimension_2": "0.1189",
         "malignant": "1",
         "perimeter_0": "122.8",
         "perimeter_1": "8.589",
         "perimeter_2": "184.6",
         "radius_0": "17.99",
         "radius_1": "1.095",
         "radius_2": "25.38",
         "smoothness_0": "0.1184",
         "smoothness_1": "0.006399",
         "smoothness_2": "0.1622",
         "symmetry_0": "0.2419",
         "symmetry_1": "0.03003",
         "symmetry_2": "0.4601",
         "texture_0": "10.38",
         "texture_1": "0.9053",
         "texture_2": "17.33"
        },
        {
         "_deepnote_index_column": "313",
         "area_0": "409.1",
         "area_1": "9.437999999999999",
         "area_2": "467.8",
         "compactness_0": "0.05969",
         "compactness_1": "0.0134",
         "compactness_2": "0.1626",
         "concave points_0": "0.008907",
         "concave points_1": "0.004667",
         "concave points_2": "0.04715",
         "concavity_0": "0.013669999999999998",
         "concavity_1": "0.010029999999999999",
         "concavity_2": "0.08324",
         "fractal dimension_0": "0.061",
         "fractal dimension_1": "0.001952",
         "fractal dimension_2": "0.07434",
         "malignant": "0",
         "perimeter_0": "73.73",
         "perimeter_1": "1.107",
         "perimeter_2": "81.23",
         "radius_0": "11.54",
         "radius_1": "0.1312",
         "radius_2": "12.34",
         "smoothness_0": "0.08597",
         "smoothness_1": "0.004124",
         "smoothness_2": "0.1092",
         "symmetry_0": "0.1833",
         "symmetry_1": "0.020319999999999998",
         "symmetry_2": "0.33899999999999997",
         "texture_0": "10.72",
         "texture_1": "0.3602",
         "texture_2": "12.87"
        },
        {
         "_deepnote_index_column": "120",
         "area_0": "403.3",
         "area_1": "10.5",
         "area_2": "510.5",
         "compactness_0": "0.06685",
         "compactness_1": "0.01529",
         "compactness_2": "0.239",
         "concave points_0": "0.02623",
         "concave points_1": "0.00646",
         "concave points_2": "0.08957999999999999",
         "concavity_0": "0.03512",
         "concavity_1": "0.01514",
         "concavity_2": "0.2102",
         "fractal dimension_0": "0.06113",
         "fractal dimension_1": "0.002206",
         "fractal dimension_2": "0.08523",
         "malignant": "0",
         "perimeter_0": "73.34",
         "perimeter_1": "1.103",
         "perimeter_2": "83.74",
         "radius_0": "11.41",
         "radius_1": "0.1408",
         "radius_2": "12.82",
         "smoothness_0": "0.09373",
         "smoothness_1": "0.00604",
         "smoothness_2": "0.1548",
         "symmetry_0": "0.1667",
         "symmetry_1": "0.01344",
         "symmetry_2": "0.3016",
         "texture_0": "10.82",
         "texture_1": "0.4607",
         "texture_2": "15.97"
        },
        {
         "_deepnote_index_column": "123",
         "area_0": "640.7",
         "area_1": "24.19",
         "area_2": "745.5",
         "compactness_0": "0.1099",
         "compactness_1": "0.012759999999999999",
         "compactness_2": "0.1788",
         "concave points_0": "0.05778",
         "concave points_1": "0.012",
         "concave points_2": "0.1221",
         "concavity_0": "0.08842",
         "concavity_1": "0.02882",
         "concavity_2": "0.256",
         "fractal dimension_0": "0.06402000000000001",
         "fractal dimension_1": "0.0028079999999999997",
         "fractal dimension_2": "0.08006",
         "malignant": "0",
         "perimeter_0": "94.28",
         "perimeter_1": "1.9280000000000002",
         "perimeter_2": "102.8",
         "radius_0": "14.5",
         "radius_1": "0.2929",
         "radius_2": "15.7",
         "smoothness_0": "0.1101",
         "smoothness_1": "0.0038179999999999998",
         "smoothness_2": "0.1313",
         "symmetry_0": "0.1856",
         "symmetry_1": "0.0191",
         "symmetry_2": "0.2889",
         "texture_0": "10.89",
         "texture_1": "0.857",
         "texture_2": "15.98"
        },
        {
         "_deepnote_index_column": "401",
         "area_0": "442.7",
         "area_1": "18.95",
         "area_2": "589.5",
         "compactness_0": "0.05242",
         "compactness_1": "0.01204",
         "compactness_2": "0.1575",
         "concave points_0": "0.01796",
         "concave points_1": "0.005832",
         "concave points_2": "0.06876",
         "concavity_0": "0.026060000000000003",
         "concavity_1": "0.01376",
         "concavity_2": "0.1514",
         "fractal dimension_0": "0.05541",
         "fractal dimension_1": "0.001857",
         "fractal dimension_2": "0.07262",
         "malignant": "0",
         "perimeter_0": "76.14",
         "perimeter_1": "1.649",
         "perimeter_2": "87.64",
         "radius_0": "11.93",
         "radius_1": "0.2522",
         "radius_2": "13.8",
         "smoothness_0": "0.08872000000000001",
         "smoothness_1": "0.006175",
         "smoothness_2": "0.1374",
         "symmetry_0": "0.1601",
         "symmetry_1": "0.01096",
         "symmetry_2": "0.24600000000000002",
         "texture_0": "10.91",
         "texture_1": "1.045",
         "texture_2": "20.14"
        },
        {
         "_deepnote_index_column": "76",
         "area_0": "559.2",
         "area_1": "32.65",
         "area_2": "605.5",
         "compactness_0": "0.1047",
         "compactness_1": "0.02839",
         "compactness_2": "0.1379",
         "concave points_0": "0.06556000000000001",
         "concave points_1": "0.008239",
         "concave points_2": "0.07407000000000001",
         "concavity_0": "0.06877",
         "concavity_1": "0.01162",
         "concavity_2": "0.08539",
         "fractal dimension_0": "0.06641",
         "fractal dimension_1": "0.006164",
         "fractal dimension_2": "0.07191",
         "malignant": "0",
         "perimeter_0": "87.91",
         "perimeter_1": "2.6519999999999997",
         "perimeter_2": "91.36",
         "radius_0": "13.53",
         "radius_1": "0.4101",
         "radius_2": "14.08",
         "smoothness_0": "0.1291",
         "smoothness_1": "0.0134",
         "smoothness_2": "0.1451",
         "symmetry_0": "0.2403",
         "symmetry_1": "0.02572",
         "symmetry_2": "0.271",
         "texture_0": "10.94",
         "texture_1": "1.014",
         "texture_2": "12.49"
        },
        {
         "_deepnote_index_column": "484",
         "area_0": "747.2",
         "area_1": "13.87",
         "area_2": "854.3",
         "compactness_0": "0.1299",
         "compactness_1": "0.0182",
         "compactness_2": "0.2979",
         "concave points_0": "0.062110000000000005",
         "concave points_1": "0.01067",
         "concave points_2": "0.1452",
         "concavity_0": "0.1191",
         "concavity_1": "0.03336",
         "concavity_2": "0.4004",
         "fractal dimension_0": "0.06258999999999999",
         "fractal dimension_1": "0.0022559999999999998",
         "fractal dimension_2": "0.08181000000000001",
         "malignant": "0",
         "perimeter_0": "102.8",
         "perimeter_1": "1.143",
         "perimeter_2": "112.5",
         "radius_0": "15.73",
         "radius_1": "0.163",
         "radius_2": "17.01",
         "smoothness_0": "0.1043",
         "smoothness_1": "0.006034",
         "smoothness_2": "0.1541",
         "symmetry_0": "0.1784",
         "symmetry_1": "0.01175",
         "symmetry_2": "0.2557",
         "texture_0": "11.28",
         "texture_1": "0.3871",
         "texture_2": "14.2"
        },
        {
         "_deepnote_index_column": "59",
         "area_0": "224.5",
         "area_1": "8.322000000000001",
         "area_2": "274.9",
         "compactness_0": "0.05272",
         "compactness_1": "0.01055",
         "compactness_2": "0.1239",
         "concave points_0": "0.0077989999999999995",
         "concave points_1": "0.005742000000000001",
         "concave points_2": "0.04419",
         "concavity_0": "0.02061",
         "concavity_1": "0.019809999999999998",
         "concavity_2": "0.1168",
         "fractal dimension_0": "0.07187",
         "fractal dimension_1": "0.002788",
         "fractal dimension_2": "0.09026",
         "malignant": "0",
         "perimeter_0": "54.34",
         "perimeter_1": "1.046",
         "perimeter_2": "59.9",
         "radius_0": "8.618",
         "radius_1": "0.1559",
         "radius_2": "9.507",
         "smoothness_0": "0.09752000000000001",
         "smoothness_1": "0.01011",
         "smoothness_2": "0.1733",
         "symmetry_0": "0.1683",
         "symmetry_1": "0.0209",
         "symmetry_2": "0.322",
         "texture_0": "11.79",
         "texture_1": "0.5796",
         "texture_2": "15.4"
        },
        {
         "_deepnote_index_column": "172",
         "area_0": "736.9",
         "area_1": "44.64",
         "area_2": "1102.0",
         "compactness_0": "0.1555",
         "compactness_1": "0.023209999999999998",
         "compactness_2": "0.3583",
         "concave points_0": "0.1097",
         "concave points_1": "0.0132",
         "concave points_2": "0.1827",
         "concavity_0": "0.2032",
         "concavity_1": "0.04303",
         "concavity_2": "0.583",
         "fractal dimension_0": "0.07069",
         "fractal dimension_1": "0.004168",
         "fractal dimension_2": "0.10099999999999999",
         "malignant": "1",
         "perimeter_0": "102.5",
         "perimeter_1": "2.805",
         "perimeter_2": "125.0",
         "radius_0": "15.46",
         "radius_1": "0.4209",
         "radius_2": "18.79",
         "smoothness_0": "0.1257",
         "smoothness_1": "0.005393",
         "smoothness_2": "0.1531",
         "symmetry_0": "0.1966",
         "symmetry_1": "0.01792",
         "symmetry_2": "0.3216",
         "texture_0": "11.89",
         "texture_1": "0.6583",
         "texture_2": "17.04"
        }
       ]
      },
      "text/html": [
       "<div>\n",
       "<style scoped>\n",
       "    .dataframe tbody tr th:only-of-type {\n",
       "        vertical-align: middle;\n",
       "    }\n",
       "\n",
       "    .dataframe tbody tr th {\n",
       "        vertical-align: top;\n",
       "    }\n",
       "\n",
       "    .dataframe thead th {\n",
       "        text-align: right;\n",
       "    }\n",
       "</style>\n",
       "<table border=\"1\" class=\"dataframe\">\n",
       "  <thead>\n",
       "    <tr style=\"text-align: right;\">\n",
       "      <th></th>\n",
       "      <th>malignant</th>\n",
       "      <th>radius_0</th>\n",
       "      <th>texture_0</th>\n",
       "      <th>perimeter_0</th>\n",
       "      <th>area_0</th>\n",
       "      <th>smoothness_0</th>\n",
       "      <th>compactness_0</th>\n",
       "      <th>concavity_0</th>\n",
       "      <th>concave points_0</th>\n",
       "      <th>symmetry_0</th>\n",
       "      <th>...</th>\n",
       "      <th>radius_2</th>\n",
       "      <th>texture_2</th>\n",
       "      <th>perimeter_2</th>\n",
       "      <th>area_2</th>\n",
       "      <th>smoothness_2</th>\n",
       "      <th>compactness_2</th>\n",
       "      <th>concavity_2</th>\n",
       "      <th>concave points_2</th>\n",
       "      <th>symmetry_2</th>\n",
       "      <th>fractal dimension_2</th>\n",
       "    </tr>\n",
       "  </thead>\n",
       "  <tbody>\n",
       "    <tr>\n",
       "      <th>0</th>\n",
       "      <td>1</td>\n",
       "      <td>17.99</td>\n",
       "      <td>10.38</td>\n",
       "      <td>122.80</td>\n",
       "      <td>1001.0</td>\n",
       "      <td>0.11840</td>\n",
       "      <td>0.27760</td>\n",
       "      <td>0.30010</td>\n",
       "      <td>0.14710</td>\n",
       "      <td>0.2419</td>\n",
       "      <td>...</td>\n",
       "      <td>25.380</td>\n",
       "      <td>17.33</td>\n",
       "      <td>184.60</td>\n",
       "      <td>2019.0</td>\n",
       "      <td>0.16220</td>\n",
       "      <td>0.66560</td>\n",
       "      <td>0.7119</td>\n",
       "      <td>0.2654</td>\n",
       "      <td>0.4601</td>\n",
       "      <td>0.11890</td>\n",
       "    </tr>\n",
       "    <tr>\n",
       "      <th>1</th>\n",
       "      <td>1</td>\n",
       "      <td>20.57</td>\n",
       "      <td>17.77</td>\n",
       "      <td>132.90</td>\n",
       "      <td>1326.0</td>\n",
       "      <td>0.08474</td>\n",
       "      <td>0.07864</td>\n",
       "      <td>0.08690</td>\n",
       "      <td>0.07017</td>\n",
       "      <td>0.1812</td>\n",
       "      <td>...</td>\n",
       "      <td>24.990</td>\n",
       "      <td>23.41</td>\n",
       "      <td>158.80</td>\n",
       "      <td>1956.0</td>\n",
       "      <td>0.12380</td>\n",
       "      <td>0.18660</td>\n",
       "      <td>0.2416</td>\n",
       "      <td>0.1860</td>\n",
       "      <td>0.2750</td>\n",
       "      <td>0.08902</td>\n",
       "    </tr>\n",
       "    <tr>\n",
       "      <th>2</th>\n",
       "      <td>1</td>\n",
       "      <td>19.69</td>\n",
       "      <td>21.25</td>\n",
       "      <td>130.00</td>\n",
       "      <td>1203.0</td>\n",
       "      <td>0.10960</td>\n",
       "      <td>0.15990</td>\n",
       "      <td>0.19740</td>\n",
       "      <td>0.12790</td>\n",
       "      <td>0.2069</td>\n",
       "      <td>...</td>\n",
       "      <td>23.570</td>\n",
       "      <td>25.53</td>\n",
       "      <td>152.50</td>\n",
       "      <td>1709.0</td>\n",
       "      <td>0.14440</td>\n",
       "      <td>0.42450</td>\n",
       "      <td>0.4504</td>\n",
       "      <td>0.2430</td>\n",
       "      <td>0.3613</td>\n",
       "      <td>0.08758</td>\n",
       "    </tr>\n",
       "    <tr>\n",
       "      <th>3</th>\n",
       "      <td>1</td>\n",
       "      <td>11.42</td>\n",
       "      <td>20.38</td>\n",
       "      <td>77.58</td>\n",
       "      <td>386.1</td>\n",
       "      <td>0.14250</td>\n",
       "      <td>0.28390</td>\n",
       "      <td>0.24140</td>\n",
       "      <td>0.10520</td>\n",
       "      <td>0.2597</td>\n",
       "      <td>...</td>\n",
       "      <td>14.910</td>\n",
       "      <td>26.50</td>\n",
       "      <td>98.87</td>\n",
       "      <td>567.7</td>\n",
       "      <td>0.20980</td>\n",
       "      <td>0.86630</td>\n",
       "      <td>0.6869</td>\n",
       "      <td>0.2575</td>\n",
       "      <td>0.6638</td>\n",
       "      <td>0.17300</td>\n",
       "    </tr>\n",
       "    <tr>\n",
       "      <th>4</th>\n",
       "      <td>1</td>\n",
       "      <td>20.29</td>\n",
       "      <td>14.34</td>\n",
       "      <td>135.10</td>\n",
       "      <td>1297.0</td>\n",
       "      <td>0.10030</td>\n",
       "      <td>0.13280</td>\n",
       "      <td>0.19800</td>\n",
       "      <td>0.10430</td>\n",
       "      <td>0.1809</td>\n",
       "      <td>...</td>\n",
       "      <td>22.540</td>\n",
       "      <td>16.67</td>\n",
       "      <td>152.20</td>\n",
       "      <td>1575.0</td>\n",
       "      <td>0.13740</td>\n",
       "      <td>0.20500</td>\n",
       "      <td>0.4000</td>\n",
       "      <td>0.1625</td>\n",
       "      <td>0.2364</td>\n",
       "      <td>0.07678</td>\n",
       "    </tr>\n",
       "    <tr>\n",
       "      <th>...</th>\n",
       "      <td>...</td>\n",
       "      <td>...</td>\n",
       "      <td>...</td>\n",
       "      <td>...</td>\n",
       "      <td>...</td>\n",
       "      <td>...</td>\n",
       "      <td>...</td>\n",
       "      <td>...</td>\n",
       "      <td>...</td>\n",
       "      <td>...</td>\n",
       "      <td>...</td>\n",
       "      <td>...</td>\n",
       "      <td>...</td>\n",
       "      <td>...</td>\n",
       "      <td>...</td>\n",
       "      <td>...</td>\n",
       "      <td>...</td>\n",
       "      <td>...</td>\n",
       "      <td>...</td>\n",
       "      <td>...</td>\n",
       "      <td>...</td>\n",
       "    </tr>\n",
       "    <tr>\n",
       "      <th>564</th>\n",
       "      <td>1</td>\n",
       "      <td>21.56</td>\n",
       "      <td>22.39</td>\n",
       "      <td>142.00</td>\n",
       "      <td>1479.0</td>\n",
       "      <td>0.11100</td>\n",
       "      <td>0.11590</td>\n",
       "      <td>0.24390</td>\n",
       "      <td>0.13890</td>\n",
       "      <td>0.1726</td>\n",
       "      <td>...</td>\n",
       "      <td>25.450</td>\n",
       "      <td>26.40</td>\n",
       "      <td>166.10</td>\n",
       "      <td>2027.0</td>\n",
       "      <td>0.14100</td>\n",
       "      <td>0.21130</td>\n",
       "      <td>0.4107</td>\n",
       "      <td>0.2216</td>\n",
       "      <td>0.2060</td>\n",
       "      <td>0.07115</td>\n",
       "    </tr>\n",
       "    <tr>\n",
       "      <th>565</th>\n",
       "      <td>1</td>\n",
       "      <td>20.13</td>\n",
       "      <td>28.25</td>\n",
       "      <td>131.20</td>\n",
       "      <td>1261.0</td>\n",
       "      <td>0.09780</td>\n",
       "      <td>0.10340</td>\n",
       "      <td>0.14400</td>\n",
       "      <td>0.09791</td>\n",
       "      <td>0.1752</td>\n",
       "      <td>...</td>\n",
       "      <td>23.690</td>\n",
       "      <td>38.25</td>\n",
       "      <td>155.00</td>\n",
       "      <td>1731.0</td>\n",
       "      <td>0.11660</td>\n",
       "      <td>0.19220</td>\n",
       "      <td>0.3215</td>\n",
       "      <td>0.1628</td>\n",
       "      <td>0.2572</td>\n",
       "      <td>0.06637</td>\n",
       "    </tr>\n",
       "    <tr>\n",
       "      <th>566</th>\n",
       "      <td>1</td>\n",
       "      <td>16.60</td>\n",
       "      <td>28.08</td>\n",
       "      <td>108.30</td>\n",
       "      <td>858.1</td>\n",
       "      <td>0.08455</td>\n",
       "      <td>0.10230</td>\n",
       "      <td>0.09251</td>\n",
       "      <td>0.05302</td>\n",
       "      <td>0.1590</td>\n",
       "      <td>...</td>\n",
       "      <td>18.980</td>\n",
       "      <td>34.12</td>\n",
       "      <td>126.70</td>\n",
       "      <td>1124.0</td>\n",
       "      <td>0.11390</td>\n",
       "      <td>0.30940</td>\n",
       "      <td>0.3403</td>\n",
       "      <td>0.1418</td>\n",
       "      <td>0.2218</td>\n",
       "      <td>0.07820</td>\n",
       "    </tr>\n",
       "    <tr>\n",
       "      <th>567</th>\n",
       "      <td>1</td>\n",
       "      <td>20.60</td>\n",
       "      <td>29.33</td>\n",
       "      <td>140.10</td>\n",
       "      <td>1265.0</td>\n",
       "      <td>0.11780</td>\n",
       "      <td>0.27700</td>\n",
       "      <td>0.35140</td>\n",
       "      <td>0.15200</td>\n",
       "      <td>0.2397</td>\n",
       "      <td>...</td>\n",
       "      <td>25.740</td>\n",
       "      <td>39.42</td>\n",
       "      <td>184.60</td>\n",
       "      <td>1821.0</td>\n",
       "      <td>0.16500</td>\n",
       "      <td>0.86810</td>\n",
       "      <td>0.9387</td>\n",
       "      <td>0.2650</td>\n",
       "      <td>0.4087</td>\n",
       "      <td>0.12400</td>\n",
       "    </tr>\n",
       "    <tr>\n",
       "      <th>568</th>\n",
       "      <td>0</td>\n",
       "      <td>7.76</td>\n",
       "      <td>24.54</td>\n",
       "      <td>47.92</td>\n",
       "      <td>181.0</td>\n",
       "      <td>0.05263</td>\n",
       "      <td>0.04362</td>\n",
       "      <td>0.00000</td>\n",
       "      <td>0.00000</td>\n",
       "      <td>0.1587</td>\n",
       "      <td>...</td>\n",
       "      <td>9.456</td>\n",
       "      <td>30.37</td>\n",
       "      <td>59.16</td>\n",
       "      <td>268.6</td>\n",
       "      <td>0.08996</td>\n",
       "      <td>0.06444</td>\n",
       "      <td>0.0000</td>\n",
       "      <td>0.0000</td>\n",
       "      <td>0.2871</td>\n",
       "      <td>0.07039</td>\n",
       "    </tr>\n",
       "  </tbody>\n",
       "</table>\n",
       "<p>569 rows × 31 columns</p>\n",
       "</div>"
      ],
      "text/plain": [
       "     malignant  radius_0  texture_0  perimeter_0  area_0  smoothness_0  \\\n",
       "0            1     17.99      10.38       122.80  1001.0       0.11840   \n",
       "1            1     20.57      17.77       132.90  1326.0       0.08474   \n",
       "2            1     19.69      21.25       130.00  1203.0       0.10960   \n",
       "3            1     11.42      20.38        77.58   386.1       0.14250   \n",
       "4            1     20.29      14.34       135.10  1297.0       0.10030   \n",
       "..         ...       ...        ...          ...     ...           ...   \n",
       "564          1     21.56      22.39       142.00  1479.0       0.11100   \n",
       "565          1     20.13      28.25       131.20  1261.0       0.09780   \n",
       "566          1     16.60      28.08       108.30   858.1       0.08455   \n",
       "567          1     20.60      29.33       140.10  1265.0       0.11780   \n",
       "568          0      7.76      24.54        47.92   181.0       0.05263   \n",
       "\n",
       "     compactness_0  concavity_0  concave points_0  symmetry_0  ...  radius_2  \\\n",
       "0          0.27760      0.30010           0.14710      0.2419  ...    25.380   \n",
       "1          0.07864      0.08690           0.07017      0.1812  ...    24.990   \n",
       "2          0.15990      0.19740           0.12790      0.2069  ...    23.570   \n",
       "3          0.28390      0.24140           0.10520      0.2597  ...    14.910   \n",
       "4          0.13280      0.19800           0.10430      0.1809  ...    22.540   \n",
       "..             ...          ...               ...         ...  ...       ...   \n",
       "564        0.11590      0.24390           0.13890      0.1726  ...    25.450   \n",
       "565        0.10340      0.14400           0.09791      0.1752  ...    23.690   \n",
       "566        0.10230      0.09251           0.05302      0.1590  ...    18.980   \n",
       "567        0.27700      0.35140           0.15200      0.2397  ...    25.740   \n",
       "568        0.04362      0.00000           0.00000      0.1587  ...     9.456   \n",
       "\n",
       "     texture_2  perimeter_2  area_2  smoothness_2  compactness_2  concavity_2  \\\n",
       "0        17.33       184.60  2019.0       0.16220        0.66560       0.7119   \n",
       "1        23.41       158.80  1956.0       0.12380        0.18660       0.2416   \n",
       "2        25.53       152.50  1709.0       0.14440        0.42450       0.4504   \n",
       "3        26.50        98.87   567.7       0.20980        0.86630       0.6869   \n",
       "4        16.67       152.20  1575.0       0.13740        0.20500       0.4000   \n",
       "..         ...          ...     ...           ...            ...          ...   \n",
       "564      26.40       166.10  2027.0       0.14100        0.21130       0.4107   \n",
       "565      38.25       155.00  1731.0       0.11660        0.19220       0.3215   \n",
       "566      34.12       126.70  1124.0       0.11390        0.30940       0.3403   \n",
       "567      39.42       184.60  1821.0       0.16500        0.86810       0.9387   \n",
       "568      30.37        59.16   268.6       0.08996        0.06444       0.0000   \n",
       "\n",
       "     concave points_2  symmetry_2  fractal dimension_2  \n",
       "0              0.2654      0.4601              0.11890  \n",
       "1              0.1860      0.2750              0.08902  \n",
       "2              0.2430      0.3613              0.08758  \n",
       "3              0.2575      0.6638              0.17300  \n",
       "4              0.1625      0.2364              0.07678  \n",
       "..                ...         ...                  ...  \n",
       "564            0.2216      0.2060              0.07115  \n",
       "565            0.1628      0.2572              0.06637  \n",
       "566            0.1418      0.2218              0.07820  \n",
       "567            0.2650      0.4087              0.12400  \n",
       "568            0.0000      0.2871              0.07039  \n",
       "\n",
       "[569 rows x 31 columns]"
      ]
     },
     "execution_count": 4,
     "metadata": {},
     "output_type": "execute_result"
    }
   ],
   "source": [
    "df = wdbc.drop([\"id\"], axis=1)\n",
    "df"
   ]
  },
  {
   "cell_type": "code",
   "execution_count": 5,
   "metadata": {
    "cell_id": "dbb3b388773a413691ff4c9f0bb1457a",
    "deepnote_cell_type": "code",
    "deepnote_to_be_reexecuted": false,
    "execution_millis": 338,
    "execution_start": 1676912725941,
    "source_hash": "6db8a150",
    "tags": []
   },
   "outputs": [
    {
     "name": "stdout",
     "output_type": "stream",
     "text": [
      "0    357\n",
      "1    212\n",
      "Name: malignant, dtype: int64\n"
     ]
    },
    {
     "data": {
      "image/png": "[encoded data removed]",
      "text/plain": [
       "<Figure size 640x480 with 1 Axes>"
      ]
     },
     "metadata": {
      "image/png": {
       "height": 408,
       "width": 552
      }
     },
     "output_type": "display_data"
    }
   ],
   "source": [
    "val_counts = df['malignant'].value_counts().plot.bar()\n",
    "mali_counts = df['malignant'].value_counts()\n",
    "print(mali_counts)"
   ]
  },
  {
   "cell_type": "code",
   "execution_count": 6,
   "metadata": {
    "cell_id": "730fa19bd3834f058db6c1b68dc30fec",
    "deepnote_cell_type": "code",
    "deepnote_table_loading": false,
    "deepnote_table_state": {
     "filters": [],
     "pageIndex": 1,
     "pageSize": 10,
     "sortBy": []
    },
    "deepnote_to_be_reexecuted": false,
    "execution_millis": 1,
    "execution_start": 1676912728587,
    "source_hash": "aa82b33",
    "tags": []
   },
   "outputs": [],
   "source": [
    "df_0 = df.iloc[:,0:11]\n",
    "df_mali = df['malignant']\n",
    "df_1 = df.iloc[:,11:21]\n",
    "df_2 = df.iloc[:,21:31]"
   ]
  },
  {
   "cell_type": "code",
   "execution_count": 7,
   "metadata": {
    "cell_id": "04462b27308c470194288f0bc2274d41",
    "deepnote_cell_type": "code",
    "deepnote_to_be_reexecuted": false,
    "execution_millis": 675,
    "execution_start": 1676912730780,
    "source_hash": "5ce451e3",
    "tags": []
   },
   "outputs": [
    {
     "data": {
      "image/png": "[encoded data removed]",
      "text/plain": [
       "<Figure size 600x600 with 2 Axes>"
      ]
     },
     "metadata": {
      "image/png": {
       "height": 634,
       "width": 628
      }
     },
     "output_type": "display_data"
    }
   ],
   "source": [
    "plt.figure(figsize=(6,6))\n",
    "ax = sns.heatmap(df_0.corr(),annot=True,cmap=\"crest\")"
   ]
  },
  {
   "cell_type": "code",
   "execution_count": 8,
   "metadata": {
    "cell_id": "b259bb16d1fb46cd9507e426e850af02",
    "deepnote_cell_type": "code",
    "deepnote_table_loading": false,
    "deepnote_table_state": {
     "filters": [],
     "pageIndex": 0,
     "pageSize": 10,
     "sortBy": []
    },
    "deepnote_to_be_reexecuted": false,
    "execution_millis": 1,
    "execution_start": 1676912733803,
    "source_hash": "64755108",
    "tags": []
   },
   "outputs": [],
   "source": [
    "#size\n",
    "area_mean = df_0['radius_0'].mean()\n",
    "peri_mean = df_0['perimeter_0'].mean()\n",
    "radi_mean = df_0['radius_0'].mean()"
   ]
  },
  {
   "cell_type": "code",
   "execution_count": 10,
   "metadata": {
    "cell_id": "b7e1ff7768ab4f0989834b427b91608b",
    "deepnote_cell_type": "code",
    "deepnote_to_be_reexecuted": false,
    "execution_millis": 0,
    "execution_start": 1676912776790,
    "source_hash": "816c0f70",
    "tags": []
   },
   "outputs": [],
   "source": [
    "#shape\n",
    "compact_mean = df_0['compactness_0'].mean()\n",
    "smooth_mean = df_0['smoothness_0'].mean()"
   ]
  },
  {
   "cell_type": "code",
   "execution_count": 11,
   "metadata": {
    "cell_id": "86f76d8cdc8c47cfa8d2708497000b2e",
    "deepnote_cell_type": "code",
    "deepnote_to_be_reexecuted": false,
    "execution_millis": 2,
    "execution_start": 1676912779374,
    "source_hash": "b927047c",
    "tags": []
   },
   "outputs": [],
   "source": [
    "#structure\n",
    "texture_mean = df_0['texture_0'].mean()\n",
    "concavity_mean = df_0['concavity_0'].mean()\n",
    "concapoint_mean = df_0['concave points_0'].mean()"
   ]
  },
  {
   "cell_type": "code",
   "execution_count": 12,
   "metadata": {
    "cell_id": "bf2ca03ceeb14b1191b19043d41aa1e0",
    "deepnote_cell_type": "code",
    "deepnote_to_be_reexecuted": false,
    "execution_millis": 3,
    "execution_start": 1676912782310,
    "source_hash": "eab034f8",
    "tags": []
   },
   "outputs": [
    {
     "data": {
      "text/plain": [
       "radius_1                0.405172\n",
       "texture_1               1.216853\n",
       "perimeter_1             2.866059\n",
       "area_1                 40.337079\n",
       "smoothness_1            0.007041\n",
       "compactness_1           0.025478\n",
       "concavity_1             0.031894\n",
       "concave points_1        0.011796\n",
       "symmetry_1              0.020542\n",
       "fractal dimension_1     0.003795\n",
       "dtype: float64"
      ]
     },
     "execution_count": 12,
     "metadata": {},
     "output_type": "execute_result"
    }
   ],
   "source": [
    "#homogeneity\n",
    "var_mean = df_1.mean()\n",
    "var_mean"
   ]
  },
  {
   "cell_type": "code",
   "execution_count": 13,
   "metadata": {
    "cell_id": "e2a312e66c0c475895f05df8824c8dee",
    "deepnote_cell_type": "code",
    "deepnote_to_be_reexecuted": false,
    "execution_millis": 4,
    "execution_start": 1676912784388,
    "source_hash": "f2d3723d",
    "tags": []
   },
   "outputs": [
    {
     "data": {
      "text/plain": [
       "[842302.0,\n",
       " 842517.0,\n",
       " 84300903.0,\n",
       " 84348301.0,\n",
       " 84358402.0,\n",
       " 843786.0,\n",
       " 844359.0,\n",
       " 84458202.0,\n",
       " 844981.0,\n",
       " 84501001.0,\n",
       " 845636.0,\n",
       " 84610002.0,\n",
       " 846226.0,\n",
       " 846381.0,\n",
       " 84667401.0,\n",
       " 84799002.0,\n",
       " 848406.0,\n",
       " 84862001.0,\n",
       " 849014.0,\n",
       " 8510653.0,\n",
       " 8511133.0,\n",
       " 851509.0,\n",
       " 852552.0,\n",
       " 852631.0,\n",
       " 852763.0,\n",
       " 852781.0,\n",
       " 852973.0,\n",
       " 853201.0,\n",
       " 853401.0,\n",
       " 853612.0,\n",
       " 85382601.0,\n",
       " 854002.0,\n",
       " 854039.0,\n",
       " 854253.0,\n",
       " 854268.0,\n",
       " 855133.0,\n",
       " 855138.0,\n",
       " 855563.0,\n",
       " 855625.0,\n",
       " 856106.0,\n",
       " 85638502.0,\n",
       " 857010.0,\n",
       " 85715.0,\n",
       " 857392.0,\n",
       " 857438.0,\n",
       " 857637.0,\n",
       " 857793.0,\n",
       " 858986.0,\n",
       " 85922302.0,\n",
       " 859283.0,\n",
       " 859471.0,\n",
       " 859575.0,\n",
       " 859711.0,\n",
       " 859717.0,\n",
       " 859983.0,\n",
       " 8610404.0,\n",
       " 8610629.0,\n",
       " 8610637.0,\n",
       " 8610862.0,\n",
       " 8611161.0,\n",
       " 8611555.0,\n",
       " 8611792.0,\n",
       " 8612399.0,\n",
       " 86135501.0,\n",
       " 86135502.0,\n",
       " 861598.0,\n",
       " 861648.0,\n",
       " 861799.0,\n",
       " 862028.0,\n",
       " 86208.0,\n",
       " 862548.0,\n",
       " 863030.0,\n",
       " 86355.0,\n",
       " 86408.0,\n",
       " 86409.0,\n",
       " 864292.0,\n",
       " 864729.0,\n",
       " 864877.0,\n",
       " 865128.0,\n",
       " 86517.0,\n",
       " 865423.0,\n",
       " 865432.0,\n",
       " 866203.0,\n",
       " 866458.0,\n",
       " 866674.0,\n",
       " 8670.0,\n",
       " 86730502.0,\n",
       " 867387.0,\n",
       " 867739.0,\n",
       " 868826.0,\n",
       " 868871.0,\n",
       " 869104.0,\n",
       " 869476.0,\n",
       " 869691.0,\n",
       " 86973701.0,\n",
       " 86973702.0,\n",
       " 8710441.0,\n",
       " 8711202.0,\n",
       " 8711216.0,\n",
       " 8711561.0,\n",
       " 8711803.0,\n",
       " 871201.0,\n",
       " 8712289.0,\n",
       " 8712291.0,\n",
       " 8712729.0,\n",
       " 8712766.0,\n",
       " 8712853.0,\n",
       " 87164.0,\n",
       " 872608.0,\n",
       " 87281702.0,\n",
       " 873592.0,\n",
       " 873593.0,\n",
       " 873701.0,\n",
       " 873885.0,\n",
       " 874217.0,\n",
       " 874858.0,\n",
       " 875263.0,\n",
       " 87556202.0,\n",
       " 875938.0,\n",
       " 877159.0,\n",
       " 877486.0,\n",
       " 877500.0,\n",
       " 877989.0,\n",
       " 878796.0,\n",
       " 87880.0,\n",
       " 87930.0,\n",
       " 879523.0,\n",
       " 879830.0,\n",
       " 8810158.0,\n",
       " 8810436.0,\n",
       " 881046502.0,\n",
       " 8810703.0,\n",
       " 881094802.0,\n",
       " 8810955.0,\n",
       " 8810987.0,\n",
       " 8811842.0,\n",
       " 88119002.0,\n",
       " 8812818.0,\n",
       " 8812877.0,\n",
       " 88143502.0,\n",
       " 88147102.0,\n",
       " 881861.0,\n",
       " 881972.0,\n",
       " 88206102.0,\n",
       " 88299702.0,\n",
       " 883263.0,\n",
       " 883270.0,\n",
       " 88330202.0,\n",
       " 884180.0,\n",
       " 884948.0,\n",
       " 885429.0,\n",
       " 8860702.0,\n",
       " 886226.0,\n",
       " 886452.0,\n",
       " 88649001.0,\n",
       " 886776.0,\n",
       " 887181.0,\n",
       " 88725602.0,\n",
       " 887549.0,\n",
       " 888264.0,\n",
       " 888570.0,\n",
       " 889403.0,\n",
       " 889719.0,\n",
       " 88995002.0,\n",
       " 8910251.0,\n",
       " 8910720.0,\n",
       " 8910988.0,\n",
       " 8911163.0,\n",
       " 8911670.0,\n",
       " 8912049.0,\n",
       " 89122.0,\n",
       " 8912280.0,\n",
       " 8913049.0,\n",
       " 89143602.0,\n",
       " 8915.0,\n",
       " 892438.0,\n",
       " 89263202.0,\n",
       " 89382601.0,\n",
       " 894326.0,\n",
       " 894329.0,\n",
       " 894604.0,\n",
       " 894618.0,\n",
       " 895100.0,\n",
       " 8953902.0,\n",
       " 895633.0,\n",
       " 896839.0,\n",
       " 89742801.0,\n",
       " 897630.0,\n",
       " 89812.0,\n",
       " 89813.0,\n",
       " 898431.0,\n",
       " 89869.0,\n",
       " 899147.0,\n",
       " 899667.0,\n",
       " 899987.0,\n",
       " 9010018.0,\n",
       " 9010259.0,\n",
       " 9010872.0,\n",
       " 901088.0,\n",
       " 9011494.0,\n",
       " 9011971.0,\n",
       " 9012000.0,\n",
       " 9012315.0,\n",
       " 9012568.0,\n",
       " 9012795.0,\n",
       " 901288.0,\n",
       " 901303.0,\n",
       " 901315.0,\n",
       " 9013838.0,\n",
       " 901549.0,\n",
       " 90251.0,\n",
       " 90291.0,\n",
       " 90312.0,\n",
       " 903507.0,\n",
       " 903516.0,\n",
       " 90401601.0,\n",
       " 90439701.0,\n",
       " 905189.0,\n",
       " 90524101.0,\n",
       " 905557.0,\n",
       " 905680.0,\n",
       " 90602302.0,\n",
       " 906564.0,\n",
       " 906616.0,\n",
       " 907914.0,\n",
       " 907915.0,\n",
       " 908194.0,\n",
       " 908445.0,\n",
       " 908469.0,\n",
       " 908489.0,\n",
       " 909445.0,\n",
       " 9110127.0,\n",
       " 9110732.0,\n",
       " 9110944.0,\n",
       " 911150.0,\n",
       " 911157302.0,\n",
       " 9111805.0,\n",
       " 911201.0,\n",
       " 911296201.0,\n",
       " 911296202.0,\n",
       " 9113156.0,\n",
       " 9113538.0,\n",
       " 911366.0,\n",
       " 911384.0,\n",
       " 911391.0,\n",
       " 911654.0,\n",
       " 911916.0,\n",
       " 912519.0,\n",
       " 912600.0,\n",
       " 913102.0,\n",
       " 913505.0,\n",
       " 913535.0,\n",
       " 91376702.0,\n",
       " 914062.0,\n",
       " 914333.0,\n",
       " 914366.0,\n",
       " 914769.0,\n",
       " 91485.0,\n",
       " 914862.0,\n",
       " 91504.0,\n",
       " 91505.0,\n",
       " 915143.0,\n",
       " 915186.0,\n",
       " 915276.0,\n",
       " 91544001.0,\n",
       " 91544002.0,\n",
       " 915452.0,\n",
       " 915460.0,\n",
       " 915664.0,\n",
       " 915691.0,\n",
       " 915940.0,\n",
       " 91594602.0,\n",
       " 916799.0,\n",
       " 916838.0,\n",
       " 917062.0,\n",
       " 917080.0,\n",
       " 917092.0,\n",
       " 91762702.0,\n",
       " 917896.0,\n",
       " 91813701.0,\n",
       " 91930402.0,\n",
       " 919555.0,\n",
       " 91979701.0,\n",
       " 919812.0,\n",
       " 921385.0,\n",
       " 921386.0,\n",
       " 921644.0,\n",
       " 925277.0,\n",
       " 925292.0,\n",
       " 925622.0,\n",
       " 926125.0,\n",
       " 926424.0,\n",
       " 926682.0,\n",
       " 926954.0,\n",
       " 927241.0]"
      ]
     },
     "execution_count": 13,
     "metadata": {},
     "output_type": "execute_result"
    }
   ],
   "source": [
    "#If [cell size is abnormal]:\n",
    "#or [cell shape is abnormal]\n",
    "#or [cell texture is abnormal]\n",
    "#or [cell homogeneity is abnormal], \n",
    "#then: diagnosis is malignant, \n",
    "#otherwise: diagnosis is benign.\n",
    "\n",
    "malignant=[]\n",
    "benign=[]\n",
    "\n",
    "\n",
    "\n",
    "def rule_based_classifier(idx, row):\n",
    "    if row['area_0'] > area_mean and row['perimeter_0'] > peri_mean and row['radius_0'] > radi_mean:\n",
    "        malignant.append(row['id'])\n",
    "    elif row['compactness_0'] > compact_mean and row['smoothness_0'] > smooth_mean:\n",
    "        malignant.append(row['id'])\n",
    "    elif row['texture_0'] > texture_mean and row['concavity_0'] > concavity_mean and row['concave points_0'] > concapoint_mean:\n",
    "        malignant.append(row['id'])\n",
    "    else:\n",
    "        benign.append(row['id'])\n",
    "\n",
    "for index, row in wdbc.iterrows():\n",
    "    rule_based_classifier(index,row)\n",
    "malignant"
   ]
  },
  {
   "cell_type": "code",
   "execution_count": 14,
   "metadata": {
    "cell_id": "2407e3f6480e48ca831a8751fa193a7f",
    "deepnote_cell_type": "code",
    "deepnote_to_be_reexecuted": false,
    "execution_millis": 1809,
    "execution_start": 1676912787123,
    "source_hash": "3341418a",
    "tags": []
   },
   "outputs": [
    {
     "name": "stdout",
     "output_type": "stream",
     "text": [
      "True Positive is: 206 False Positive is: 89 True Negtive is: 268 False Negative is: 6\n"
     ]
    },
    {
     "data": {
      "image/png": "[encoded data removed]",
      "text/plain": [
       "<Figure size 640x480 with 2 Axes>"
      ]
     },
     "metadata": {
      "image/png": {
       "height": 478,
       "width": 564
      }
     },
     "output_type": "display_data"
    },
    {
     "name": "stdout",
     "output_type": "stream",
     "text": [
      "The specificity of rule based classifier is 0.7507002801120448\n",
      "The sensitivity of rule based classifier is 0.9716981132075472\n"
     ]
    }
   ],
   "source": [
    "#rule-based-classifier evaluate\n",
    "TP = 0\n",
    "FP = 0\n",
    "FN = 0\n",
    "TN = 0\n",
    "for index, row in wdbc.iterrows():\n",
    "    for j in malignant:\n",
    "        if row['id'] == j and row['malignant'] == 1:\n",
    "            TP += 1\n",
    "        elif row['id'] == j and row['malignant'] == 0:\n",
    "            FP += 1\n",
    "    for j in benign:\n",
    "        if row['id'] == j and row['malignant'] == 0:\n",
    "            TN += 1\n",
    "        if row['id'] == j and row['malignant'] == 1:\n",
    "            FN += 1\n",
    "\n",
    "print('True Positive is:',TP, 'False Positive is:',FP, 'True Negtive is:',TN, 'False Negative is:',FN)\n",
    "cm = np.array([[206, 6],\n",
    "               [89, 268]])\n",
    "\n",
    "classes = ['malignant', 'benign']\n",
    "\n",
    "figure, ax = plot_confusion_matrix(conf_mat = cm,\n",
    "                                   class_names = classes,\n",
    "                                   show_absolute = False,\n",
    "                                   show_normed = True,\n",
    "                                   colorbar = True)\n",
    "\n",
    "plt.show()\n",
    "\n",
    "specificity = TN/(TN+FP)\n",
    "sensitivity = TP/(TP+FN)\n",
    "print('The specificity of rule based classifier is', specificity)\n",
    "print('The sensitivity of rule based classifier is', sensitivity)"
   ]
  },
  {
   "cell_type": "code",
   "execution_count": 15,
   "metadata": {
    "cell_id": "5ec132bf5ec84435948cc9ad589d9970",
    "deepnote_cell_type": "code",
    "deepnote_to_be_reexecuted": false,
    "execution_millis": 3,
    "execution_start": 1676912791408,
    "source_hash": "f9fc3f4e",
    "tags": []
   },
   "outputs": [],
   "source": [
    "#random forest\n",
    "x = df.drop(['malignant'], axis=1)\n",
    "y = df['malignant']\n",
    "x_train,x_test,y_train,y_test = train_test_split(x, y, test_size=0.2, random_state=42)"
   ]
  },
  {
   "cell_type": "code",
   "execution_count": 16,
   "metadata": {
    "cell_id": "c28c9824aacf45aba829092d0f1dcafb",
    "deepnote_cell_type": "code",
    "deepnote_to_be_reexecuted": false,
    "execution_millis": 1355,
    "execution_start": 1676912796473,
    "source_hash": "802c705c",
    "tags": []
   },
   "outputs": [
    {
     "data": {
      "text/html": [
       "<style>#sk-container-id-1 {color: black;background-color: white;}#sk-container-id-1 pre{padding: 0;}#sk-container-id-1 div.sk-toggleable {background-color: white;}#sk-container-id-1 label.sk-toggleable__label {cursor: pointer;display: block;width: 100%;margin-bottom: 0;padding: 0.3em;box-sizing: border-box;text-align: center;}#sk-container-id-1 label.sk-toggleable__label-arrow:before {content: \"▸\";float: left;margin-right: 0.25em;color: #696969;}#sk-container-id-1 label.sk-toggleable__label-arrow:hover:before {color: black;}#sk-container-id-1 div.sk-estimator:hover label.sk-toggleable__label-arrow:before {color: black;}#sk-container-id-1 div.sk-toggleable__content {max-height: 0;max-width: 0;overflow: hidden;text-align: left;background-color: #f0f8ff;}#sk-container-id-1 div.sk-toggleable__content pre {margin: 0.2em;color: black;border-radius: 0.25em;background-color: #f0f8ff;}#sk-container-id-1 input.sk-toggleable__control:checked~div.sk-toggleable__content {max-height: 200px;max-width: 100%;overflow: auto;}#sk-container-id-1 input.sk-toggleable__control:checked~label.sk-toggleable__label-arrow:before {content: \"▾\";}#sk-container-id-1 div.sk-estimator input.sk-toggleable__control:checked~label.sk-toggleable__label {background-color: #d4ebff;}#sk-container-id-1 div.sk-label input.sk-toggleable__control:checked~label.sk-toggleable__label {background-color: #d4ebff;}#sk-container-id-1 input.sk-hidden--visually {border: 0;clip: rect(1px 1px 1px 1px);clip: rect(1px, 1px, 1px, 1px);height: 1px;margin: -1px;overflow: hidden;padding: 0;position: absolute;width: 1px;}#sk-container-id-1 div.sk-estimator {font-family: monospace;background-color: #f0f8ff;border: 1px dotted black;border-radius: 0.25em;box-sizing: border-box;margin-bottom: 0.5em;}#sk-container-id-1 div.sk-estimator:hover {background-color: #d4ebff;}#sk-container-id-1 div.sk-parallel-item::after {content: \"\";width: 100%;border-bottom: 1px solid gray;flex-grow: 1;}#sk-container-id-1 div.sk-label:hover label.sk-toggleable__label {background-color: #d4ebff;}#sk-container-id-1 div.sk-serial::before {content: \"\";position: absolute;border-left: 1px solid gray;box-sizing: border-box;top: 0;bottom: 0;left: 50%;z-index: 0;}#sk-container-id-1 div.sk-serial {display: flex;flex-direction: column;align-items: center;background-color: white;padding-right: 0.2em;padding-left: 0.2em;position: relative;}#sk-container-id-1 div.sk-item {position: relative;z-index: 1;}#sk-container-id-1 div.sk-parallel {display: flex;align-items: stretch;justify-content: center;background-color: white;position: relative;}#sk-container-id-1 div.sk-item::before, #sk-container-id-1 div.sk-parallel-item::before {content: \"\";position: absolute;border-left: 1px solid gray;box-sizing: border-box;top: 0;bottom: 0;left: 50%;z-index: -1;}#sk-container-id-1 div.sk-parallel-item {display: flex;flex-direction: column;z-index: 1;position: relative;background-color: white;}#sk-container-id-1 div.sk-parallel-item:first-child::after {align-self: flex-end;width: 50%;}#sk-container-id-1 div.sk-parallel-item:last-child::after {align-self: flex-start;width: 50%;}#sk-container-id-1 div.sk-parallel-item:only-child::after {width: 0;}#sk-container-id-1 div.sk-dashed-wrapped {border: 1px dashed gray;margin: 0 0.4em 0.5em 0.4em;box-sizing: border-box;padding-bottom: 0.4em;background-color: white;}#sk-container-id-1 div.sk-label label {font-family: monospace;font-weight: bold;display: inline-block;line-height: 1.2em;}#sk-container-id-1 div.sk-label-container {text-align: center;}#sk-container-id-1 div.sk-container {/* jupyter's `normalize.less` sets `[hidden] { display: none; }` but bootstrap.min.css set `[hidden] { display: none !important; }` so we also need the `!important` here to be able to override the default hidden behavior on the sphinx rendered scikit-learn.org. See: https://github.com/scikit-learn/scikit-learn/issues/21755 */display: inline-block !important;position: relative;}#sk-container-id-1 div.sk-text-repr-fallback {display: none;}</style><div id=\"sk-container-id-1\" class=\"sk-top-container\"><div class=\"sk-text-repr-fallback\"><pre>RandomForestClassifier(n_estimators=1000)</pre><b>In a Jupyter environment, please rerun this cell to show the HTML representation or trust the notebook. <br />On GitHub, the HTML representation is unable to render, please try loading this page with nbviewer.org.</b></div><div class=\"sk-container\" hidden><div class=\"sk-item\"><div class=\"sk-estimator sk-toggleable\"><input class=\"sk-toggleable__control sk-hidden--visually\" id=\"sk-estimator-id-1\" type=\"checkbox\" checked><label for=\"sk-estimator-id-1\" class=\"sk-toggleable__label sk-toggleable__label-arrow\">RandomForestClassifier</label><div class=\"sk-toggleable__content\"><pre>RandomForestClassifier(n_estimators=1000)</pre></div></div></div></div></div>"
      ],
      "text/plain": [
       "RandomForestClassifier(n_estimators=1000)"
      ]
     },
     "execution_count": 16,
     "metadata": {},
     "output_type": "execute_result"
    }
   ],
   "source": [
    "from sklearn.ensemble import RandomForestClassifier\n",
    "rfc = RandomForestClassifier(n_estimators=1000)\n",
    "rfc.fit(x_train,y_train)"
   ]
  },
  {
   "cell_type": "code",
   "execution_count": 17,
   "metadata": {
    "cell_id": "34e9ec02a511495b8d0a299299f3fd87",
    "deepnote_cell_type": "code",
    "deepnote_to_be_reexecuted": false,
    "execution_millis": 71,
    "execution_start": 1676912799541,
    "source_hash": "5e748932",
    "tags": []
   },
   "outputs": [],
   "source": [
    "y_pred = rfc.predict(x_test)"
   ]
  },
  {
   "cell_type": "code",
   "execution_count": 18,
   "metadata": {
    "cell_id": "d7cb7864d65c40ae802f46f8df12baee",
    "deepnote_cell_type": "code",
    "deepnote_to_be_reexecuted": false,
    "execution_millis": 4,
    "execution_start": 1676912801166,
    "source_hash": "a1221879",
    "tags": []
   },
   "outputs": [
    {
     "name": "stdout",
     "output_type": "stream",
     "text": [
      "The accuracy score of random forest is 0.9649122807017544\n"
     ]
    }
   ],
   "source": [
    "acc_score = accuracy_score(y_test,y_pred)\n",
    "print('The accuracy score of random forest is',acc_score)"
   ]
  },
  {
   "cell_type": "code",
   "execution_count": 19,
   "metadata": {
    "cell_id": "74b5b73e95d845b2ad6f5c9645c0190d",
    "deepnote_cell_type": "code",
    "deepnote_to_be_reexecuted": false,
    "execution_millis": 2,
    "execution_start": 1676912803508,
    "source_hash": "22deb09b",
    "tags": []
   },
   "outputs": [],
   "source": [
    "#own designed classifier\n",
    "#prepare data\n",
    "#size_data = df[[\"malignant\",\"radius_0\",\"radius_1\",\"radius_2\",\"perimeter_0\",\"perimeter_1\",\"perimeter_2\",\"area_0\",\"area_1\",\"area_2\"]]\n",
    "#shape_data = df[[\"malignant\",\"smoothness_0\",\"smoothness_1\",\"smoothness_2\",\"compactness_0\",\"compactness_1\",\"compactness_2\"]]\n",
    "#structure_data = df[[\"malignant\",\"texture_0\",\"texture_1\",\"texture_2\",\"concavity_0\",\"concavity_1\",\"concavity_2\",\"concave points_0\",\"concave points_1\",\"concave points_2\"]]\n",
    "size_data = df[[\"malignant\",\"radius_0\",\"perimeter_0\",\"area_0\"]]\n",
    "shape_data = df[[\"malignant\",\"smoothness_0\",\"compactness_0\"]]\n",
    "structure_data = df[[\"malignant\",\"texture_0\",\"concavity_0\",\"concave points_0\"]]"
   ]
  },
  {
   "cell_type": "code",
   "execution_count": 20,
   "metadata": {
    "cell_id": "5f57f1317c2e4cb186b7dcaeda7b00c7",
    "deepnote_cell_type": "code",
    "deepnote_to_be_reexecuted": false,
    "execution_millis": 4,
    "execution_start": 1676912805534,
    "source_hash": "5f608d4d",
    "tags": []
   },
   "outputs": [],
   "source": [
    "from sklearn.naive_bayes import GaussianNB\n",
    "gnb = GaussianNB()\n",
    "\n",
    "def gaussian_classifier(data,test_point):\n",
    "    x = data.drop([\"malignant\"], axis=1)\n",
    "    y = data[\"malignant\"]\n",
    "    x_size_train,x_size_test,y_size_train,y_size_test = train_test_split(x, y, test_size=0.2, random_state=42)\n",
    "    gnb_clf = GaussianNB()\n",
    "    gnb_clf.fit(x_size_train,y_size_train)\n",
    "    y_size_pred = gnb_clf.predict(test_point)\n",
    "    prob = gnb_clf.predict_proba(test_point)\n",
    "    return y_size_pred,prob\n",
    "    #if y_size_pred == 1:\n",
    "        #prob = gnb_clf.predict_proba(test_point)\n",
    "        #return \"Patient is malignant with probability of\",prob"
   ]
  },
  {
   "cell_type": "code",
   "execution_count": 21,
   "metadata": {
    "cell_id": "1dd20866181e454bb1fcae85373c50e8",
    "deepnote_cell_type": "code",
    "deepnote_to_be_reexecuted": false,
    "execution_millis": 3,
    "execution_start": 1676912807276,
    "source_hash": "f36a57fd",
    "tags": []
   },
   "outputs": [],
   "source": [
    "#test_temp = np.array([[20,89,14]])\n",
    "#test_temp=test_temp.reshape(-1,1)\n",
    "#size_classifier(size_data,test_temp)\n",
    "def interpretable_classifier(size_data,shape_data,structure_data,test_point_size,test_point_shape,test_point_struct):\n",
    "    size_gcl,size_prob = gaussian_classifier(size_data, test_point_size)\n",
    "    shape_gcl,shape_prob = gaussian_classifier(shape_data, test_point_shape)\n",
    "    structure_gcl,struct_prob = gaussian_classifier(structure_data, test_point_struct)\n",
    "    if size_gcl == 1:\n",
    "        #size_prob = size_gcl.predict_proba(test_point_size)\n",
    "        return \"Cell size is abnormal, patient is malignant with probability of\",size_prob\n",
    "    elif shape_gcl == 1:\n",
    "        #shape_prob = shape_gcl.predict_proba(test_point_shape)\n",
    "        return \"Cell shape is abnormal, patient is malignant with probability of\",shape_prob\n",
    "    elif structure_gcl == 1:\n",
    "        #structure_prob = structure_gcl.predict_proba(test_point_struct)\n",
    "        return \"Cell structure is abnormal, patient is malignant with probability of\",structure_prob\n",
    "    "
   ]
  },
  {
   "cell_type": "code",
   "execution_count": 22,
   "metadata": {
    "cell_id": "1216518eb4504e60a49a65286ecc892a",
    "deepnote_cell_type": "code",
    "deepnote_to_be_reexecuted": false,
    "execution_millis": 0,
    "execution_start": 1676912809019,
    "source_hash": "7b1d7e00",
    "tags": []
   },
   "outputs": [],
   "source": [
    "#real data test\n",
    "test_size = np.array([[21, 136, 1297]])\n",
    "test_shape = np.array([[0.1003, 0.1328]])\n",
    "test_struct = np.array([[15, 0.198, 0.1043]])"
   ]
  },
  {
   "cell_type": "code",
   "execution_count": 83,
   "metadata": {
    "cell_id": "650b459b553540a69d0e9a9528c85491",
    "deepnote_cell_type": "code",
    "deepnote_to_be_reexecuted": false,
    "execution_millis": 11,
    "execution_start": 1676907772284,
    "source_hash": "b7cb1c31",
    "tags": []
   },
   "outputs": [
    {
     "name": "stderr",
     "output_type": "stream",
     "text": [
      "/shared-libs/python3.9/py/lib/python3.9/site-packages/sklearn/base.py:450: UserWarning: X does not have valid feature names, but GaussianNB was fitted with feature names\n",
      "  warnings.warn(\n"
     ]
    },
    {
     "data": {
      "text/plain": [
       "array([1], dtype=int32)"
      ]
     },
     "execution_count": 83,
     "metadata": {},
     "output_type": "execute_result"
    }
   ],
   "source": []
  },
  {
   "cell_type": "code",
   "execution_count": 23,
   "metadata": {
    "cell_id": "fb6cd7d327614f3da37d758423c8acca",
    "deepnote_cell_type": "code",
    "deepnote_to_be_reexecuted": false,
    "execution_millis": 14,
    "execution_start": 1676912817846,
    "source_hash": "4b0cf3e5",
    "tags": []
   },
   "outputs": [
    {
     "name": "stderr",
     "output_type": "stream",
     "text": [
      "/shared-libs/python3.9/py/lib/python3.9/site-packages/sklearn/base.py:450: UserWarning: X does not have valid feature names, but GaussianNB was fitted with feature names\n",
      "  warnings.warn(\n",
      "/shared-libs/python3.9/py/lib/python3.9/site-packages/sklearn/base.py:450: UserWarning: X does not have valid feature names, but GaussianNB was fitted with feature names\n",
      "  warnings.warn(\n",
      "/shared-libs/python3.9/py/lib/python3.9/site-packages/sklearn/base.py:450: UserWarning: X does not have valid feature names, but GaussianNB was fitted with feature names\n",
      "  warnings.warn(\n",
      "/shared-libs/python3.9/py/lib/python3.9/site-packages/sklearn/base.py:450: UserWarning: X does not have valid feature names, but GaussianNB was fitted with feature names\n",
      "  warnings.warn(\n",
      "/shared-libs/python3.9/py/lib/python3.9/site-packages/sklearn/base.py:450: UserWarning: X does not have valid feature names, but GaussianNB was fitted with feature names\n",
      "  warnings.warn(\n",
      "/shared-libs/python3.9/py/lib/python3.9/site-packages/sklearn/base.py:450: UserWarning: X does not have valid feature names, but GaussianNB was fitted with feature names\n",
      "  warnings.warn(\n"
     ]
    },
    {
     "data": {
      "text/plain": [
       "('Cell size is abnormal, patient is malignant with probability of',\n",
       " array([[3.56609982e-17, 1.00000000e+00]]))"
      ]
     },
     "execution_count": 23,
     "metadata": {},
     "output_type": "execute_result"
    }
   ],
   "source": [
    "interpretable_classifier(size_data,shape_data,structure_data,test_size,test_shape,test_struct)"
   ]
  },
  {
   "cell_type": "code",
   "execution_count": 37,
   "metadata": {
    "cell_id": "97c51207ac9e4452b175d6d94547f82b",
    "deepnote_cell_type": "code",
    "deepnote_to_be_reexecuted": false,
    "execution_millis": 0,
    "execution_start": 1676913456143,
    "source_hash": "f2e9ea54",
    "tags": []
   },
   "outputs": [],
   "source": [
    "#shape abnormal test\n",
    "test_size_2 = np.array([[13.54, 87.46, 566.3]])\n",
    "test_shape_2 = np.array([[0.2, 0.3]]) #here\n",
    "test_struct_2 = np.array([[14.36, 0.066, 0.0478]])"
   ]
  },
  {
   "cell_type": "code",
   "execution_count": 38,
   "metadata": {
    "cell_id": "b4e26ffcf7a34dee9e5d5004f9c9471a",
    "deepnote_cell_type": "code",
    "deepnote_to_be_reexecuted": false,
    "execution_millis": 5,
    "execution_start": 1676913459426,
    "source_hash": "47e33e72",
    "tags": []
   },
   "outputs": [
    {
     "name": "stderr",
     "output_type": "stream",
     "text": [
      "/shared-libs/python3.9/py/lib/python3.9/site-packages/sklearn/base.py:450: UserWarning: X does not have valid feature names, but GaussianNB was fitted with feature names\n",
      "  warnings.warn(\n",
      "/shared-libs/python3.9/py/lib/python3.9/site-packages/sklearn/base.py:450: UserWarning: X does not have valid feature names, but GaussianNB was fitted with feature names\n",
      "  warnings.warn(\n",
      "/shared-libs/python3.9/py/lib/python3.9/site-packages/sklearn/base.py:450: UserWarning: X does not have valid feature names, but GaussianNB was fitted with feature names\n",
      "  warnings.warn(\n",
      "/shared-libs/python3.9/py/lib/python3.9/site-packages/sklearn/base.py:450: UserWarning: X does not have valid feature names, but GaussianNB was fitted with feature names\n",
      "  warnings.warn(\n",
      "/shared-libs/python3.9/py/lib/python3.9/site-packages/sklearn/base.py:450: UserWarning: X does not have valid feature names, but GaussianNB was fitted with feature names\n",
      "  warnings.warn(\n",
      "/shared-libs/python3.9/py/lib/python3.9/site-packages/sklearn/base.py:450: UserWarning: X does not have valid feature names, but GaussianNB was fitted with feature names\n",
      "  warnings.warn(\n"
     ]
    },
    {
     "data": {
      "text/plain": [
       "('Cell shape is abnormal, patient is malignant with probability of',\n",
       " array([[4.32705371e-09, 9.99999996e-01]]))"
      ]
     },
     "execution_count": 38,
     "metadata": {},
     "output_type": "execute_result"
    }
   ],
   "source": [
    "interpretable_classifier(size_data,shape_data,structure_data,test_size_2,test_shape_2,test_struct_2)"
   ]
  },
  {
   "cell_type": "code",
   "execution_count": 36,
   "metadata": {
    "cell_id": "bcb560d79e7c4d80a4611d5021ae3f6f",
    "deepnote_cell_type": "code",
    "deepnote_table_loading": false,
    "deepnote_table_state": {
     "filters": [
      {
       "id": "malignant",
       "type": "contains",
       "value": "0"
      }
     ],
     "pageIndex": 0,
     "pageSize": 10,
     "sortBy": []
    },
    "deepnote_to_be_reexecuted": false,
    "execution_millis": 98,
    "execution_start": 1676913312227,
    "source_hash": "f804c160",
    "tags": []
   },
   "outputs": [
    {
     "data": {
      "application/vnd.deepnote.dataframe.v3+json": {
       "column_count": 31,
       "columns": [
        {
         "dtype": "int32",
         "name": "malignant",
         "stats": {
          "histogram": [
           {
            "bin_end": -0.4,
            "bin_start": -0.5,
            "count": 0
           },
           {
            "bin_end": -0.3,
            "bin_start": -0.4,
            "count": 0
           },
           {
            "bin_end": -0.19999999999999996,
            "bin_start": -0.3,
            "count": 0
           },
           {
            "bin_end": -0.09999999999999998,
            "bin_start": -0.19999999999999996,
            "count": 0
           },
           {
            "bin_end": 0,
            "bin_start": -0.09999999999999998,
            "count": 0
           },
           {
            "bin_end": 0.10000000000000009,
            "bin_start": 0,
            "count": 357
           },
           {
            "bin_end": 0.20000000000000007,
            "bin_start": 0.10000000000000009,
            "count": 0
           },
           {
            "bin_end": 0.30000000000000004,
            "bin_start": 0.20000000000000007,
            "count": 0
           },
           {
            "bin_end": 0.4,
            "bin_start": 0.30000000000000004,
            "count": 0
           },
           {
            "bin_end": 0.5,
            "bin_start": 0.4,
            "count": 0
           }
          ],
          "max": "0",
          "min": "0",
          "nan_count": 0,
          "unique_count": 1
         }
        },
        {
         "dtype": "float64",
         "name": "radius_0",
         "stats": {
          "histogram": [
           {
            "bin_end": 8.0679,
            "bin_start": 6.981,
            "count": 4
           },
           {
            "bin_end": 9.1548,
            "bin_start": 8.0679,
            "count": 15
           },
           {
            "bin_end": 10.241700000000002,
            "bin_start": 9.1548,
            "count": 35
           },
           {
            "bin_end": 11.328600000000002,
            "bin_start": 10.241700000000002,
            "count": 54
           },
           {
            "bin_end": 12.415500000000002,
            "bin_start": 11.328600000000002,
            "count": 90
           },
           {
            "bin_end": 13.502400000000002,
            "bin_start": 12.415500000000002,
            "count": 78
           },
           {
            "bin_end": 14.589300000000001,
            "bin_start": 13.502400000000002,
            "count": 50
           },
           {
            "bin_end": 15.676200000000001,
            "bin_start": 14.589300000000001,
            "count": 23
           },
           {
            "bin_end": 16.7631,
            "bin_start": 15.676200000000001,
            "count": 6
           },
           {
            "bin_end": 17.85,
            "bin_start": 16.7631,
            "count": 2
           }
          ],
          "max": "17.85",
          "min": "6.981",
          "nan_count": 0,
          "unique_count": 284
         }
        },
        {
         "dtype": "float64",
         "name": "texture_0",
         "stats": {
          "histogram": [
           {
            "bin_end": 12.120000000000001,
            "bin_start": 9.71,
            "count": 9
           },
           {
            "bin_end": 14.530000000000001,
            "bin_start": 12.120000000000001,
            "count": 55
           },
           {
            "bin_end": 16.94,
            "bin_start": 14.530000000000001,
            "count": 94
           },
           {
            "bin_end": 19.35,
            "bin_start": 16.94,
            "count": 100
           },
           {
            "bin_end": 21.76,
            "bin_start": 19.35,
            "count": 50
           },
           {
            "bin_end": 24.17,
            "bin_start": 21.76,
            "count": 19
           },
           {
            "bin_end": 26.580000000000002,
            "bin_start": 24.17,
            "count": 12
           },
           {
            "bin_end": 28.990000000000002,
            "bin_start": 26.580000000000002,
            "count": 12
           },
           {
            "bin_end": 31.400000000000002,
            "bin_start": 28.990000000000002,
            "count": 5
           },
           {
            "bin_end": 33.81,
            "bin_start": 31.400000000000002,
            "count": 1
           }
          ],
          "max": "33.81",
          "min": "9.71",
          "nan_count": 0,
          "unique_count": 311
         }
        },
        {
         "dtype": "float64",
         "name": "perimeter_0",
         "stats": {
          "histogram": [
           {
            "bin_end": 50.871,
            "bin_start": 43.79,
            "count": 4
           },
           {
            "bin_end": 57.952,
            "bin_start": 50.871,
            "count": 11
           },
           {
            "bin_end": 65.033,
            "bin_start": 57.952,
            "count": 37
           },
           {
            "bin_end": 72.114,
            "bin_start": 65.033,
            "count": 51
           },
           {
            "bin_end": 79.195,
            "bin_start": 72.114,
            "count": 94
           },
           {
            "bin_end": 86.27600000000001,
            "bin_start": 79.195,
            "count": 72
           },
           {
            "bin_end": 93.357,
            "bin_start": 86.27600000000001,
            "count": 49
           },
           {
            "bin_end": 100.438,
            "bin_start": 93.357,
            "count": 31
           },
           {
            "bin_end": 107.519,
            "bin_start": 100.438,
            "count": 6
           },
           {
            "bin_end": 114.6,
            "bin_start": 107.519,
            "count": 2
           }
          ],
          "max": "114.6",
          "min": "43.79",
          "nan_count": 0,
          "unique_count": 338
         }
        },
        {
         "dtype": "float64",
         "name": "area_0",
         "stats": {
          "histogram": [
           {
            "bin_end": 228.36,
            "bin_start": 143.5,
            "count": 11
           },
           {
            "bin_end": 313.22,
            "bin_start": 228.36,
            "count": 41
           },
           {
            "bin_end": 398.08,
            "bin_start": 313.22,
            "count": 61
           },
           {
            "bin_end": 482.94,
            "bin_start": 398.08,
            "count": 95
           },
           {
            "bin_end": 567.8,
            "bin_start": 482.94,
            "count": 73
           },
           {
            "bin_end": 652.66,
            "bin_start": 567.8,
            "count": 43
           },
           {
            "bin_end": 737.52,
            "bin_start": 652.66,
            "count": 25
           },
           {
            "bin_end": 822.38,
            "bin_start": 737.52,
            "count": 5
           },
           {
            "bin_end": 907.24,
            "bin_start": 822.38,
            "count": 2
           },
           {
            "bin_end": 992.1,
            "bin_start": 907.24,
            "count": 1
           }
          ],
          "max": "992.1",
          "min": "143.5",
          "nan_count": 0,
          "unique_count": 341
         }
        },
        {
         "dtype": "float64",
         "name": "smoothness_0",
         "stats": {
          "histogram": [
           {
            "bin_end": 0.063707,
            "bin_start": 0.052629999999999996,
            "count": 2
           },
           {
            "bin_end": 0.07478399999999999,
            "bin_start": 0.063707,
            "count": 25
           },
           {
            "bin_end": 0.08586099999999999,
            "bin_start": 0.07478399999999999,
            "count": 94
           },
           {
            "bin_end": 0.096938,
            "bin_start": 0.08586099999999999,
            "count": 109
           },
           {
            "bin_end": 0.108015,
            "bin_start": 0.096938,
            "count": 88
           },
           {
            "bin_end": 0.11909199999999999,
            "bin_start": 0.108015,
            "count": 28
           },
           {
            "bin_end": 0.13016899999999998,
            "bin_start": 0.11909199999999999,
            "count": 9
           },
           {
            "bin_end": 0.14124599999999998,
            "bin_start": 0.13016899999999998,
            "count": 1
           },
           {
            "bin_end": 0.152323,
            "bin_start": 0.14124599999999998,
            "count": 0
           },
           {
            "bin_end": 0.1634,
            "bin_start": 0.152323,
            "count": 1
           }
          ],
          "max": "0.1634",
          "min": "0.052629999999999996",
          "nan_count": 0,
          "unique_count": 326
         }
        },
        {
         "dtype": "float64",
         "name": "compactness_0",
         "stats": {
          "histogram": [
           {
            "bin_end": 0.039832,
            "bin_start": 0.01938,
            "count": 26
           },
           {
            "bin_end": 0.060284,
            "bin_start": 0.039832,
            "count": 88
           },
           {
            "bin_end": 0.080736,
            "bin_start": 0.060284,
            "count": 98
           },
           {
            "bin_end": 0.101188,
            "bin_start": 0.080736,
            "count": 60
           },
           {
            "bin_end": 0.12164,
            "bin_start": 0.101188,
            "count": 47
           },
           {
            "bin_end": 0.142092,
            "bin_start": 0.12164,
            "count": 21
           },
           {
            "bin_end": 0.162544,
            "bin_start": 0.142092,
            "count": 8
           },
           {
            "bin_end": 0.182996,
            "bin_start": 0.162544,
            "count": 4
           },
           {
            "bin_end": 0.203448,
            "bin_start": 0.182996,
            "count": 2
           },
           {
            "bin_end": 0.2239,
            "bin_start": 0.203448,
            "count": 3
           }
          ],
          "max": "0.2239",
          "min": "0.01938",
          "nan_count": 0,
          "unique_count": 345
         }
        },
        {
         "dtype": "float64",
         "name": "concavity_0",
         "stats": {
          "histogram": [
           {
            "bin_end": 0.04108,
            "bin_start": 0,
            "count": 203
           },
           {
            "bin_end": 0.08216,
            "bin_start": 0.04108,
            "count": 106
           },
           {
            "bin_end": 0.12323999999999999,
            "bin_start": 0.08216,
            "count": 36
           },
           {
            "bin_end": 0.16432,
            "bin_start": 0.12323999999999999,
            "count": 7
           },
           {
            "bin_end": 0.2054,
            "bin_start": 0.16432,
            "count": 1
           },
           {
            "bin_end": 0.24647999999999998,
            "bin_start": 0.2054,
            "count": 1
           },
           {
            "bin_end": 0.28756,
            "bin_start": 0.24647999999999998,
            "count": 0
           },
           {
            "bin_end": 0.32864,
            "bin_start": 0.28756,
            "count": 2
           },
           {
            "bin_end": 0.36972,
            "bin_start": 0.32864,
            "count": 0
           },
           {
            "bin_end": 0.4108,
            "bin_start": 0.36972,
            "count": 1
           }
          ],
          "max": "0.4108",
          "min": "0.0",
          "nan_count": 0,
          "unique_count": 336
         }
        },
        {
         "dtype": "float64",
         "name": "concave points_0",
         "stats": {
          "histogram": [
           {
            "bin_end": 0.008534,
            "bin_start": 0,
            "count": 44
           },
           {
            "bin_end": 0.017068,
            "bin_start": 0.008534,
            "count": 60
           },
           {
            "bin_end": 0.025602,
            "bin_start": 0.017068,
            "count": 95
           },
           {
            "bin_end": 0.034136,
            "bin_start": 0.025602,
            "count": 79
           },
           {
            "bin_end": 0.04267,
            "bin_start": 0.034136,
            "count": 27
           },
           {
            "bin_end": 0.051204,
            "bin_start": 0.04267,
            "count": 24
           },
           {
            "bin_end": 0.059738,
            "bin_start": 0.051204,
            "count": 13
           },
           {
            "bin_end": 0.068272,
            "bin_start": 0.059738,
            "count": 8
           },
           {
            "bin_end": 0.076806,
            "bin_start": 0.068272,
            "count": 4
           },
           {
            "bin_end": 0.08534,
            "bin_start": 0.076806,
            "count": 3
           }
          ],
          "max": "0.08534",
          "min": "0.0",
          "nan_count": 0,
          "unique_count": 337
         }
        },
        {
         "dtype": "float64",
         "name": "symmetry_0",
         "stats": {
          "histogram": [
           {
            "bin_end": 0.12283,
            "bin_start": 0.106,
            "count": 5
           },
           {
            "bin_end": 0.13966,
            "bin_start": 0.12283,
            "count": 19
           },
           {
            "bin_end": 0.15649000000000002,
            "bin_start": 0.13966,
            "count": 57
           },
           {
            "bin_end": 0.17332,
            "bin_start": 0.15649000000000002,
            "count": 109
           },
           {
            "bin_end": 0.19014999999999999,
            "bin_start": 0.17332,
            "count": 81
           },
           {
            "bin_end": 0.20698,
            "bin_start": 0.19014999999999999,
            "count": 57
           },
           {
            "bin_end": 0.22381,
            "bin_start": 0.20698,
            "count": 18
           },
           {
            "bin_end": 0.24064000000000002,
            "bin_start": 0.22381,
            "count": 5
           },
           {
            "bin_end": 0.25747000000000003,
            "bin_start": 0.24064000000000002,
            "count": 4
           },
           {
            "bin_end": 0.2743,
            "bin_start": 0.25747000000000003,
            "count": 2
           }
          ],
          "max": "0.2743",
          "min": "0.106",
          "nan_count": 0,
          "unique_count": 298
         }
        },
        {
         "dtype": "float64",
         "name": "fractal dimension_0",
         "stats": {
          "histogram": [
           {
            "bin_end": 0.05624,
            "bin_start": 0.05185,
            "count": 37
           },
           {
            "bin_end": 0.06063,
            "bin_start": 0.05624,
            "count": 113
           },
           {
            "bin_end": 0.06502,
            "bin_start": 0.06063,
            "count": 105
           },
           {
            "bin_end": 0.06941,
            "bin_start": 0.06502,
            "count": 58
           },
           {
            "bin_end": 0.0738,
            "bin_start": 0.06941,
            "count": 24
           },
           {
            "bin_end": 0.07819,
            "bin_start": 0.0738,
            "count": 9
           },
           {
            "bin_end": 0.08258,
            "bin_start": 0.07819,
            "count": 4
           },
           {
            "bin_end": 0.08696999999999999,
            "bin_start": 0.08258,
            "count": 2
           },
           {
            "bin_end": 0.09136,
            "bin_start": 0.08696999999999999,
            "count": 2
           },
           {
            "bin_end": 0.09575,
            "bin_start": 0.09136,
            "count": 3
           }
          ],
          "max": "0.09575",
          "min": "0.05185",
          "nan_count": 0,
          "unique_count": 326
         }
        },
        {
         "dtype": "float64",
         "name": "radius_1",
         "stats": {
          "histogram": [
           {
            "bin_end": 0.18846000000000002,
            "bin_start": 0.1115,
            "count": 67
           },
           {
            "bin_end": 0.26542,
            "bin_start": 0.18846000000000002,
            "count": 121
           },
           {
            "bin_end": 0.34238,
            "bin_start": 0.26542,
            "count": 81
           },
           {
            "bin_end": 0.41934,
            "bin_start": 0.34238,
            "count": 51
           },
           {
            "bin_end": 0.4963,
            "bin_start": 0.41934,
            "count": 17
           },
           {
            "bin_end": 0.57326,
            "bin_start": 0.4963,
            "count": 14
           },
           {
            "bin_end": 0.65022,
            "bin_start": 0.57326,
            "count": 2
           },
           {
            "bin_end": 0.72718,
            "bin_start": 0.65022,
            "count": 1
           },
           {
            "bin_end": 0.8041400000000001,
            "bin_start": 0.72718,
            "count": 1
           },
           {
            "bin_end": 0.8811,
            "bin_start": 0.8041400000000001,
            "count": 2
           }
          ],
          "max": "0.8811",
          "min": "0.1115",
          "nan_count": 0,
          "unique_count": 335
         }
        },
        {
         "dtype": "float64",
         "name": "texture_1",
         "stats": {
          "histogram": [
           {
            "bin_end": 0.8126800000000001,
            "bin_start": 0.3602,
            "count": 93
           },
           {
            "bin_end": 1.26516,
            "bin_start": 0.8126800000000001,
            "count": 124
           },
           {
            "bin_end": 1.71764,
            "bin_start": 1.26516,
            "count": 82
           },
           {
            "bin_end": 2.17012,
            "bin_start": 1.71764,
            "count": 35
           },
           {
            "bin_end": 2.6226,
            "bin_start": 2.17012,
            "count": 13
           },
           {
            "bin_end": 3.07508,
            "bin_start": 2.6226,
            "count": 7
           },
           {
            "bin_end": 3.52756,
            "bin_start": 3.07508,
            "count": 0
           },
           {
            "bin_end": 3.98004,
            "bin_start": 3.52756,
            "count": 2
           },
           {
            "bin_end": 4.432519999999999,
            "bin_start": 3.98004,
            "count": 0
           },
           {
            "bin_end": 4.885,
            "bin_start": 4.432519999999999,
            "count": 1
           }
          ],
          "max": "4.885",
          "min": "0.3602",
          "nan_count": 0,
          "unique_count": 341
         }
        },
        {
         "dtype": "float64",
         "name": "perimeter_1",
         "stats": {
          "histogram": [
           {
            "bin_end": 1.1931,
            "bin_start": 0.757,
            "count": 40
           },
           {
            "bin_end": 1.6292,
            "bin_start": 1.1931,
            "count": 98
           },
           {
            "bin_end": 2.0653,
            "bin_start": 1.6292,
            "count": 75
           },
           {
            "bin_end": 2.5014000000000003,
            "bin_start": 2.0653,
            "count": 67
           },
           {
            "bin_end": 2.9375000000000004,
            "bin_start": 2.5014000000000003,
            "count": 38
           },
           {
            "bin_end": 3.3736,
            "bin_start": 2.9375000000000004,
            "count": 19
           },
           {
            "bin_end": 3.8097000000000003,
            "bin_start": 3.3736,
            "count": 8
           },
           {
            "bin_end": 4.2458,
            "bin_start": 3.8097000000000003,
            "count": 6
           },
           {
            "bin_end": 4.681900000000001,
            "bin_start": 4.2458,
            "count": 3
           },
           {
            "bin_end": 5.118,
            "bin_start": 4.681900000000001,
            "count": 3
           }
          ],
          "max": "5.118",
          "min": "0.757",
          "nan_count": 0,
          "unique_count": 333
         }
        },
        {
         "dtype": "float64",
         "name": "area_1",
         "stats": {
          "histogram": [
           {
            "bin_end": 13.832799999999999,
            "bin_start": 6.8020000000000005,
            "count": 66
           },
           {
            "bin_end": 20.863599999999998,
            "bin_start": 13.832799999999999,
            "count": 144
           },
           {
            "bin_end": 27.894399999999997,
            "bin_start": 20.863599999999998,
            "count": 84
           },
           {
            "bin_end": 34.9252,
            "bin_start": 27.894399999999997,
            "count": 42
           },
           {
            "bin_end": 41.955999999999996,
            "bin_start": 34.9252,
            "count": 9
           },
           {
            "bin_end": 48.986799999999995,
            "bin_start": 41.955999999999996,
            "count": 7
           },
           {
            "bin_end": 56.017599999999995,
            "bin_start": 48.986799999999995,
            "count": 4
           },
           {
            "bin_end": 63.048399999999994,
            "bin_start": 56.017599999999995,
            "count": 0
           },
           {
            "bin_end": 70.0792,
            "bin_start": 63.048399999999994,
            "count": 0
           },
           {
            "bin_end": 77.11,
            "bin_start": 70.0792,
            "count": 1
           }
          ],
          "max": "77.11",
          "min": "6.8020000000000005",
          "nan_count": 0,
          "unique_count": 326
         }
        },
        {
         "dtype": "float64",
         "name": "smoothness_1",
         "stats": {
          "histogram": [
           {
            "bin_end": 0.0037187,
            "bin_start": 0.001713,
            "count": 22
           },
           {
            "bin_end": 0.0057244,
            "bin_start": 0.0037187,
            "count": 107
           },
           {
            "bin_end": 0.0077301,
            "bin_start": 0.0057244,
            "count": 114
           },
           {
            "bin_end": 0.0097358,
            "bin_start": 0.0077301,
            "count": 55
           },
           {
            "bin_end": 0.011741499999999998,
            "bin_start": 0.0097358,
            "count": 28
           },
           {
            "bin_end": 0.0137472,
            "bin_start": 0.011741499999999998,
            "count": 14
           },
           {
            "bin_end": 0.0157529,
            "bin_start": 0.0137472,
            "count": 10
           },
           {
            "bin_end": 0.0177586,
            "bin_start": 0.0157529,
            "count": 4
           },
           {
            "bin_end": 0.0197643,
            "bin_start": 0.0177586,
            "count": 1
           },
           {
            "bin_end": 0.021769999999999998,
            "bin_start": 0.0197643,
            "count": 2
           }
          ],
          "max": "0.021769999999999998",
          "min": "0.001713",
          "nan_count": 0,
          "unique_count": 341
         }
        },
        {
         "dtype": "float64",
         "name": "compactness_1",
         "stats": {
          "histogram": [
           {
            "bin_end": 0.012666799999999999,
            "bin_start": 0.002252,
            "count": 118
           },
           {
            "bin_end": 0.023081599999999997,
            "bin_start": 0.012666799999999999,
            "count": 134
           },
           {
            "bin_end": 0.033496399999999996,
            "bin_start": 0.023081599999999997,
            "count": 49
           },
           {
            "bin_end": 0.04391119999999999,
            "bin_start": 0.033496399999999996,
            "count": 24
           },
           {
            "bin_end": 0.05432599999999999,
            "bin_start": 0.04391119999999999,
            "count": 15
           },
           {
            "bin_end": 0.06474079999999999,
            "bin_start": 0.05432599999999999,
            "count": 4
           },
           {
            "bin_end": 0.07515559999999999,
            "bin_start": 0.06474079999999999,
            "count": 6
           },
           {
            "bin_end": 0.08557039999999999,
            "bin_start": 0.07515559999999999,
            "count": 2
           },
           {
            "bin_end": 0.09598519999999999,
            "bin_start": 0.08557039999999999,
            "count": 4
           },
           {
            "bin_end": 0.1064,
            "bin_start": 0.09598519999999999,
            "count": 1
           }
          ],
          "max": "0.1064",
          "min": "0.002252",
          "nan_count": 0,
          "unique_count": 341
         }
        },
        {
         "dtype": "float64",
         "name": "concavity_1",
         "stats": {
          "histogram": [
           {
            "bin_end": 0.0396,
            "bin_start": 0,
            "count": 294
           },
           {
            "bin_end": 0.0792,
            "bin_start": 0.0396,
            "count": 48
           },
           {
            "bin_end": 0.11880000000000002,
            "bin_start": 0.0792,
            "count": 10
           },
           {
            "bin_end": 0.1584,
            "bin_start": 0.11880000000000002,
            "count": 3
           },
           {
            "bin_end": 0.198,
            "bin_start": 0.1584,
            "count": 0
           },
           {
            "bin_end": 0.23760000000000003,
            "bin_start": 0.198,
            "count": 0
           },
           {
            "bin_end": 0.2772,
            "bin_start": 0.23760000000000003,
            "count": 0
           },
           {
            "bin_end": 0.3168,
            "bin_start": 0.2772,
            "count": 1
           },
           {
            "bin_end": 0.35640000000000005,
            "bin_start": 0.3168,
            "count": 0
           },
           {
            "bin_end": 0.396,
            "bin_start": 0.35640000000000005,
            "count": 1
           }
          ],
          "max": "0.396",
          "min": "0.0",
          "nan_count": 0,
          "unique_count": 335
         }
        },
        {
         "dtype": "float64",
         "name": "concave points_1",
         "stats": {
          "histogram": [
           {
            "bin_end": 0.005279,
            "bin_start": 0,
            "count": 50
           },
           {
            "bin_end": 0.010558,
            "bin_start": 0.005279,
            "count": 179
           },
           {
            "bin_end": 0.015837,
            "bin_start": 0.010558,
            "count": 92
           },
           {
            "bin_end": 0.021116,
            "bin_start": 0.015837,
            "count": 22
           },
           {
            "bin_end": 0.026395,
            "bin_start": 0.021116,
            "count": 7
           },
           {
            "bin_end": 0.031674,
            "bin_start": 0.026395,
            "count": 4
           },
           {
            "bin_end": 0.036953,
            "bin_start": 0.031674,
            "count": 2
           },
           {
            "bin_end": 0.042232,
            "bin_start": 0.036953,
            "count": 0
           },
           {
            "bin_end": 0.047511,
            "bin_start": 0.042232,
            "count": 0
           },
           {
            "bin_end": 0.05279,
            "bin_start": 0.047511,
            "count": 1
           }
          ],
          "max": "0.05279",
          "min": "0.0",
          "nan_count": 0,
          "unique_count": 327
         }
        },
        {
         "dtype": "float64",
         "name": "symmetry_1",
         "stats": {
          "histogram": [
           {
            "bin_end": 0.0147311,
            "bin_start": 0.009539,
            "count": 67
           },
           {
            "bin_end": 0.019923200000000002,
            "bin_start": 0.0147311,
            "count": 136
           },
           {
            "bin_end": 0.0251153,
            "bin_start": 0.019923200000000002,
            "count": 70
           },
           {
            "bin_end": 0.030307399999999998,
            "bin_start": 0.0251153,
            "count": 49
           },
           {
            "bin_end": 0.035499499999999996,
            "bin_start": 0.030307399999999998,
            "count": 24
           },
           {
            "bin_end": 0.0406916,
            "bin_start": 0.035499499999999996,
            "count": 5
           },
           {
            "bin_end": 0.0458837,
            "bin_start": 0.0406916,
            "count": 5
           },
           {
            "bin_end": 0.0510758,
            "bin_start": 0.0458837,
            "count": 0
           },
           {
            "bin_end": 0.056267899999999996,
            "bin_start": 0.0510758,
            "count": 0
           },
           {
            "bin_end": 0.06146,
            "bin_start": 0.056267899999999996,
            "count": 1
           }
          ],
          "max": "0.06146",
          "min": "0.009539",
          "nan_count": 0,
          "unique_count": 333
         }
        },
        {
         "dtype": "float64",
         "name": "fractal dimension_1",
         "stats": {
          "histogram": [
           {
            "bin_end": 0.0037893199999999997,
            "bin_start": 0.0008948000000000001,
            "count": 250
           },
           {
            "bin_end": 0.00668384,
            "bin_start": 0.0037893199999999997,
            "count": 74
           },
           {
            "bin_end": 0.00957836,
            "bin_start": 0.00668384,
            "count": 22
           },
           {
            "bin_end": 0.012472879999999999,
            "bin_start": 0.00957836,
            "count": 6
           },
           {
            "bin_end": 0.015367399999999998,
            "bin_start": 0.012472879999999999,
            "count": 1
           },
           {
            "bin_end": 0.01826192,
            "bin_start": 0.015367399999999998,
            "count": 1
           },
           {
            "bin_end": 0.02115644,
            "bin_start": 0.01826192,
            "count": 0
           },
           {
            "bin_end": 0.02405096,
            "bin_start": 0.02115644,
            "count": 2
           },
           {
            "bin_end": 0.02694548,
            "bin_start": 0.02405096,
            "count": 0
           },
           {
            "bin_end": 0.02984,
            "bin_start": 0.02694548,
            "count": 1
           }
          ],
          "max": "0.02984",
          "min": "0.0008948000000000001",
          "nan_count": 0,
          "unique_count": 348
         }
        },
        {
         "dtype": "float64",
         "name": "radius_2",
         "stats": {
          "histogram": [
           {
            "bin_end": 9.119,
            "bin_start": 7.93,
            "count": 6
           },
           {
            "bin_end": 10.308,
            "bin_start": 9.119,
            "count": 18
           },
           {
            "bin_end": 11.497,
            "bin_start": 10.308,
            "count": 42
           },
           {
            "bin_end": 12.686,
            "bin_start": 11.497,
            "count": 57
           },
           {
            "bin_end": 13.875,
            "bin_start": 12.686,
            "count": 95
           },
           {
            "bin_end": 15.064,
            "bin_start": 13.875,
            "count": 68
           },
           {
            "bin_end": 16.253,
            "bin_start": 15.064,
            "count": 43
           },
           {
            "bin_end": 17.442,
            "bin_start": 16.253,
            "count": 23
           },
           {
            "bin_end": 18.631,
            "bin_start": 17.442,
            "count": 4
           },
           {
            "bin_end": 19.82,
            "bin_start": 18.631,
            "count": 1
           }
          ],
          "max": "19.82",
          "min": "7.93",
          "nan_count": 0,
          "unique_count": 274
         }
        },
        {
         "dtype": "float64",
         "name": "texture_2",
         "stats": {
          "histogram": [
           {
            "bin_end": 14.995999999999999,
            "bin_start": 12.02,
            "count": 6
           },
           {
            "bin_end": 17.972,
            "bin_start": 14.995999999999999,
            "count": 51
           },
           {
            "bin_end": 20.948,
            "bin_start": 17.972,
            "count": 71
           },
           {
            "bin_end": 23.924,
            "bin_start": 20.948,
            "count": 79
           },
           {
            "bin_end": 26.9,
            "bin_start": 23.924,
            "count": 66
           },
           {
            "bin_end": 29.876,
            "bin_start": 26.9,
            "count": 40
           },
           {
            "bin_end": 32.852000000000004,
            "bin_start": 29.876,
            "count": 23
           },
           {
            "bin_end": 35.828,
            "bin_start": 32.852000000000004,
            "count": 9
           },
           {
            "bin_end": 38.804,
            "bin_start": 35.828,
            "count": 8
           },
           {
            "bin_end": 41.78,
            "bin_start": 38.804,
            "count": 4
           }
          ],
          "max": "41.78",
          "min": "12.02",
          "nan_count": 0,
          "unique_count": 336
         }
        },
        {
         "dtype": "float64",
         "name": "perimeter_2",
         "stats": {
          "histogram": [
           {
            "bin_end": 58.07899999999999,
            "bin_start": 50.41,
            "count": 5
           },
           {
            "bin_end": 65.74799999999999,
            "bin_start": 58.07899999999999,
            "count": 18
           },
           {
            "bin_end": 73.417,
            "bin_start": 65.74799999999999,
            "count": 40
           },
           {
            "bin_end": 81.086,
            "bin_start": 73.417,
            "count": 48
           },
           {
            "bin_end": 88.755,
            "bin_start": 81.086,
            "count": 92
           },
           {
            "bin_end": 96.42399999999999,
            "bin_start": 88.755,
            "count": 63
           },
           {
            "bin_end": 104.09299999999999,
            "bin_start": 96.42399999999999,
            "count": 53
           },
           {
            "bin_end": 111.762,
            "bin_start": 104.09299999999999,
            "count": 23
           },
           {
            "bin_end": 119.431,
            "bin_start": 111.762,
            "count": 13
           },
           {
            "bin_end": 127.1,
            "bin_start": 119.431,
            "count": 2
           }
          ],
          "max": "127.1",
          "min": "50.41",
          "nan_count": 0,
          "unique_count": 338
         }
        },
        {
         "dtype": "float64",
         "name": "area_2",
         "stats": {
          "histogram": [
           {
            "bin_end": 287.67999999999995,
            "bin_start": 185.2,
            "count": 15
           },
           {
            "bin_end": 390.15999999999997,
            "bin_start": 287.67999999999995,
            "count": 44
           },
           {
            "bin_end": 492.63999999999993,
            "bin_start": 390.15999999999997,
            "count": 66
           },
           {
            "bin_end": 595.1199999999999,
            "bin_start": 492.63999999999993,
            "count": 94
           },
           {
            "bin_end": 697.5999999999999,
            "bin_start": 595.1199999999999,
            "count": 66
           },
           {
            "bin_end": 800.0799999999999,
            "bin_start": 697.5999999999999,
            "count": 39
           },
           {
            "bin_end": 902.56,
            "bin_start": 800.0799999999999,
            "count": 25
           },
           {
            "bin_end": 1005.04,
            "bin_start": 902.56,
            "count": 5
           },
           {
            "bin_end": 1107.52,
            "bin_start": 1005.04,
            "count": 2
           },
           {
            "bin_end": 1210,
            "bin_start": 1107.52,
            "count": 1
           }
          ],
          "max": "1210.0",
          "min": "185.2",
          "nan_count": 0,
          "unique_count": 343
         }
        },
        {
         "dtype": "float64",
         "name": "smoothness_2",
         "stats": {
          "histogram": [
           {
            "bin_end": 0.08411300000000001,
            "bin_start": 0.07117000000000001,
            "count": 3
           },
           {
            "bin_end": 0.097056,
            "bin_start": 0.08411300000000001,
            "count": 26
           },
           {
            "bin_end": 0.10999900000000001,
            "bin_start": 0.097056,
            "count": 57
           },
           {
            "bin_end": 0.12294200000000001,
            "bin_start": 0.10999900000000001,
            "count": 82
           },
           {
            "bin_end": 0.135885,
            "bin_start": 0.12294200000000001,
            "count": 91
           },
           {
            "bin_end": 0.14882800000000002,
            "bin_start": 0.135885,
            "count": 61
           },
           {
            "bin_end": 0.161771,
            "bin_start": 0.14882800000000002,
            "count": 23
           },
           {
            "bin_end": 0.174714,
            "bin_start": 0.161771,
            "count": 9
           },
           {
            "bin_end": 0.18765700000000002,
            "bin_start": 0.174714,
            "count": 3
           },
           {
            "bin_end": 0.2006,
            "bin_start": 0.18765700000000002,
            "count": 2
           }
          ],
          "max": "0.2006",
          "min": "0.07117000000000001",
          "nan_count": 0,
          "unique_count": 278
         }
        },
        {
         "dtype": "float64",
         "name": "compactness_2",
         "stats": {
          "histogram": [
           {
            "bin_end": 0.08305099999999999,
            "bin_start": 0.02729,
            "count": 41
           },
           {
            "bin_end": 0.138812,
            "bin_start": 0.08305099999999999,
            "count": 86
           },
           {
            "bin_end": 0.19457299999999997,
            "bin_start": 0.138812,
            "count": 97
           },
           {
            "bin_end": 0.25033399999999995,
            "bin_start": 0.19457299999999997,
            "count": 61
           },
           {
            "bin_end": 0.30609499999999995,
            "bin_start": 0.25033399999999995,
            "count": 36
           },
           {
            "bin_end": 0.3618559999999999,
            "bin_start": 0.30609499999999995,
            "count": 18
           },
           {
            "bin_end": 0.4176169999999999,
            "bin_start": 0.3618559999999999,
            "count": 9
           },
           {
            "bin_end": 0.4733779999999999,
            "bin_start": 0.4176169999999999,
            "count": 5
           },
           {
            "bin_end": 0.5291389999999999,
            "bin_start": 0.4733779999999999,
            "count": 2
           },
           {
            "bin_end": 0.5849,
            "bin_start": 0.5291389999999999,
            "count": 2
           }
          ],
          "max": "0.5849",
          "min": "0.02729",
          "nan_count": 0,
          "unique_count": 334
         }
        },
        {
         "dtype": "float64",
         "name": "concavity_2",
         "stats": {
          "histogram": [
           {
            "bin_end": 0.1252,
            "bin_start": 0,
            "count": 154
           },
           {
            "bin_end": 0.2504,
            "bin_start": 0.1252,
            "count": 134
           },
           {
            "bin_end": 0.37560000000000004,
            "bin_start": 0.2504,
            "count": 51
           },
           {
            "bin_end": 0.5008,
            "bin_start": 0.37560000000000004,
            "count": 10
           },
           {
            "bin_end": 0.626,
            "bin_start": 0.5008,
            "count": 2
           },
           {
            "bin_end": 0.7512000000000001,
            "bin_start": 0.626,
            "count": 3
           },
           {
            "bin_end": 0.8764000000000001,
            "bin_start": 0.7512000000000001,
            "count": 2
           },
           {
            "bin_end": 1.0016,
            "bin_start": 0.8764000000000001,
            "count": 0
           },
           {
            "bin_end": 1.1268,
            "bin_start": 1.0016,
            "count": 0
           },
           {
            "bin_end": 1.252,
            "bin_start": 1.1268,
            "count": 1
           }
          ],
          "max": "1.252",
          "min": "0.0",
          "nan_count": 0,
          "unique_count": 337
         }
        },
        {
         "dtype": "float64",
         "name": "concave points_2",
         "stats": {
          "histogram": [
           {
            "bin_end": 0.017499999999999998,
            "bin_start": 0,
            "count": 21
           },
           {
            "bin_end": 0.034999999999999996,
            "bin_start": 0.017499999999999998,
            "count": 29
           },
           {
            "bin_end": 0.05249999999999999,
            "bin_start": 0.034999999999999996,
            "count": 42
           },
           {
            "bin_end": 0.06999999999999999,
            "bin_start": 0.05249999999999999,
            "count": 74
           },
           {
            "bin_end": 0.0875,
            "bin_start": 0.06999999999999999,
            "count": 74
           },
           {
            "bin_end": 0.10499999999999998,
            "bin_start": 0.0875,
            "count": 49
           },
           {
            "bin_end": 0.12249999999999998,
            "bin_start": 0.10499999999999998,
            "count": 34
           },
           {
            "bin_end": 0.13999999999999999,
            "bin_start": 0.12249999999999998,
            "count": 17
           },
           {
            "bin_end": 0.15749999999999997,
            "bin_start": 0.13999999999999999,
            "count": 14
           },
           {
            "bin_end": 0.175,
            "bin_start": 0.15749999999999997,
            "count": 3
           }
          ],
          "max": "0.175",
          "min": "0.0",
          "nan_count": 0,
          "unique_count": 303
         }
        },
        {
         "dtype": "float64",
         "name": "symmetry_2",
         "stats": {
          "histogram": [
           {
            "bin_end": 0.18322,
            "bin_start": 0.1566,
            "count": 6
           },
           {
            "bin_end": 0.20983999999999997,
            "bin_start": 0.18322,
            "count": 13
           },
           {
            "bin_end": 0.23645999999999998,
            "bin_start": 0.20983999999999997,
            "count": 56
           },
           {
            "bin_end": 0.26308,
            "bin_start": 0.23645999999999998,
            "count": 85
           },
           {
            "bin_end": 0.28969999999999996,
            "bin_start": 0.26308,
            "count": 87
           },
           {
            "bin_end": 0.31631999999999993,
            "bin_start": 0.28969999999999996,
            "count": 60
           },
           {
            "bin_end": 0.34293999999999997,
            "bin_start": 0.31631999999999993,
            "count": 36
           },
           {
            "bin_end": 0.36956,
            "bin_start": 0.34293999999999997,
            "count": 11
           },
           {
            "bin_end": 0.39618,
            "bin_start": 0.36956,
            "count": 1
           },
           {
            "bin_end": 0.4228,
            "bin_start": 0.39618,
            "count": 2
           }
          ],
          "max": "0.4228",
          "min": "0.1566",
          "nan_count": 0,
          "unique_count": 324
         }
        },
        {
         "dtype": "float64",
         "name": "fractal dimension_2",
         "stats": {
          "histogram": [
           {
            "bin_end": 0.064549,
            "bin_start": 0.05521,
            "count": 31
           },
           {
            "bin_end": 0.07388800000000001,
            "bin_start": 0.064549,
            "count": 108
           },
           {
            "bin_end": 0.083227,
            "bin_start": 0.07388800000000001,
            "count": 115
           },
           {
            "bin_end": 0.09256600000000001,
            "bin_start": 0.083227,
            "count": 56
           },
           {
            "bin_end": 0.101905,
            "bin_start": 0.09256600000000001,
            "count": 23
           },
           {
            "bin_end": 0.11124400000000001,
            "bin_start": 0.101905,
            "count": 12
           },
           {
            "bin_end": 0.120583,
            "bin_start": 0.11124400000000001,
            "count": 6
           },
           {
            "bin_end": 0.129922,
            "bin_start": 0.120583,
            "count": 4
           },
           {
            "bin_end": 0.139261,
            "bin_start": 0.129922,
            "count": 1
           },
           {
            "bin_end": 0.1486,
            "bin_start": 0.139261,
            "count": 1
           }
          ],
          "max": "0.1486",
          "min": "0.05521",
          "nan_count": 0,
          "unique_count": 347
         }
        },
        {
         "dtype": "int64",
         "name": "_deepnote_index_column"
        }
       ],
       "row_count": 357,
       "rows": [
        {
         "_deepnote_index_column": "19",
         "area_0": "566.3",
         "area_1": "23.56",
         "area_2": "711.2",
         "compactness_0": "0.08129",
         "compactness_1": "0.0146",
         "compactness_2": "0.1773",
         "concave points_0": "0.047810000000000005",
         "concave points_1": "0.01315",
         "concave points_2": "0.1288",
         "concavity_0": "0.06663999999999999",
         "concavity_1": "0.02387",
         "concavity_2": "0.239",
         "fractal dimension_0": "0.05766",
         "fractal dimension_1": "0.0023",
         "fractal dimension_2": "0.07259",
         "malignant": "0",
         "perimeter_0": "87.46",
         "perimeter_1": "2.0580000000000003",
         "perimeter_2": "99.7",
         "radius_0": "13.54",
         "radius_1": "0.2699",
         "radius_2": "15.11",
         "smoothness_0": "0.09779",
         "smoothness_1": "0.008462",
         "smoothness_2": "0.14400000000000002",
         "symmetry_0": "0.1885",
         "symmetry_1": "0.0198",
         "symmetry_2": "0.2977",
         "texture_0": "14.36",
         "texture_1": "0.7886",
         "texture_2": "19.26"
        },
        {
         "_deepnote_index_column": "20",
         "area_0": "520.0",
         "area_1": "14.67",
         "area_2": "630.5",
         "compactness_0": "0.127",
         "compactness_1": "0.01898",
         "compactness_2": "0.2776",
         "concave points_0": "0.0311",
         "concave points_1": "0.006490000000000001",
         "concave points_2": "0.07282999999999999",
         "concavity_0": "0.04568",
         "concavity_1": "0.016980000000000002",
         "concavity_2": "0.18899999999999997",
         "fractal dimension_0": "0.06811",
         "fractal dimension_1": "0.002425",
         "fractal dimension_2": "0.08183",
         "malignant": "0",
         "perimeter_0": "85.63",
         "perimeter_1": "1.383",
         "perimeter_2": "96.09",
         "radius_0": "13.08",
         "radius_1": "0.1852",
         "radius_2": "14.5",
         "smoothness_0": "0.1075",
         "smoothness_1": "0.004097",
         "smoothness_2": "0.1312",
         "symmetry_0": "0.1967",
         "symmetry_1": "0.01678",
         "symmetry_2": "0.3184",
         "texture_0": "15.71",
         "texture_1": "0.7477",
         "texture_2": "20.49"
        },
        {
         "_deepnote_index_column": "21",
         "area_0": "273.9",
         "area_1": "15.7",
         "area_2": "314.9",
         "compactness_0": "0.06492",
         "compactness_1": "0.01432",
         "compactness_2": "0.1148",
         "concave points_0": "0.02076",
         "concave points_1": "0.014209999999999999",
         "concave points_2": "0.062270000000000006",
         "concavity_0": "0.029560000000000003",
         "concavity_1": "0.01985",
         "concavity_2": "0.08867",
         "fractal dimension_0": "0.06905",
         "fractal dimension_1": "0.002968",
         "fractal dimension_2": "0.07773",
         "malignant": "0",
         "perimeter_0": "60.34",
         "perimeter_1": "1.909",
         "perimeter_2": "65.13",
         "radius_0": "9.504",
         "radius_1": "0.2773",
         "radius_2": "10.23",
         "smoothness_0": "0.1024",
         "smoothness_1": "0.009606",
         "smoothness_2": "0.1324",
         "symmetry_0": "0.1815",
         "symmetry_1": "0.02027",
         "symmetry_2": "0.245",
         "texture_0": "12.44",
         "texture_1": "0.9768",
         "texture_2": "15.66"
        },
        {
         "_deepnote_index_column": "37",
         "area_0": "523.8",
         "area_1": "14.16",
         "area_2": "545.9",
         "compactness_0": "0.03766",
         "compactness_1": "0.004899000000000001",
         "compactness_2": "0.046189999999999995",
         "concave points_0": "0.029230000000000003",
         "concave points_1": "0.011640000000000001",
         "concave points_2": "0.05013",
         "concavity_0": "0.02562",
         "concavity_1": "0.013430000000000001",
         "concavity_2": "0.04833",
         "fractal dimension_0": "0.058629999999999995",
         "fractal dimension_1": "0.001777",
         "fractal dimension_2": "0.061689999999999995",
         "malignant": "0",
         "perimeter_0": "82.61",
         "perimeter_1": "1.17",
         "perimeter_2": "84.46",
         "radius_0": "13.03",
         "radius_1": "0.1839",
         "radius_2": "13.3",
         "smoothness_0": "0.08983",
         "smoothness_1": "0.004352",
         "smoothness_2": "0.09701",
         "symmetry_0": "0.1467",
         "symmetry_1": "0.02671",
         "symmetry_2": "0.1987",
         "texture_0": "18.42",
         "texture_1": "2.342",
         "texture_2": "22.81"
        },
        {
         "_deepnote_index_column": "46",
         "area_0": "201.9",
         "area_1": "8.205",
         "area_2": "242.2",
         "compactness_0": "0.05943",
         "compactness_1": "0.01646",
         "compactness_2": "0.1357",
         "concave points_0": "0.005917",
         "concave points_1": "0.005917",
         "concave points_2": "0.025639999999999996",
         "concavity_0": "0.015880000000000002",
         "concavity_1": "0.015880000000000002",
         "concavity_2": "0.0688",
         "fractal dimension_0": "0.06502999999999999",
         "fractal dimension_1": "0.002582",
         "fractal dimension_2": "0.07409",
         "malignant": "0",
         "perimeter_0": "51.71",
         "perimeter_1": "1.094",
         "perimeter_2": "57.26",
         "radius_0": "8.196",
         "radius_1": "0.1563",
         "radius_2": "8.964",
         "smoothness_0": "0.086",
         "smoothness_1": "0.008968",
         "smoothness_2": "0.1297",
         "symmetry_0": "0.1769",
         "symmetry_1": "0.02574",
         "symmetry_2": "0.3105",
         "texture_0": "16.84",
         "texture_1": "0.9567",
         "texture_2": "21.96"
        },
        {
         "_deepnote_index_column": "48",
         "area_0": "449.3",
         "area_1": "19.87",
         "area_2": "582.6",
         "compactness_0": "0.09092",
         "compactness_1": "0.01427",
         "compactness_2": "0.2156",
         "concave points_0": "0.027489999999999997",
         "concave points_1": "0.00566",
         "concave points_2": "0.06548",
         "concavity_0": "0.06592",
         "concavity_1": "0.023219999999999998",
         "concavity_2": "0.305",
         "fractal dimension_0": "0.06043",
         "fractal dimension_1": "0.0024219999999999997",
         "fractal dimension_2": "0.08301",
         "malignant": "0",
         "perimeter_0": "78.04",
         "perimeter_1": "1.848",
         "perimeter_2": "89.88",
         "radius_0": "12.05",
         "radius_1": "0.2636",
         "radius_2": "13.76",
         "smoothness_0": "0.1031",
         "smoothness_1": "0.005488",
         "smoothness_2": "0.1494",
         "symmetry_0": "0.1675",
         "symmetry_1": "0.014280000000000001",
         "symmetry_2": "0.2747",
         "texture_0": "14.63",
         "texture_1": "0.7294",
         "texture_2": "20.7"
        },
        {
         "_deepnote_index_column": "49",
         "area_0": "561.0",
         "area_1": "20.2",
         "area_2": "698.8",
         "compactness_0": "0.07697999999999999",
         "compactness_1": "0.013819999999999999",
         "compactness_2": "0.1711",
         "concave points_0": "0.033839999999999995",
         "concave points_1": "0.01184",
         "concave points_2": "0.1282",
         "concavity_0": "0.047510000000000004",
         "concavity_1": "0.02095",
         "concavity_2": "0.2282",
         "fractal dimension_0": "0.057179999999999995",
         "fractal dimension_1": "0.001956",
         "fractal dimension_2": "0.06917000000000001",
         "malignant": "0",
         "perimeter_0": "86.91",
         "perimeter_1": "1.735",
         "perimeter_2": "99.0",
         "radius_0": "13.49",
         "radius_1": "0.2338",
         "radius_2": "15.15",
         "smoothness_0": "0.08752",
         "smoothness_1": "0.004455",
         "smoothness_2": "0.1162",
         "symmetry_0": "0.1809",
         "symmetry_1": "0.01641",
         "symmetry_2": "0.2871",
         "texture_0": "22.3",
         "texture_1": "1.3530000000000002",
         "texture_2": "31.82"
        },
        {
         "_deepnote_index_column": "50",
         "area_0": "427.9",
         "area_1": "28.47",
         "area_2": "516.5",
         "compactness_0": "0.04966",
         "compactness_1": "0.009758",
         "compactness_2": "0.08615",
         "concave points_0": "0.01115",
         "concave points_1": "0.007445",
         "concave points_2": "0.03715",
         "concavity_0": "0.016569999999999998",
         "concavity_1": "0.01168",
         "concavity_2": "0.055229999999999994",
         "fractal dimension_0": "0.058879999999999995",
         "fractal dimension_1": "0.0017690000000000002",
         "fractal dimension_2": "0.06563",
         "malignant": "0",
         "perimeter_0": "74.72",
         "perimeter_1": "2.635",
         "perimeter_2": "82.98",
         "radius_0": "11.76",
         "radius_1": "0.4062",
         "radius_2": "12.98",
         "smoothness_0": "0.08637",
         "smoothness_1": "0.005857",
         "smoothness_2": "0.1085",
         "symmetry_0": "0.1495",
         "symmetry_1": "0.024059999999999998",
         "symmetry_2": "0.2433",
         "texture_0": "21.6",
         "texture_1": "1.21",
         "texture_2": "25.72"
        },
        {
         "_deepnote_index_column": "51",
         "area_0": "571.8",
         "area_1": "14.55",
         "area_2": "656.7",
         "compactness_0": "0.06059",
         "compactness_1": "0.011770000000000001",
         "compactness_2": "0.1582",
         "concave points_0": "0.017230000000000002",
         "concave points_1": "0.007956",
         "concave points_2": "0.08586",
         "concavity_0": "0.01857",
         "concavity_1": "0.010790000000000001",
         "concavity_2": "0.105",
         "fractal dimension_0": "0.05952999999999999",
         "fractal dimension_1": "0.0025510000000000003",
         "fractal dimension_2": "0.08025",
         "malignant": "0",
         "perimeter_0": "87.21",
         "perimeter_1": "1.449",
         "perimeter_2": "96.08",
         "radius_0": "13.64",
         "radius_1": "0.1872",
         "radius_2": "14.67",
         "smoothness_0": "0.07685",
         "smoothness_1": "0.004477",
         "smoothness_2": "0.1089",
         "symmetry_0": "0.1353",
         "symmetry_1": "0.01325",
         "symmetry_2": "0.2346",
         "texture_0": "16.34",
         "texture_1": "0.9234",
         "texture_2": "23.19"
        },
        {
         "_deepnote_index_column": "52",
         "area_0": "437.6",
         "area_1": "17.47",
         "area_2": "527.2",
         "compactness_0": "0.047510000000000004",
         "compactness_1": "0.00838",
         "compactness_2": "0.08906",
         "concave points_0": "0.01349",
         "concave points_1": "0.008",
         "concave points_2": "0.06296",
         "concavity_0": "0.019719999999999998",
         "concavity_1": "0.01311",
         "concavity_2": "0.09203",
         "fractal dimension_0": "0.0611",
         "fractal dimension_1": "0.002635",
         "fractal dimension_2": "0.07408",
         "malignant": "0",
         "perimeter_0": "75.71",
         "perimeter_1": "1.52",
         "perimeter_2": "83.67",
         "radius_0": "11.94",
         "radius_1": "0.2273",
         "radius_2": "13.1",
         "smoothness_0": "0.08261",
         "smoothness_1": "0.007209999999999999",
         "smoothness_2": "0.1144",
         "symmetry_0": "0.1868",
         "symmetry_1": "0.01996",
         "symmetry_2": "0.2785",
         "texture_0": "18.24",
         "texture_1": "0.6329",
         "texture_2": "21.33"
        }
       ]
      },
      "text/html": [
       "<div>\n",
       "<style scoped>\n",
       "    .dataframe tbody tr th:only-of-type {\n",
       "        vertical-align: middle;\n",
       "    }\n",
       "\n",
       "    .dataframe tbody tr th {\n",
       "        vertical-align: top;\n",
       "    }\n",
       "\n",
       "    .dataframe thead th {\n",
       "        text-align: right;\n",
       "    }\n",
       "</style>\n",
       "<table border=\"1\" class=\"dataframe\">\n",
       "  <thead>\n",
       "    <tr style=\"text-align: right;\">\n",
       "      <th></th>\n",
       "      <th>malignant</th>\n",
       "      <th>radius_0</th>\n",
       "      <th>texture_0</th>\n",
       "      <th>perimeter_0</th>\n",
       "      <th>area_0</th>\n",
       "      <th>smoothness_0</th>\n",
       "      <th>compactness_0</th>\n",
       "      <th>concavity_0</th>\n",
       "      <th>concave points_0</th>\n",
       "      <th>symmetry_0</th>\n",
       "      <th>...</th>\n",
       "      <th>radius_2</th>\n",
       "      <th>texture_2</th>\n",
       "      <th>perimeter_2</th>\n",
       "      <th>area_2</th>\n",
       "      <th>smoothness_2</th>\n",
       "      <th>compactness_2</th>\n",
       "      <th>concavity_2</th>\n",
       "      <th>concave points_2</th>\n",
       "      <th>symmetry_2</th>\n",
       "      <th>fractal dimension_2</th>\n",
       "    </tr>\n",
       "  </thead>\n",
       "  <tbody>\n",
       "    <tr>\n",
       "      <th>0</th>\n",
       "      <td>1</td>\n",
       "      <td>17.99</td>\n",
       "      <td>10.38</td>\n",
       "      <td>122.80</td>\n",
       "      <td>1001.0</td>\n",
       "      <td>0.11840</td>\n",
       "      <td>0.27760</td>\n",
       "      <td>0.30010</td>\n",
       "      <td>0.14710</td>\n",
       "      <td>0.2419</td>\n",
       "      <td>...</td>\n",
       "      <td>25.380</td>\n",
       "      <td>17.33</td>\n",
       "      <td>184.60</td>\n",
       "      <td>2019.0</td>\n",
       "      <td>0.16220</td>\n",
       "      <td>0.66560</td>\n",
       "      <td>0.7119</td>\n",
       "      <td>0.2654</td>\n",
       "      <td>0.4601</td>\n",
       "      <td>0.11890</td>\n",
       "    </tr>\n",
       "    <tr>\n",
       "      <th>1</th>\n",
       "      <td>1</td>\n",
       "      <td>20.57</td>\n",
       "      <td>17.77</td>\n",
       "      <td>132.90</td>\n",
       "      <td>1326.0</td>\n",
       "      <td>0.08474</td>\n",
       "      <td>0.07864</td>\n",
       "      <td>0.08690</td>\n",
       "      <td>0.07017</td>\n",
       "      <td>0.1812</td>\n",
       "      <td>...</td>\n",
       "      <td>24.990</td>\n",
       "      <td>23.41</td>\n",
       "      <td>158.80</td>\n",
       "      <td>1956.0</td>\n",
       "      <td>0.12380</td>\n",
       "      <td>0.18660</td>\n",
       "      <td>0.2416</td>\n",
       "      <td>0.1860</td>\n",
       "      <td>0.2750</td>\n",
       "      <td>0.08902</td>\n",
       "    </tr>\n",
       "    <tr>\n",
       "      <th>2</th>\n",
       "      <td>1</td>\n",
       "      <td>19.69</td>\n",
       "      <td>21.25</td>\n",
       "      <td>130.00</td>\n",
       "      <td>1203.0</td>\n",
       "      <td>0.10960</td>\n",
       "      <td>0.15990</td>\n",
       "      <td>0.19740</td>\n",
       "      <td>0.12790</td>\n",
       "      <td>0.2069</td>\n",
       "      <td>...</td>\n",
       "      <td>23.570</td>\n",
       "      <td>25.53</td>\n",
       "      <td>152.50</td>\n",
       "      <td>1709.0</td>\n",
       "      <td>0.14440</td>\n",
       "      <td>0.42450</td>\n",
       "      <td>0.4504</td>\n",
       "      <td>0.2430</td>\n",
       "      <td>0.3613</td>\n",
       "      <td>0.08758</td>\n",
       "    </tr>\n",
       "    <tr>\n",
       "      <th>3</th>\n",
       "      <td>1</td>\n",
       "      <td>11.42</td>\n",
       "      <td>20.38</td>\n",
       "      <td>77.58</td>\n",
       "      <td>386.1</td>\n",
       "      <td>0.14250</td>\n",
       "      <td>0.28390</td>\n",
       "      <td>0.24140</td>\n",
       "      <td>0.10520</td>\n",
       "      <td>0.2597</td>\n",
       "      <td>...</td>\n",
       "      <td>14.910</td>\n",
       "      <td>26.50</td>\n",
       "      <td>98.87</td>\n",
       "      <td>567.7</td>\n",
       "      <td>0.20980</td>\n",
       "      <td>0.86630</td>\n",
       "      <td>0.6869</td>\n",
       "      <td>0.2575</td>\n",
       "      <td>0.6638</td>\n",
       "      <td>0.17300</td>\n",
       "    </tr>\n",
       "    <tr>\n",
       "      <th>4</th>\n",
       "      <td>1</td>\n",
       "      <td>20.29</td>\n",
       "      <td>14.34</td>\n",
       "      <td>135.10</td>\n",
       "      <td>1297.0</td>\n",
       "      <td>0.10030</td>\n",
       "      <td>0.13280</td>\n",
       "      <td>0.19800</td>\n",
       "      <td>0.10430</td>\n",
       "      <td>0.1809</td>\n",
       "      <td>...</td>\n",
       "      <td>22.540</td>\n",
       "      <td>16.67</td>\n",
       "      <td>152.20</td>\n",
       "      <td>1575.0</td>\n",
       "      <td>0.13740</td>\n",
       "      <td>0.20500</td>\n",
       "      <td>0.4000</td>\n",
       "      <td>0.1625</td>\n",
       "      <td>0.2364</td>\n",
       "      <td>0.07678</td>\n",
       "    </tr>\n",
       "    <tr>\n",
       "      <th>...</th>\n",
       "      <td>...</td>\n",
       "      <td>...</td>\n",
       "      <td>...</td>\n",
       "      <td>...</td>\n",
       "      <td>...</td>\n",
       "      <td>...</td>\n",
       "      <td>...</td>\n",
       "      <td>...</td>\n",
       "      <td>...</td>\n",
       "      <td>...</td>\n",
       "      <td>...</td>\n",
       "      <td>...</td>\n",
       "      <td>...</td>\n",
       "      <td>...</td>\n",
       "      <td>...</td>\n",
       "      <td>...</td>\n",
       "      <td>...</td>\n",
       "      <td>...</td>\n",
       "      <td>...</td>\n",
       "      <td>...</td>\n",
       "      <td>...</td>\n",
       "    </tr>\n",
       "    <tr>\n",
       "      <th>564</th>\n",
       "      <td>1</td>\n",
       "      <td>21.56</td>\n",
       "      <td>22.39</td>\n",
       "      <td>142.00</td>\n",
       "      <td>1479.0</td>\n",
       "      <td>0.11100</td>\n",
       "      <td>0.11590</td>\n",
       "      <td>0.24390</td>\n",
       "      <td>0.13890</td>\n",
       "      <td>0.1726</td>\n",
       "      <td>...</td>\n",
       "      <td>25.450</td>\n",
       "      <td>26.40</td>\n",
       "      <td>166.10</td>\n",
       "      <td>2027.0</td>\n",
       "      <td>0.14100</td>\n",
       "      <td>0.21130</td>\n",
       "      <td>0.4107</td>\n",
       "      <td>0.2216</td>\n",
       "      <td>0.2060</td>\n",
       "      <td>0.07115</td>\n",
       "    </tr>\n",
       "    <tr>\n",
       "      <th>565</th>\n",
       "      <td>1</td>\n",
       "      <td>20.13</td>\n",
       "      <td>28.25</td>\n",
       "      <td>131.20</td>\n",
       "      <td>1261.0</td>\n",
       "      <td>0.09780</td>\n",
       "      <td>0.10340</td>\n",
       "      <td>0.14400</td>\n",
       "      <td>0.09791</td>\n",
       "      <td>0.1752</td>\n",
       "      <td>...</td>\n",
       "      <td>23.690</td>\n",
       "      <td>38.25</td>\n",
       "      <td>155.00</td>\n",
       "      <td>1731.0</td>\n",
       "      <td>0.11660</td>\n",
       "      <td>0.19220</td>\n",
       "      <td>0.3215</td>\n",
       "      <td>0.1628</td>\n",
       "      <td>0.2572</td>\n",
       "      <td>0.06637</td>\n",
       "    </tr>\n",
       "    <tr>\n",
       "      <th>566</th>\n",
       "      <td>1</td>\n",
       "      <td>16.60</td>\n",
       "      <td>28.08</td>\n",
       "      <td>108.30</td>\n",
       "      <td>858.1</td>\n",
       "      <td>0.08455</td>\n",
       "      <td>0.10230</td>\n",
       "      <td>0.09251</td>\n",
       "      <td>0.05302</td>\n",
       "      <td>0.1590</td>\n",
       "      <td>...</td>\n",
       "      <td>18.980</td>\n",
       "      <td>34.12</td>\n",
       "      <td>126.70</td>\n",
       "      <td>1124.0</td>\n",
       "      <td>0.11390</td>\n",
       "      <td>0.30940</td>\n",
       "      <td>0.3403</td>\n",
       "      <td>0.1418</td>\n",
       "      <td>0.2218</td>\n",
       "      <td>0.07820</td>\n",
       "    </tr>\n",
       "    <tr>\n",
       "      <th>567</th>\n",
       "      <td>1</td>\n",
       "      <td>20.60</td>\n",
       "      <td>29.33</td>\n",
       "      <td>140.10</td>\n",
       "      <td>1265.0</td>\n",
       "      <td>0.11780</td>\n",
       "      <td>0.27700</td>\n",
       "      <td>0.35140</td>\n",
       "      <td>0.15200</td>\n",
       "      <td>0.2397</td>\n",
       "      <td>...</td>\n",
       "      <td>25.740</td>\n",
       "      <td>39.42</td>\n",
       "      <td>184.60</td>\n",
       "      <td>1821.0</td>\n",
       "      <td>0.16500</td>\n",
       "      <td>0.86810</td>\n",
       "      <td>0.9387</td>\n",
       "      <td>0.2650</td>\n",
       "      <td>0.4087</td>\n",
       "      <td>0.12400</td>\n",
       "    </tr>\n",
       "    <tr>\n",
       "      <th>568</th>\n",
       "      <td>0</td>\n",
       "      <td>7.76</td>\n",
       "      <td>24.54</td>\n",
       "      <td>47.92</td>\n",
       "      <td>181.0</td>\n",
       "      <td>0.05263</td>\n",
       "      <td>0.04362</td>\n",
       "      <td>0.00000</td>\n",
       "      <td>0.00000</td>\n",
       "      <td>0.1587</td>\n",
       "      <td>...</td>\n",
       "      <td>9.456</td>\n",
       "      <td>30.37</td>\n",
       "      <td>59.16</td>\n",
       "      <td>268.6</td>\n",
       "      <td>0.08996</td>\n",
       "      <td>0.06444</td>\n",
       "      <td>0.0000</td>\n",
       "      <td>0.0000</td>\n",
       "      <td>0.2871</td>\n",
       "      <td>0.07039</td>\n",
       "    </tr>\n",
       "  </tbody>\n",
       "</table>\n",
       "<p>569 rows × 31 columns</p>\n",
       "</div>"
      ],
      "text/plain": [
       "     malignant  radius_0  texture_0  perimeter_0  area_0  smoothness_0  \\\n",
       "0            1     17.99      10.38       122.80  1001.0       0.11840   \n",
       "1            1     20.57      17.77       132.90  1326.0       0.08474   \n",
       "2            1     19.69      21.25       130.00  1203.0       0.10960   \n",
       "3            1     11.42      20.38        77.58   386.1       0.14250   \n",
       "4            1     20.29      14.34       135.10  1297.0       0.10030   \n",
       "..         ...       ...        ...          ...     ...           ...   \n",
       "564          1     21.56      22.39       142.00  1479.0       0.11100   \n",
       "565          1     20.13      28.25       131.20  1261.0       0.09780   \n",
       "566          1     16.60      28.08       108.30   858.1       0.08455   \n",
       "567          1     20.60      29.33       140.10  1265.0       0.11780   \n",
       "568          0      7.76      24.54        47.92   181.0       0.05263   \n",
       "\n",
       "     compactness_0  concavity_0  concave points_0  symmetry_0  ...  radius_2  \\\n",
       "0          0.27760      0.30010           0.14710      0.2419  ...    25.380   \n",
       "1          0.07864      0.08690           0.07017      0.1812  ...    24.990   \n",
       "2          0.15990      0.19740           0.12790      0.2069  ...    23.570   \n",
       "3          0.28390      0.24140           0.10520      0.2597  ...    14.910   \n",
       "4          0.13280      0.19800           0.10430      0.1809  ...    22.540   \n",
       "..             ...          ...               ...         ...  ...       ...   \n",
       "564        0.11590      0.24390           0.13890      0.1726  ...    25.450   \n",
       "565        0.10340      0.14400           0.09791      0.1752  ...    23.690   \n",
       "566        0.10230      0.09251           0.05302      0.1590  ...    18.980   \n",
       "567        0.27700      0.35140           0.15200      0.2397  ...    25.740   \n",
       "568        0.04362      0.00000           0.00000      0.1587  ...     9.456   \n",
       "\n",
       "     texture_2  perimeter_2  area_2  smoothness_2  compactness_2  concavity_2  \\\n",
       "0        17.33       184.60  2019.0       0.16220        0.66560       0.7119   \n",
       "1        23.41       158.80  1956.0       0.12380        0.18660       0.2416   \n",
       "2        25.53       152.50  1709.0       0.14440        0.42450       0.4504   \n",
       "3        26.50        98.87   567.7       0.20980        0.86630       0.6869   \n",
       "4        16.67       152.20  1575.0       0.13740        0.20500       0.4000   \n",
       "..         ...          ...     ...           ...            ...          ...   \n",
       "564      26.40       166.10  2027.0       0.14100        0.21130       0.4107   \n",
       "565      38.25       155.00  1731.0       0.11660        0.19220       0.3215   \n",
       "566      34.12       126.70  1124.0       0.11390        0.30940       0.3403   \n",
       "567      39.42       184.60  1821.0       0.16500        0.86810       0.9387   \n",
       "568      30.37        59.16   268.6       0.08996        0.06444       0.0000   \n",
       "\n",
       "     concave points_2  symmetry_2  fractal dimension_2  \n",
       "0              0.2654      0.4601              0.11890  \n",
       "1              0.1860      0.2750              0.08902  \n",
       "2              0.2430      0.3613              0.08758  \n",
       "3              0.2575      0.6638              0.17300  \n",
       "4              0.1625      0.2364              0.07678  \n",
       "..                ...         ...                  ...  \n",
       "564            0.2216      0.2060              0.07115  \n",
       "565            0.1628      0.2572              0.06637  \n",
       "566            0.1418      0.2218              0.07820  \n",
       "567            0.2650      0.4087              0.12400  \n",
       "568            0.0000      0.2871              0.07039  \n",
       "\n",
       "[569 rows x 31 columns]"
      ]
     },
     "execution_count": 37,
     "metadata": {},
     "output_type": "execute_result"
    }
   ],
   "source": [
    "df"
   ]
  },
  {
   "cell_type": "markdown",
   "metadata": {
    "created_in_deepnote_cell": true,
    "deepnote_cell_type": "markdown",
    "tags": []
   },
   "source": [
    "<a style='text-decoration:none;line-height:16px;display:flex;color:#5B5B62;padding:10px;justify-content:end;' href='https://deepnote.com?utm_source=created-in-deepnote-cell&projectId=c3701b99-8098-40f2-b242-3851a87ef149' target=\"_blank\">\n",
    "<img alt='Created in deepnote.com' style='display:inline;max-height:16px;margin:0px;margin-right:7.5px;' src='data:image/svg+xml;base64,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' > </img>\n",
    "Created in <span style='font-weight:600;margin-left:4px;'>Deepnote</span></a>"
   ]
  }
 ],
 "metadata": {
  "deepnote": {},
  "deepnote_execution_queue": [],
  "deepnote_notebook_id": "7c339f72c3594c7bb4e1ecd5008b3cf1",
  "deepnote_persisted_session": {
   "createdAt": "2023-02-20T17:47:44.039Z"
  },
  "kernelspec": {
   "display_name": "Python 3 (ipykernel)",
   "language": "python",
   "name": "python3"
  },
  "language_info": {
   "codemirror_mode": {
    "name": "ipython",
    "version": 3
   },
   "file_extension": ".py",
   "mimetype": "text/x-python",
   "name": "python",
   "nbconvert_exporter": "python",
   "pygments_lexer": "ipython3",
   "version": "3.9.13"
  }
 },
 "nbformat": 4,
 "nbformat_minor": 1
}
